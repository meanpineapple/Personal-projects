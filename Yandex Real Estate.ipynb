{
 "cells": [
  {
   "cell_type": "markdown",
   "metadata": {},
   "source": [
    "# Research of advertisements of apartments for sale\n",
    "\n",
    "Data used: the data of the Yandex.Realty service - an archive of ads for the sale of apartments in St. Petersburg and neighboring settlements for several years.\\\n",
    "\n",
    "Task: We need to learn how to determine the market value of real estate. The job is to set the parameters. This will allow to build an automated system: it will track anomalies and fraudulent activity.\n",
    "\n",
    "Two types of data are available for each apartment for sale. The first ones are entered by the user, the second ones are obtained automatically on the basis of cartographic data. For example, the distance to the center, airport, nearest park and body of water."
   ]
  },
  {
   "cell_type": "markdown",
   "metadata": {},
   "source": [
    "### Opening file and studying general information."
   ]
  },
  {
   "cell_type": "code",
   "execution_count": 1,
   "metadata": {},
   "outputs": [],
   "source": [
    "import pandas as pd\n",
    "import matplotlib.pyplot as plt"
   ]
  },
  {
   "cell_type": "code",
   "execution_count": 2,
   "metadata": {},
   "outputs": [
    {
     "name": "stdout",
     "output_type": "stream",
     "text": [
      "<class 'pandas.core.frame.DataFrame'>\n",
      "RangeIndex: 23699 entries, 0 to 23698\n",
      "Data columns (total 22 columns):\n",
      " #   Column                Non-Null Count  Dtype  \n",
      "---  ------                --------------  -----  \n",
      " 0   total_images          23699 non-null  int64  \n",
      " 1   last_price            23699 non-null  float64\n",
      " 2   total_area            23699 non-null  float64\n",
      " 3   first_day_exposition  23699 non-null  object \n",
      " 4   rooms                 23699 non-null  int64  \n",
      " 5   ceiling_height        14504 non-null  float64\n",
      " 6   floors_total          23613 non-null  float64\n",
      " 7   living_area           21796 non-null  float64\n",
      " 8   floor                 23699 non-null  int64  \n",
      " 9   is_apartment          2775 non-null   object \n",
      " 10  studio                23699 non-null  bool   \n",
      " 11  open_plan             23699 non-null  bool   \n",
      " 12  kitchen_area          21421 non-null  float64\n",
      " 13  balcony               12180 non-null  float64\n",
      " 14  locality_name         23650 non-null  object \n",
      " 15  airports_nearest      18157 non-null  float64\n",
      " 16  cityCenters_nearest   18180 non-null  float64\n",
      " 17  parks_around3000      18181 non-null  float64\n",
      " 18  parks_nearest         8079 non-null   float64\n",
      " 19  ponds_around3000      18181 non-null  float64\n",
      " 20  ponds_nearest         9110 non-null   float64\n",
      " 21  days_exposition       20518 non-null  float64\n",
      "dtypes: bool(2), float64(14), int64(3), object(3)\n",
      "memory usage: 3.7+ MB\n"
     ]
    }
   ],
   "source": [
    "data = pd.read_csv('/datasets/real_estate_data.csv', sep = '\\t')\n",
    "data.info()"
   ]
  },
  {
   "cell_type": "markdown",
   "metadata": {},
   "source": [
    "We see a lot of lines containing nulls."
   ]
  },
  {
   "cell_type": "code",
   "execution_count": 3,
   "metadata": {},
   "outputs": [
    {
     "name": "stdout",
     "output_type": "stream",
     "text": [
      "   total_images  last_price  total_area first_day_exposition  rooms  \\\n",
      "0            20  13000000.0      108.00  2019-03-07T00:00:00      3   \n",
      "1             7   3350000.0       40.40  2018-12-04T00:00:00      1   \n",
      "2            10   5196000.0       56.00  2015-08-20T00:00:00      2   \n",
      "3             0  64900000.0      159.00  2015-07-24T00:00:00      3   \n",
      "4             2  10000000.0      100.00  2018-06-19T00:00:00      2   \n",
      "5            10   2890000.0       30.40  2018-09-10T00:00:00      1   \n",
      "6             6   3700000.0       37.30  2017-11-02T00:00:00      1   \n",
      "7             5   7915000.0       71.60  2019-04-18T00:00:00      2   \n",
      "8            20   2900000.0       33.16  2018-05-23T00:00:00      1   \n",
      "9            18   5400000.0       61.00  2017-02-26T00:00:00      3   \n",
      "\n",
      "   ceiling_height  floors_total  living_area  floor is_apartment  studio  \\\n",
      "0            2.70          16.0        51.00      8          NaN   False   \n",
      "1             NaN          11.0        18.60      1          NaN   False   \n",
      "2             NaN           5.0        34.30      4          NaN   False   \n",
      "3             NaN          14.0          NaN      9          NaN   False   \n",
      "4            3.03          14.0        32.00     13          NaN   False   \n",
      "5             NaN          12.0        14.40      5          NaN   False   \n",
      "6             NaN          26.0        10.60      6          NaN   False   \n",
      "7             NaN          24.0          NaN     22          NaN   False   \n",
      "8             NaN          27.0        15.43     26          NaN   False   \n",
      "9            2.50           9.0        43.60      7          NaN   False   \n",
      "\n",
      "   open_plan  kitchen_area  balcony              locality_name  \\\n",
      "0      False         25.00      NaN            Санкт-Петербург   \n",
      "1      False         11.00      2.0             посёлок Шушары   \n",
      "2      False          8.30      0.0            Санкт-Петербург   \n",
      "3      False           NaN      0.0            Санкт-Петербург   \n",
      "4      False         41.00      NaN            Санкт-Петербург   \n",
      "5      False          9.10      NaN  городской посёлок Янино-1   \n",
      "6      False         14.40      1.0          посёлок Парголово   \n",
      "7      False         18.90      2.0            Санкт-Петербург   \n",
      "8      False          8.81      NaN             посёлок Мурино   \n",
      "9      False          6.50      2.0            Санкт-Петербург   \n",
      "\n",
      "   airports_nearest  cityCenters_nearest  parks_around3000  parks_nearest  \\\n",
      "0           18863.0              16028.0               1.0          482.0   \n",
      "1           12817.0              18603.0               0.0            NaN   \n",
      "2           21741.0              13933.0               1.0           90.0   \n",
      "3           28098.0               6800.0               2.0           84.0   \n",
      "4           31856.0               8098.0               2.0          112.0   \n",
      "5               NaN                  NaN               NaN            NaN   \n",
      "6           52996.0              19143.0               0.0            NaN   \n",
      "7           23982.0              11634.0               0.0            NaN   \n",
      "8               NaN                  NaN               NaN            NaN   \n",
      "9           50898.0              15008.0               0.0            NaN   \n",
      "\n",
      "   ponds_around3000  ponds_nearest  days_exposition  \n",
      "0               2.0          755.0              NaN  \n",
      "1               0.0            NaN             81.0  \n",
      "2               2.0          574.0            558.0  \n",
      "3               3.0          234.0            424.0  \n",
      "4               1.0           48.0            121.0  \n",
      "5               NaN            NaN             55.0  \n",
      "6               0.0            NaN            155.0  \n",
      "7               0.0            NaN              NaN  \n",
      "8               NaN            NaN            189.0  \n",
      "9               0.0            NaN            289.0  \n"
     ]
    }
   ],
   "source": [
    "with pd.option_context('display.max_columns', 50):\n",
    "    print (data.head(10))"
   ]
  },
  {
   "cell_type": "markdown",
   "metadata": {},
   "source": [
    "Combined with displaying information by columns and displaying the top 10 rows, you can see that not all columns are formatted correctly."
   ]
  },
  {
   "cell_type": "code",
   "execution_count": 4,
   "metadata": {},
   "outputs": [
    {
     "data": {
      "image/png": "[encoded data removed]",
      "text/plain": [
       "<Figure size 1080x1440 with 20 Axes>"
      ]
     },
     "metadata": {
      "needs_background": "light"
     },
     "output_type": "display_data"
    }
   ],
   "source": [
    "data.hist(figsize=(15, 20));"
   ]
  },
  {
   "cell_type": "markdown",
   "metadata": {},
   "source": [
    "At first glance at the graphs, one can decide that all the values are within the normal range, but most likely this is not the case. We will need to check this in the future."
   ]
  },
  {
   "cell_type": "markdown",
   "metadata": {},
   "source": [
    "### Data transformation"
   ]
  },
  {
   "cell_type": "markdown",
   "metadata": {},
   "source": [
    "#### Duplicates handling"
   ]
  },
  {
   "cell_type": "code",
   "execution_count": 5,
   "metadata": {},
   "outputs": [
    {
     "name": "stdout",
     "output_type": "stream",
     "text": [
      "0\n"
     ]
    }
   ],
   "source": [
    "print(data.duplicated().sum())"
   ]
  },
  {
   "cell_type": "markdown",
   "metadata": {},
   "source": [
    "There are no absolute duplicates in the table. But it is quite possible that this is due to single differences in the cells."
   ]
  },
  {
   "cell_type": "code",
   "execution_count": 6,
   "metadata": {},
   "outputs": [
    {
     "name": "stdout",
     "output_type": "stream",
     "text": [
      "Санкт-Петербург            15721\n",
      "посёлок Мурино               522\n",
      "посёлок Шушары               440\n",
      "Всеволожск                   398\n",
      "Пушкин                       369\n",
      "                           ...  \n",
      "деревня Хапо-Ое                1\n",
      "посёлок Плоское                1\n",
      "деревня Малая Романовка        1\n",
      "посёлок Шугозеро               1\n",
      "поселок Гаврилово              1\n",
      "Name: locality_name, Length: 364, dtype: int64\n"
     ]
    }
   ],
   "source": [
    "print(data['locality_name'].value_counts())"
   ]
  },
  {
   "cell_type": "markdown",
   "metadata": {},
   "source": [
    "It is possible that the names are duplicated. This could have been avoided if there had been an additional postcode column.\n",
    "\n",
    "Duplicates need to be removed:\n",
    "1) Replace 'Ё' with 'Е'\n",
    "2) remove the \"village\" or display it in a separate column City / Village. If we had a chance, we would inquire Subject Matter Expert (hereinafter SME) to give us guidance\\\n",
    "3) make any other corrections of duplicates"
   ]
  },
  {
   "cell_type": "code",
   "execution_count": 7,
   "metadata": {},
   "outputs": [
    {
     "name": "stdout",
     "output_type": "stream",
     "text": [
      "Санкт-Петербург            15721\n",
      "посёлок Мурино               522\n",
      "посёлок Шушары               440\n",
      "Всеволожск                   398\n",
      "Пушкин                       369\n",
      "                           ...  \n",
      "деревня Хапо-Ое                1\n",
      "посёлок Плоское                1\n",
      "деревня Малая Романовка        1\n",
      "посёлок Шугозеро               1\n",
      "поселок Гаврилово              1\n",
      "Name: locality_name, Length: 364, dtype: int64\n"
     ]
    }
   ],
   "source": [
    "print(data['locality_name'].value_counts())"
   ]
  },
  {
   "cell_type": "code",
   "execution_count": 8,
   "metadata": {},
   "outputs": [
    {
     "name": "stdout",
     "output_type": "stream",
     "text": [
      "['Бокситогорск', 'Волосово', 'Волхов', 'Всеволожск', 'Выборг', 'Высоцк', 'Гатчина', 'Зеленогорск', 'Ивангород', 'Каменногорск', 'Кингисепп', 'Кириши', 'Кировск', 'Колпино', 'Коммунар', 'Красное Село', 'Кронштадт', 'Кудрово', 'Лодейное Поле', 'Ломоносов', 'Луга', 'Любань', 'Мурино', 'Никольское', 'Новая Ладога', 'Отрадное', 'Павловск', 'Петергоф', 'Пикалёво', 'Подпорожье', 'Приморск', 'Приозерск', 'Пушкин', 'Санкт-Петербург', 'Светогорск', 'Сертолово', 'Сестрорецк', 'Сланцы', 'Сосновый Бор', 'Сясьстрой', 'Тихвин', 'Тосно', 'Шлиссельбург', 'городской поселок Большая Ижора', 'городской поселок Янино-1', 'городской посёлок Будогощь', 'городской посёлок Виллози', 'городской посёлок Лесогорский', 'городской посёлок Мга', 'городской посёлок Назия', 'городской посёлок Новоселье', 'городской посёлок Павлово', 'городской посёлок Рощино', 'городской посёлок Свирьстрой', 'городской посёлок Советский', 'городской посёлок Фёдоровское', 'городской посёлок Янино-1', 'деревня Агалатово', 'деревня Аро', 'деревня Батово', 'деревня Бегуницы', 'деревня Белогорка', 'деревня Большая Вруда', 'деревня Большая Пустомержа', 'деревня Большие Колпаны', 'деревня Большое Рейзино', 'деревня Большой Сабск', 'деревня Бор', 'деревня Борисова Грива', 'деревня Ваганово', 'деревня Вартемяги', 'деревня Вахнова Кара', 'деревня Выскатка', 'деревня Гарболово', 'деревня Глинка', 'деревня Горбунки', 'деревня Гостилицы', 'деревня Заклинье', 'деревня Заневка', 'деревня Зимитицы', 'деревня Извара', 'деревня Иссад', 'деревня Калитино', 'деревня Кальтино', 'деревня Камышовка', 'деревня Каськово', 'деревня Келози', 'деревня Кипень', 'деревня Кисельня', 'деревня Колтуши', 'деревня Коркино', 'деревня Котлы', 'деревня Кривко', 'деревня Кудрово', 'деревня Кузьмолово', 'деревня Курковицы', 'деревня Куровицы', 'деревня Куттузи', 'деревня Лаврики', 'деревня Лаголово', 'деревня Лампово', 'деревня Лесколово', 'деревня Лопухинка', 'деревня Лупполово', 'деревня Малая Романовка', 'деревня Малое Верево', 'деревня Малое Карлино', 'деревня Малые Колпаны', 'деревня Мануйлово', 'деревня Меньково', 'деревня Мины', 'деревня Мистолово', 'деревня Ненимяки', 'деревня Нижние Осельки', 'деревня Нижняя', 'деревня Низино', 'деревня Новое Девяткино', 'деревня Новолисино', 'деревня Нурма', 'деревня Оржицы', 'деревня Парицы', 'деревня Пельгора', 'деревня Пеники', 'деревня Пижма', 'деревня Пикколово', 'деревня Пудомяги', 'деревня Пустынка', 'деревня Пчева', 'деревня Рабитицы', 'деревня Разбегаево', 'деревня Раздолье', 'деревня Разметелево', 'деревня Рапполово', 'деревня Реброво', 'деревня Русско', 'деревня Сижно', 'деревня Снегирёвка', 'деревня Старая', 'деревня Старая Пустошь', 'деревня Старое Хинколово', 'деревня Старополье', 'деревня Старосиверская', 'деревня Старые Бегуницы', 'деревня Суоранда', 'деревня Сяськелево', 'деревня Тарасово', 'деревня Терпилицы', 'деревня Тихковицы', 'деревня Тойворово', 'деревня Торосово', 'деревня Торошковичи', 'деревня Трубников Бор', 'деревня Фалилеево', 'деревня Фёдоровское', 'деревня Хапо-Ое', 'деревня Хязельки', 'деревня Чудской Бор', 'деревня Шпаньково', 'деревня Щеглово', 'деревня Юкки', 'деревня Ялгино', 'деревня Яльгелево', 'деревня Ям-Тесово', 'коттеджный поселок Кивеннапа Север', 'коттеджный поселок Счастье', 'коттеджный посёлок Лесное', 'поселок Аннино', 'поселок Барышево', 'поселок Бугры', 'поселок Возрождение', 'поселок Войсковицы', 'поселок Володарское', 'поселок Гаврилово', 'поселок Гарболово', 'поселок Гладкое', 'поселок Глажево', 'поселок Глебычево', 'поселок Гончарово', 'поселок Громово', 'поселок Дружноселье', 'поселок Елизаветино', 'поселок Жилгородок', 'поселок Жилпосёлок', 'поселок Житково', 'поселок Заводской', 'поселок Запорожское', 'поселок Зимитицы', 'поселок Ильичёво', 'поселок Калитино', 'поселок Каложицы', 'поселок Кингисеппский', 'поселок Кирпичное', 'поселок Кобралово', 'поселок Кобринское', 'поселок Коммунары', 'поселок Коробицыно', 'поселок Котельский', 'поселок Красная Долина', 'поселок Красносельское', 'поселок Лесное', 'поселок Лисий Нос', 'поселок Лукаши', 'поселок Любань', 'поселок Мельниково', 'поселок Мичуринское', 'поселок Молодцово', 'поселок Мурино', 'поселок Новый Свет', 'поселок Новый Учхоз', 'поселок Оредеж', 'поселок Пансионат Зелёный Бор', 'поселок Первомайское', 'поселок Перово', 'поселок Петровское', 'поселок Победа', 'поселок Поляны', 'поселок Почап', 'поселок Починок', 'поселок Пушное', 'поселок Пчевжа', 'поселок Рабитицы', 'поселок Романовка', 'поселок Ромашки', 'поселок Рябово', 'поселок Севастьяново', 'поселок Селезнёво', 'поселок Сельцо', 'поселок Семиозерье', 'поселок Семрино', 'поселок Серебрянский', 'поселок Совхозный', 'поселок Старая Малукса', 'поселок Стеклянный', 'поселок Сумино', 'поселок Суходолье', 'поселок Тельмана', 'поселок Терволово', 'поселок Торковичи', 'поселок Тёсово-4', 'поселок Углово', 'поселок Усть-Луга', 'поселок Ушаки', 'поселок Цвелодубово', 'поселок Цвылёво', 'поселок городского типа Большая Ижора', 'поселок городского типа Вырица', 'поселок городского типа Дружная Горка', 'поселок городского типа Дубровка', 'поселок городского типа Ефимовский', 'поселок городского типа Кондратьево', 'поселок городского типа Красный Бор', 'поселок городского типа Кузьмоловский', 'поселок городского типа Лебяжье', 'поселок городского типа Лесогорский', 'поселок городского типа Назия', 'поселок городского типа Никольский', 'поселок городского типа Приладожский', 'поселок городского типа Рахья', 'поселок городского типа Рощино', 'поселок городского типа Рябово', 'поселок городского типа Синявино', 'поселок городского типа Советский', 'поселок городского типа Токсово', 'поселок городского типа Форносово', 'поселок городского типа имени Свердлова', 'поселок станции Вещево', 'поселок станции Корнево', 'поселок станции Лужайка', 'поселок станции Приветнинское', 'посёлок Александровская', 'посёлок Алексеевка', 'посёлок Аннино', 'посёлок Белоостров', 'посёлок Бугры', 'посёлок Возрождение', 'посёлок Войскорово', 'посёлок Высокоключевой', 'посёлок Гаврилово', 'посёлок Дзержинского', 'посёлок Жилгородок', 'посёлок Ильичёво', 'посёлок Кикерино', 'посёлок Кобралово', 'посёлок Коробицыно', 'посёлок Левашово', 'посёлок Ленинское', 'посёлок Лисий Нос', 'посёлок Мельниково', 'посёлок Металлострой', 'посёлок Мичуринское', 'посёлок Молодёжное', 'посёлок Мурино', 'посёлок Мыза-Ивановка', 'посёлок Новогорелово', 'посёлок Новый Свет', 'посёлок Пансионат Зелёный Бор', 'посёлок Парголово', 'посёлок Перово', 'посёлок Песочный', 'посёлок Петро-Славянка', 'посёлок Петровское', 'посёлок Платформа 69-й километр', 'посёлок Плодовое', 'посёлок Плоское', 'посёлок Победа', 'посёлок Поляны', 'посёлок Понтонный', 'посёлок Пригородный', 'посёлок Пудость', 'посёлок Репино', 'посёлок Ропша', 'посёлок Сапёрное', 'посёлок Сапёрный', 'посёлок Сосново', 'посёлок Старая Малукса', 'посёлок Стеклянный', 'посёлок Стрельна', 'посёлок Суйда', 'посёлок Сумино', 'посёлок Тельмана', 'посёлок Терволово', 'посёлок Торфяное', 'посёлок Усть-Ижора', 'посёлок Усть-Луга', 'посёлок Форт Красная Горка', 'посёлок Шугозеро', 'посёлок Шушары', 'посёлок Щеглово', 'посёлок городского типа Важины', 'посёлок городского типа Вознесенье', 'посёлок городского типа Вырица', 'посёлок городского типа Красный Бор', 'посёлок городского типа Кузнечное', 'посёлок городского типа Кузьмоловский', 'посёлок городского типа Лебяжье', 'посёлок городского типа Мга', 'посёлок городского типа Павлово', 'посёлок городского типа Рощино', 'посёлок городского типа Рябово', 'посёлок городского типа Сиверский', 'посёлок городского типа Тайцы', 'посёлок городского типа Токсово', 'посёлок городского типа Ульяновка', 'посёлок городского типа Форносово', 'посёлок городского типа имени Морозова', 'посёлок городского типа имени Свердлова', 'посёлок при железнодорожной станции Вещево', 'посёлок при железнодорожной станции Приветнинское', 'посёлок станции Громово', 'посёлок станции Свирь', 'садоводческое некоммерческое товарищество Лесная Поляна', 'садовое товарищество Новая Ропша', 'садовое товарищество Приладожский', 'садовое товарищество Рахья', 'садовое товарищество Садко', 'село Копорье', 'село Никольское', 'село Павлово', 'село Паша', 'село Путилово', 'село Рождествено', 'село Русско-Высоцкое', 'село Старая Ладога', 'село Шум', nan]\n"
     ]
    }
   ],
   "source": [
    "print(list(data['locality_name'].sort_values().unique()))\n",
    "data['locality_name'] = data['locality_name'].str.replace('ё','е')\n",
    "data['locality_name'] = data['locality_name'].str.replace('городского типа ','')\n",
    "data['locality_name'] = data['locality_name'].str.replace('коттеджный ','')\n",
    "data['locality_name'] = data['locality_name'].str.replace('городской ','')\n",
    "data['locality_name'] = data['locality_name'].str.replace('при железнодорожной ','')\n",
    "data['locality_name'] = data['locality_name'].str.replace('имени ','')\n",
    "data['locality_name'] = data['locality_name'].str.replace('некоммерческое ','')"
   ]
  },
  {
   "cell_type": "code",
   "execution_count": 9,
   "metadata": {},
   "outputs": [
    {
     "name": "stdout",
     "output_type": "stream",
     "text": [
      "True     19163\n",
      "False     4487\n",
      "Name: locality_type_city, dtype: int64\n"
     ]
    }
   ],
   "source": [
    "def categorized_locality_name(place):\n",
    "    try:\n",
    "        if 'поселок' in place or 'село' in place or 'деревня' in place or 'товарищество' in place:\n",
    "            return False #Not city\n",
    "        elif place.endswith('во') or place.endswith('но') or place.endswith('ко'):\n",
    "            return False #Not city\n",
    "        else:\n",
    "            return True  #City\n",
    "    except:\n",
    "        pass\n",
    "    \n",
    "data['locality_type_city'] = data['locality_name'].apply(categorized_locality_name)\n",
    "print(data['locality_type_city'].value_counts())"
   ]
  },
  {
   "cell_type": "markdown",
   "metadata": {},
   "source": [
    "We have created an additional column with auxiliary features. Some lines, such as Kudrovo, technically did not contain a description of a settlement, but almost everything ending in \"o\" is not a city. Therefore, the Kudrovo category without a prefix will be False - not a city. Let's check the conditions."
   ]
  },
  {
   "cell_type": "code",
   "execution_count": 10,
   "metadata": {},
   "outputs": [
    {
     "name": "stdout",
     "output_type": "stream",
     "text": [
      "False    173\n",
      "Name: locality_type_city, dtype: int64\n"
     ]
    }
   ],
   "source": [
    "print(data.loc[data['locality_name'] == 'Кудрово', 'locality_type_city'].value_counts())"
   ]
  },
  {
   "cell_type": "markdown",
   "metadata": {},
   "source": [
    "The formula works as expected. We can go on with a complete cleaning of the names - as we have seen, some names have the prefix village and also do not have it in some lines. Therefore, it can be assumed that all such values are one locality."
   ]
  },
  {
   "cell_type": "code",
   "execution_count": 11,
   "metadata": {},
   "outputs": [
    {
     "name": "stdout",
     "output_type": "stream",
     "text": [
      "Санкт-Петербург    15721\n",
      "Мурино               590\n",
      "Кудрово              472\n",
      "Шушары               440\n",
      "Всеволожск           398\n",
      "                   ...  \n",
      "Кивеннапа Север        1\n",
      "Ялгино                 1\n",
      "Кондратьево            1\n",
      "Левашово               1\n",
      "Счастье                1\n",
      "Name: locality_name, Length: 310, dtype: int64\n"
     ]
    }
   ],
   "source": [
    "data['locality_name'] = data['locality_name'].str.replace('поселок ','')\n",
    "data['locality_name'] = data['locality_name'].str.replace('деревня ','')\n",
    "print(data['locality_name'].value_counts())"
   ]
  },
  {
   "cell_type": "markdown",
   "metadata": {},
   "source": [
    "Implicit duplicates have been replaced - a village 'поселок' and a settlement 'село' are considered two different administrative units, so we won't remove the settlement. Let's check again if there are absolute duplicates."
   ]
  },
  {
   "cell_type": "code",
   "execution_count": 12,
   "metadata": {},
   "outputs": [
    {
     "name": "stdout",
     "output_type": "stream",
     "text": [
      "0\n"
     ]
    }
   ],
   "source": [
    "print(data.duplicated().sum())"
   ]
  },
  {
   "cell_type": "markdown",
   "metadata": {},
   "source": [
    "After clearing the values, there were no absolute duplicates - it means that the table most likely really consists of unique rows. In any case, even if there are 5% of duplicate rows of the total, this will not greatly affect the totals - only if the values do not fall out of the total."
   ]
  },
  {
   "cell_type": "markdown",
   "metadata": {},
   "source": [
    "#### NULLs handling"
   ]
  },
  {
   "cell_type": "code",
   "execution_count": 13,
   "metadata": {},
   "outputs": [
    {
     "name": "stdout",
     "output_type": "stream",
     "text": [
      "total_images                0\n",
      "last_price                  0\n",
      "total_area                  0\n",
      "first_day_exposition        0\n",
      "rooms                       0\n",
      "ceiling_height           9195\n",
      "floors_total               86\n",
      "living_area              1903\n",
      "floor                       0\n",
      "is_apartment            20924\n",
      "studio                      0\n",
      "open_plan                   0\n",
      "kitchen_area             2278\n",
      "balcony                 11519\n",
      "locality_name              49\n",
      "airports_nearest         5542\n",
      "cityCenters_nearest      5519\n",
      "parks_around3000         5518\n",
      "parks_nearest           15620\n",
      "ponds_around3000         5518\n",
      "ponds_nearest           14589\n",
      "days_exposition          3181\n",
      "locality_type_city         49\n",
      "dtype: int64\n"
     ]
    }
   ],
   "source": [
    "print(data.isna().sum())"
   ]
  },
  {
   "cell_type": "markdown",
   "metadata": {},
   "source": [
    "It can be seen that there are many gaps in the table. Most likely, many depend on each other, such as open_plan and kitchen_area. Let's check below."
   ]
  },
  {
   "cell_type": "markdown",
   "metadata": {},
   "source": [
    "#### Handling locality_name"
   ]
  },
  {
   "cell_type": "markdown",
   "metadata": {},
   "source": [
    "We have already cleared the names in this column, but now we need to fill in the empty values with some conditional ones."
   ]
  },
  {
   "cell_type": "code",
   "execution_count": 14,
   "metadata": {},
   "outputs": [
    {
     "name": "stdout",
     "output_type": "stream",
     "text": [
      "       total_images  last_price  total_area first_day_exposition  rooms  \\\n",
      "1097              3   8600000.0       81.70  2016-04-15T00:00:00      3   \n",
      "2033              6   5398000.0       80.00  2017-05-30T00:00:00      3   \n",
      "2603             20   3351765.0       42.70  2015-09-20T00:00:00      1   \n",
      "2632              2   5130593.0       62.40  2015-10-11T00:00:00      2   \n",
      "3574             10   4200000.0       46.50  2016-05-28T00:00:00      2   \n",
      "4151             17  17600000.0       89.50  2014-12-09T00:00:00      2   \n",
      "4189              7   9200000.0       80.00  2015-12-10T00:00:00      3   \n",
      "4670              1   5500000.0       83.00  2015-08-14T00:00:00      3   \n",
      "5343             19  13540000.0       85.50  2016-01-20T00:00:00      3   \n",
      "5707              7   3700000.0       30.00  2016-04-29T00:00:00      1   \n",
      "6765             20   4895892.0       60.70  2015-03-12T00:00:00      2   \n",
      "7114              5   4250000.0       56.00  2016-03-16T00:00:00      3   \n",
      "7330              8   5100000.0       63.00  2015-01-27T00:00:00      3   \n",
      "7600              8   6800000.0       70.00  2016-01-31T00:00:00      3   \n",
      "8568             10  16000000.0      155.00  2016-05-09T00:00:00      3   \n",
      "8986             10   4850000.0      103.10  2018-07-10T00:00:00      3   \n",
      "9821             13   8000000.0       94.50  2015-01-21T00:00:00      4   \n",
      "10122             5   8200000.0       83.00  2015-06-24T00:00:00      4   \n",
      "11248            12   6300000.0       63.10  2015-01-16T00:00:00      4   \n",
      "12879            12   4400000.0       39.20  2016-04-26T00:00:00      1   \n",
      "12936             6   6800000.0       73.00  2015-11-01T00:00:00      3   \n",
      "13223             1   2919911.0       29.40  2015-03-12T00:00:00      1   \n",
      "13690             7   3500000.0       71.00  2016-06-23T00:00:00      3   \n",
      "14273             2   4422000.0       60.00  2016-03-23T00:00:00      2   \n",
      "14342             3   3611000.0       53.50  2017-04-27T00:00:00      1   \n",
      "15686            13   4700000.0       44.00  2015-12-01T00:00:00      2   \n",
      "15866            10   3950000.0       44.00  2016-04-16T00:00:00      2   \n",
      "16499             2   4995573.0       56.90  2016-06-17T00:00:00      2   \n",
      "16561             3   2450000.0       30.00  2016-06-02T00:00:00      1   \n",
      "16610            11  11940000.0      112.00  2015-11-19T00:00:00      3   \n",
      "17535             2   5985000.0       79.80  2018-07-30T00:00:00      3   \n",
      "17764             9   8400000.0       94.00  2016-01-24T00:00:00      3   \n",
      "18526             3  10800000.0       86.00  2016-06-24T00:00:00      4   \n",
      "18917             3   2660000.0       37.99  2017-08-17T00:00:00      1   \n",
      "19045             6   4650000.0       48.00  2016-01-25T00:00:00      2   \n",
      "19972            20   4361004.0       62.40  2015-09-20T00:00:00      2   \n",
      "20057            13  11500000.0      102.00  2015-10-14T00:00:00      2   \n",
      "20382             8   1750000.0       72.90  2018-10-27T00:00:00      3   \n",
      "20590             7   3380000.0       56.00  2017-11-06T00:00:00      2   \n",
      "20654             7   6100000.0       43.00  2016-01-13T00:00:00      1   \n",
      "21119             8   3500000.0       43.20  2018-11-11T00:00:00      2   \n",
      "21276             0  17122148.0      178.30  2017-02-10T00:00:00      1   \n",
      "21333            10   5900000.0       58.00  2015-03-12T00:00:00      3   \n",
      "21715             2   6047550.0       80.10  2018-07-30T00:00:00      2   \n",
      "21898             2   5886750.0       83.50  2018-07-30T00:00:00      2   \n",
      "22474             7  24000000.0      128.00  2015-07-24T00:00:00      4   \n",
      "22717             9   3000000.0       35.00  2018-01-02T00:00:00      1   \n",
      "22933            20   3176015.0       33.30  2015-04-22T00:00:00      1   \n",
      "23214             3   7990000.0       56.00  2016-05-31T00:00:00      2   \n",
      "\n",
      "       ceiling_height  floors_total  living_area  floor is_apartment  ...  \\\n",
      "1097             3.55           5.0        50.80      2          NaN  ...   \n",
      "2033              NaN           4.0        42.60      2          NaN  ...   \n",
      "2603              NaN          24.0        15.60      3          NaN  ...   \n",
      "2632              NaN          24.0        33.10     21          NaN  ...   \n",
      "3574              NaN           5.0        30.80      5          NaN  ...   \n",
      "4151             3.00           8.0        39.62      7          NaN  ...   \n",
      "4189             4.00           4.0        52.30      3        False  ...   \n",
      "4670              NaN           7.0          NaN      6          NaN  ...   \n",
      "5343              NaN           7.0        59.10      5        False  ...   \n",
      "5707              NaN          24.0        20.00     23          NaN  ...   \n",
      "6765              NaN          24.0        31.90      3          NaN  ...   \n",
      "7114              NaN           5.0        40.00      4          NaN  ...   \n",
      "7330              NaN           5.0        42.00      1        False  ...   \n",
      "7600              NaN          11.0        42.00      9          NaN  ...   \n",
      "8568              NaN           6.0        94.00      3          NaN  ...   \n",
      "8986              NaN           NaN        68.10      4          NaN  ...   \n",
      "9821             3.00           2.0        57.80      2          NaN  ...   \n",
      "10122             NaN           5.0        53.00      2          NaN  ...   \n",
      "11248             NaN           8.0        44.00      7          NaN  ...   \n",
      "12879             NaN          12.0        20.00     12        False  ...   \n",
      "12936             NaN           5.0        53.10      2          NaN  ...   \n",
      "13223            2.75          24.0        21.10      2          NaN  ...   \n",
      "13690            2.75           2.0        45.60      1        False  ...   \n",
      "14273            2.75          23.0        32.00     14          NaN  ...   \n",
      "14342             NaN           4.0        25.80      3        False  ...   \n",
      "15686             NaN           5.0        28.00      3          NaN  ...   \n",
      "15866            2.70           5.0        28.50      5        False  ...   \n",
      "16499             NaN          24.0        29.20     14          NaN  ...   \n",
      "16561             NaN           4.0        17.00      2          NaN  ...   \n",
      "16610            3.00           5.0        64.00      2          NaN  ...   \n",
      "17535             NaN           9.0          NaN      2        False  ...   \n",
      "17764             NaN          23.0        52.00      5          NaN  ...   \n",
      "18526            3.20           7.0        48.00      2          NaN  ...   \n",
      "18917             NaN           4.0        13.00      1          NaN  ...   \n",
      "19045            3.12           5.0        26.20      1        False  ...   \n",
      "19972             NaN          24.0        33.10     21          NaN  ...   \n",
      "20057             NaN           5.0        70.00      2          NaN  ...   \n",
      "20382             NaN           5.0        47.30      2          NaN  ...   \n",
      "20590            2.70           4.0        29.00      3          NaN  ...   \n",
      "20654             NaN           5.0        21.00      3          NaN  ...   \n",
      "21119             NaN           4.0          NaN      2          NaN  ...   \n",
      "21276             NaN           3.0          NaN      1          NaN  ...   \n",
      "21333             NaN           6.0        35.20      6        False  ...   \n",
      "21715             NaN           9.0        30.50      2        False  ...   \n",
      "21898             NaN           9.0        36.60      2        False  ...   \n",
      "22474            2.75           6.0        68.40      6        False  ...   \n",
      "22717            2.60          16.0        16.00      7        False  ...   \n",
      "22933             NaN          23.0        15.40     22          NaN  ...   \n",
      "23214             NaN           6.0          NaN      5        False  ...   \n",
      "\n",
      "       balcony  locality_name  airports_nearest  cityCenters_nearest  \\\n",
      "1097       0.0            NaN           23478.0               4258.0   \n",
      "2033       0.0            NaN               NaN                  NaN   \n",
      "2603       0.0            NaN           22041.0              17369.0   \n",
      "2632       0.0            NaN           22041.0              17369.0   \n",
      "3574       0.0            NaN           27419.0               8127.0   \n",
      "4151       0.0            NaN           25054.0               3902.0   \n",
      "4189       0.0            NaN           21774.0               3039.0   \n",
      "4670       0.0            NaN           26534.0               5382.0   \n",
      "5343       4.0            NaN           10556.0               9538.0   \n",
      "5707       0.0            NaN           21460.0              16788.0   \n",
      "6765       0.0            NaN           22041.0              17369.0   \n",
      "7114       0.0            NaN           14031.0               8582.0   \n",
      "7330       0.0            NaN           25925.0               4627.0   \n",
      "7600       1.0            NaN           37123.0              12332.0   \n",
      "8568       0.0            NaN           24233.0               4065.0   \n",
      "8986       NaN            NaN           19659.0              31813.0   \n",
      "9821       0.0            NaN           24953.0               3801.0   \n",
      "10122      0.0            NaN           25771.0               4474.0   \n",
      "11248      0.0            NaN           25221.0               4069.0   \n",
      "12879      0.0            NaN           37123.0              12332.0   \n",
      "12936      0.0            NaN           25680.0               4383.0   \n",
      "13223      0.0            NaN           22041.0              17369.0   \n",
      "13690      2.0            NaN           20234.0              23659.0   \n",
      "14273      0.0            NaN           22041.0              17369.0   \n",
      "14342      1.0            NaN               NaN                  NaN   \n",
      "15686      0.0            NaN           35920.0               9633.0   \n",
      "15866      1.0            NaN           36380.0               9497.0   \n",
      "16499      0.0            NaN           22041.0              17369.0   \n",
      "16561      1.0            NaN           21731.0               8619.0   \n",
      "16610      0.0            NaN           21219.0               1322.0   \n",
      "17535      NaN            NaN               NaN                  NaN   \n",
      "17764      0.0            NaN           36865.0              10976.0   \n",
      "18526      0.0            NaN           11206.0               8943.0   \n",
      "18917      0.0            NaN           21540.0               8429.0   \n",
      "19045      0.0            NaN           21654.0               3312.0   \n",
      "19972      0.0            NaN           22041.0              17369.0   \n",
      "20057      0.0            NaN           23478.0               4258.0   \n",
      "20382      NaN            NaN               NaN                  NaN   \n",
      "20590      1.0            NaN               NaN                  NaN   \n",
      "20654      1.0            NaN           24385.0               4604.0   \n",
      "21119      NaN            NaN           19744.0              31897.0   \n",
      "21276      1.0            NaN           60195.0              41294.0   \n",
      "21333      0.0            NaN           26090.0               4805.0   \n",
      "21715      NaN            NaN               NaN                  NaN   \n",
      "21898      NaN            NaN               NaN                  NaN   \n",
      "22474      0.0            NaN           23297.0               1780.0   \n",
      "22717      1.0            NaN               NaN                  NaN   \n",
      "22933      0.0            NaN           22041.0              17369.0   \n",
      "23214      0.0            NaN           11206.0               8943.0   \n",
      "\n",
      "      parks_around3000  parks_nearest  ponds_around3000  ponds_nearest  \\\n",
      "1097               0.0            NaN               0.0            NaN   \n",
      "2033               NaN            NaN               NaN            NaN   \n",
      "2603               0.0            NaN               1.0          374.0   \n",
      "2632               0.0            NaN               1.0          374.0   \n",
      "3574               0.0            NaN               1.0          603.0   \n",
      "4151               1.0          485.0               3.0          722.0   \n",
      "4189               1.0          690.0               1.0          953.0   \n",
      "4670               1.0          446.0               1.0          376.0   \n",
      "5343               1.0           67.0               0.0            NaN   \n",
      "5707               0.0            NaN               1.0          170.0   \n",
      "6765               0.0            NaN               1.0          374.0   \n",
      "7114               0.0            NaN               0.0            NaN   \n",
      "7330               2.0          459.0               0.0            NaN   \n",
      "7600               0.0            NaN               0.0            NaN   \n",
      "8568               1.0          547.0               0.0            NaN   \n",
      "8986               0.0            NaN               0.0            NaN   \n",
      "9821               1.0          375.0               2.0          532.0   \n",
      "10122              2.0          374.0               0.0            NaN   \n",
      "11248              0.0            NaN               2.0          653.0   \n",
      "12879              0.0            NaN               0.0            NaN   \n",
      "12936              3.0          336.0               0.0            NaN   \n",
      "13223              0.0            NaN               1.0          374.0   \n",
      "13690              0.0            NaN               2.0          296.0   \n",
      "14273              0.0            NaN               1.0          374.0   \n",
      "14342              NaN            NaN               NaN            NaN   \n",
      "15686              2.0          472.0               3.0          535.0   \n",
      "15866              1.0          634.0               3.0          513.0   \n",
      "16499              0.0            NaN               1.0          374.0   \n",
      "16561              0.0            NaN               3.0          162.0   \n",
      "16610              1.0          740.0               3.0          365.0   \n",
      "17535              NaN            NaN               NaN            NaN   \n",
      "17764              0.0            NaN               1.0          856.0   \n",
      "18526              0.0            NaN               0.0            NaN   \n",
      "18917              0.0            NaN               3.0          142.0   \n",
      "19045              1.0          549.0               1.0          858.0   \n",
      "19972              0.0            NaN               1.0          374.0   \n",
      "20057              0.0            NaN               0.0            NaN   \n",
      "20382              NaN            NaN               NaN            NaN   \n",
      "20590              NaN            NaN               NaN            NaN   \n",
      "20654              1.0          700.0               0.0            NaN   \n",
      "21119              0.0            NaN               0.0            NaN   \n",
      "21276              0.0            NaN               0.0            NaN   \n",
      "21333              0.0            NaN               1.0          943.0   \n",
      "21715              NaN            NaN               NaN            NaN   \n",
      "21898              NaN            NaN               NaN            NaN   \n",
      "22474              3.0          277.0               3.0          561.0   \n",
      "22717              NaN            NaN               NaN            NaN   \n",
      "22933              0.0            NaN               1.0          374.0   \n",
      "23214              0.0            NaN               0.0            NaN   \n",
      "\n",
      "       days_exposition  locality_type_city  \n",
      "1097             147.0                 NaN  \n",
      "2033              34.0                 NaN  \n",
      "2603             276.0                 NaN  \n",
      "2632             256.0                 NaN  \n",
      "3574              45.0                 NaN  \n",
      "4151             869.0                 NaN  \n",
      "4189             223.0                 NaN  \n",
      "4670             350.0                 NaN  \n",
      "5343             303.0                 NaN  \n",
      "5707              49.0                 NaN  \n",
      "6765             468.0                 NaN  \n",
      "7114              96.0                 NaN  \n",
      "7330             566.0                 NaN  \n",
      "7600             209.0                 NaN  \n",
      "8568             248.0                 NaN  \n",
      "8986              28.0                 NaN  \n",
      "9821             531.0                 NaN  \n",
      "10122            364.0                 NaN  \n",
      "11248            551.0                 NaN  \n",
      "12879            179.0                 NaN  \n",
      "12936            542.0                 NaN  \n",
      "13223            470.0                 NaN  \n",
      "13690             92.0                 NaN  \n",
      "14273             90.0                 NaN  \n",
      "14342             92.0                 NaN  \n",
      "15686            280.0                 NaN  \n",
      "15866             85.0                 NaN  \n",
      "16499              4.0                 NaN  \n",
      "16561            140.0                 NaN  \n",
      "16610            319.0                 NaN  \n",
      "17535            213.0                 NaN  \n",
      "17764            305.0                 NaN  \n",
      "18526             65.0                 NaN  \n",
      "18917             15.0                 NaN  \n",
      "19045            254.0                 NaN  \n",
      "19972            278.0                 NaN  \n",
      "20057            325.0                 NaN  \n",
      "20382              NaN                 NaN  \n",
      "20590             78.0                 NaN  \n",
      "20654            164.0                 NaN  \n",
      "21119              9.0                 NaN  \n",
      "21276              4.0                 NaN  \n",
      "21333            486.0                 NaN  \n",
      "21715            176.0                 NaN  \n",
      "21898            169.0                 NaN  \n",
      "22474            436.0                 NaN  \n",
      "22717             75.0                 NaN  \n",
      "22933            427.0                 NaN  \n",
      "23214             70.0                 NaN  \n",
      "\n",
      "[49 rows x 23 columns]\n"
     ]
    }
   ],
   "source": [
    "print(data[data['locality_name'].isna()])"
   ]
  },
  {
   "cell_type": "code",
   "execution_count": 15,
   "metadata": {},
   "outputs": [],
   "source": [
    "data['locality_name'] = data['locality_name'].fillna('Неизвестно')"
   ]
  },
  {
   "cell_type": "markdown",
   "metadata": {},
   "source": [
    "#### Handling ceiling_height"
   ]
  },
  {
   "cell_type": "code",
   "execution_count": 16,
   "metadata": {},
   "outputs": [
    {
     "name": "stdout",
     "output_type": "stream",
     "text": [
      "count    14504.000000\n",
      "mean         2.771499\n",
      "std          1.261056\n",
      "min          1.000000\n",
      "25%          2.520000\n",
      "50%          2.650000\n",
      "75%          2.800000\n",
      "max        100.000000\n",
      "Name: ceiling_height, dtype: float64\n"
     ]
    },
    {
     "data": {
      "image/png": "[encoded data removed]",
      "text/plain": [
       "<Figure size 432x288 with 1 Axes>"
      ]
     },
     "metadata": {
      "needs_background": "light"
     },
     "output_type": "display_data"
    }
   ],
   "source": [
    "print(data['ceiling_height'].describe())\n",
    "data['ceiling_height'].hist(bins = 50)\n",
    "plt.show()"
   ]
  },
  {
   "cell_type": "markdown",
   "metadata": {},
   "source": [
    "The spread of data does not seem to be high - all the main indicators are in the first half of 0-20. But there is also a maximum value of 100. You need to see how many values ​​are above the average."
   ]
  },
  {
   "cell_type": "code",
   "execution_count": 17,
   "metadata": {},
   "outputs": [
    {
     "name": "stdout",
     "output_type": "stream",
     "text": [
      "27.0     8\n",
      "25.0     7\n",
      "8.0      3\n",
      "5.3      2\n",
      "32.0     2\n",
      "14.0     1\n",
      "5.2      1\n",
      "6.0      1\n",
      "8.3      1\n",
      "5.6      1\n",
      "5.8      1\n",
      "10.3     1\n",
      "5.5      1\n",
      "20.0     1\n",
      "26.0     1\n",
      "22.6     1\n",
      "27.5     1\n",
      "24.0     1\n",
      "100.0    1\n",
      "Name: ceiling_height, dtype: int64\n"
     ]
    }
   ],
   "source": [
    "print(data[data['ceiling_height'] > 5]['ceiling_height'].value_counts())"
   ]
  },
  {
   "cell_type": "markdown",
   "metadata": {},
   "source": [
    "It looks like there are errors, but there are also values, as if a person put a comma in the wrong place - mostly in double digits. The rest of the lines are non-standard. Let's divide the two-digit values above 20 by 10 (we'll remove the 100 later)."
   ]
  },
  {
   "cell_type": "code",
   "execution_count": 18,
   "metadata": {},
   "outputs": [
    {
     "name": "stdout",
     "output_type": "stream",
     "text": [
      "8.0     3\n",
      "5.3     2\n",
      "14.0    1\n",
      "5.8     1\n",
      "6.0     1\n",
      "10.3    1\n",
      "8.3     1\n",
      "5.2     1\n",
      "5.5     1\n",
      "10.0    1\n",
      "5.6     1\n",
      "Name: ceiling_height, dtype: int64\n"
     ]
    }
   ],
   "source": [
    "for row in data['ceiling_height']:\n",
    "    if row >= 20:\n",
    "        data['ceiling_height'] = data['ceiling_height'].replace(row, row/10)\n",
    "print(data[data['ceiling_height'] > 5]['ceiling_height'].value_counts())"
   ]
  },
  {
   "cell_type": "markdown",
   "metadata": {},
   "source": [
    "We were able to correct wrongly entered data.\\\n",
    "Ceiling height is one of the standard values. On average, in Russian apartments, the ceiling height is approximately 3 meters. According to the information and the graph, the spread of values is quite strong - almost all values are grouped up to 10 meters. The column also has missing values.\n",
    "We use the median to fill in empty values to avoid using the maximum and minimum values (1 meter and 100 meters)."
   ]
  },
  {
   "cell_type": "code",
   "execution_count": 19,
   "metadata": {},
   "outputs": [
    {
     "name": "stdout",
     "output_type": "stream",
     "text": [
      "0\n"
     ]
    }
   ],
   "source": [
    "data['ceiling_height'] = data['ceiling_height'].fillna(data['ceiling_height'].median())\n",
    "print(data['ceiling_height'].isna().sum())"
   ]
  },
  {
   "cell_type": "code",
   "execution_count": 20,
   "metadata": {
    "scrolled": true
   },
   "outputs": [
    {
     "data": {
      "image/png": "[encoded data removed]",
      "text/plain": [
       "<Figure size 432x288 with 1 Axes>"
      ]
     },
     "metadata": {
      "needs_background": "light"
     },
     "output_type": "display_data"
    },
    {
     "name": "stdout",
     "output_type": "stream",
     "text": [
      "Number of rows with ceilings above 5 meters: 14\n"
     ]
    }
   ],
   "source": [
    "data['ceiling_height'].hist(bins = 100, range=(2,10))\n",
    "plt.show()\n",
    "print('Number of rows with ceilings above 5 meters:', data[data['ceiling_height'] > 5]['ceiling_height'].count())"
   ]
  },
  {
   "cell_type": "markdown",
   "metadata": {},
   "source": [
    "With a decrease in the boundaries of the histogram and the second number of ceilings above 5 meters, we see that there are simply no values more than 5 meters in the amount we need. It also makes no sense to continue the analysis related to the height of the ceilings, with lines where the height of the ceiling is equal to the height of a very tall person. Therefore, we can continue to work only with those lines where the values are greater than 2 and less than 5, inclusive."
   ]
  },
  {
   "cell_type": "code",
   "execution_count": 21,
   "metadata": {
    "scrolled": true
   },
   "outputs": [
    {
     "name": "stdout",
     "output_type": "stream",
     "text": [
      "count    23670.000000\n",
      "mean         2.696398\n",
      "std          0.215216\n",
      "min          2.200000\n",
      "25%          2.600000\n",
      "50%          2.650000\n",
      "75%          2.700000\n",
      "max          5.000000\n",
      "Name: ceiling_height, dtype: float64\n"
     ]
    }
   ],
   "source": [
    "data = data[(data['ceiling_height'] > 2) & (data['ceiling_height'] <= 5)]\n",
    "print(data['ceiling_height'].describe())"
   ]
  },
  {
   "cell_type": "markdown",
   "metadata": {},
   "source": [
    "We corrected, filled in the gaps and removed the rows with deviant ceiling norms"
   ]
  },
  {
   "cell_type": "markdown",
   "metadata": {},
   "source": [
    "#### Handling balcony"
   ]
  },
  {
   "cell_type": "markdown",
   "metadata": {},
   "source": [
    "Most likely, the empty value of the balcony means its absence. Therefore, you can replace the nulls with 0."
   ]
  },
  {
   "cell_type": "code",
   "execution_count": 22,
   "metadata": {},
   "outputs": [
    {
     "name": "stdout",
     "output_type": "stream",
     "text": [
      "0\n"
     ]
    }
   ],
   "source": [
    "data['balcony'] = data['balcony'].fillna(0)\n",
    "print(data['balcony'].isna().sum())"
   ]
  },
  {
   "cell_type": "markdown",
   "metadata": {},
   "source": [
    "#### Handling total_area"
   ]
  },
  {
   "cell_type": "code",
   "execution_count": 23,
   "metadata": {},
   "outputs": [
    {
     "name": "stdout",
     "output_type": "stream",
     "text": [
      "count    23670.000000\n",
      "mean        60.316745\n",
      "std         35.522659\n",
      "min         12.000000\n",
      "25%         40.000000\n",
      "50%         52.000000\n",
      "75%         69.875000\n",
      "max        900.000000\n",
      "Name: total_area, dtype: float64\n"
     ]
    },
    {
     "data": {
      "image/png": "[encoded data removed]",
      "text/plain": [
       "<Figure size 432x288 with 1 Axes>"
      ]
     },
     "metadata": {
      "needs_background": "light"
     },
     "output_type": "display_data"
    }
   ],
   "source": [
    "print(data['total_area'].describe())\n",
    "data['total_area'].hist(bins = 50)\n",
    "plt.show()"
   ]
  },
  {
   "cell_type": "markdown",
   "metadata": {},
   "source": [
    "As we can see, there are practically no values ​​over 300 m2 - let's check the values together with kitchen_area, living_area and last_price."
   ]
  },
  {
   "cell_type": "code",
   "execution_count": 24,
   "metadata": {
    "scrolled": true
   },
   "outputs": [
    {
     "name": "stdout",
     "output_type": "stream",
     "text": [
      "           living_area kitchen_area total_area            last_price\n",
      "                   sum          sum      count      sum          sum\n",
      "total_area                                                          \n",
      "301.90           163.2        20.40          1   301.90   30000000.0\n",
      "304.00             0.0         0.00          1   304.00  130278280.0\n",
      "307.80           187.9        63.40          1   307.80  130000000.0\n",
      "309.70           199.0        14.30          1   309.70   19500000.0\n",
      "310.00           250.0        50.00          1   310.00  135000000.0\n",
      "312.00           321.0        65.00          2   624.00   63900000.0\n",
      "313.00           179.2        13.20          1   313.00   23500000.0\n",
      "315.00           182.0        37.00          1   315.00   40000000.0\n",
      "316.30           187.0         0.00          1   316.30   24000000.0\n",
      "317.00           183.0         0.00          1   317.00   96000000.0\n",
      "320.00           190.0        28.00          1   320.00   14000000.0\n",
      "323.00           255.7        66.00          1   323.00   75000000.0\n",
      "327.20           177.3        27.10          1   327.20   29000000.0\n",
      "336.00           106.1        21.00          1   336.00   28000000.0\n",
      "338.60           230.0        20.00          1   338.60   30900000.0\n",
      "342.00           187.0        10.00          1   342.00   73900000.0\n",
      "347.00           260.0        45.00          1   347.00  180000000.0\n",
      "347.50           160.0        40.00          1   347.50   36900000.0\n",
      "356.00           248.5        18.90          1   356.00   34000000.0\n",
      "363.00           222.0        16.60          1   363.00   25000000.0\n",
      "363.10             0.0        31.73          1   363.10   84382000.0\n",
      "364.00           250.0        20.00          1   364.00   65000000.0\n",
      "364.70             0.0         0.00          1   364.70   32894076.0\n",
      "365.00           101.0        37.00          2   730.00   97350000.0\n",
      "371.00             0.0         0.00          1   371.00   71000000.0\n",
      "373.10           176.2        29.40          1   373.10   68000000.0\n",
      "374.00           239.4        51.00          1   374.00   42000000.0\n",
      "374.60           264.5        27.60          1   374.60   32250000.0\n",
      "380.00           348.0        50.00          2   760.00  166000000.0\n",
      "398.00           160.1        41.00          1   398.00   49968900.0\n",
      "400.00           500.0        50.00          3  1200.00  889000000.0\n",
      "401.00           204.0        24.00          1   401.00  401300000.0\n",
      "402.00           300.0        56.00          1   402.00   51000000.0\n",
      "410.00           218.0        40.00          1   410.00  240000000.0\n",
      "413.50            74.2        13.90          1   413.50   45000000.0\n",
      "422.20             0.0         0.00          1   422.20   27000000.0\n",
      "431.00           220.0        20.00          1   431.00  130000000.0\n",
      "441.98             0.0        35.05          1   441.98   28789000.0\n",
      "460.80           279.6        55.50          1   460.80   20000000.0\n",
      "470.30           248.7        40.00          1   470.30   34000000.0\n",
      "483.90           312.5        26.40          1   483.90   49950000.0\n",
      "488.00           216.0        50.00          1   488.00   99000000.0\n",
      "491.00           274.0        45.00          1   491.00   91075000.0\n",
      "494.10             0.0         0.00          1   494.10   43185328.0\n",
      "495.00           347.5        25.00          1   495.00   91500000.0\n",
      "500.00             0.0        40.00          2  1000.00  380000000.0\n",
      "507.00           301.5        45.50          1   507.00   84000000.0\n",
      "517.00           332.0        22.00          1   517.00   50000000.0\n",
      "590.00           409.0       100.00          1   590.00   65000000.0\n",
      "618.00           258.0        70.00          1   618.00  300000000.0\n",
      "631.00             0.0        60.00          1   631.00  140000000.0\n",
      "631.20           322.3        19.50          1   631.20  140000000.0\n",
      "900.00           409.7       112.00          1   900.00  420000000.0\n"
     ]
    }
   ],
   "source": [
    "print(data[data['total_area'] > 300].groupby('total_area').agg({'living_area':['sum'], 'kitchen_area':['sum'],'total_area':['count', 'sum'], 'last_price':['sum']}))"
   ]
  },
  {
   "cell_type": "markdown",
   "metadata": {},
   "source": [
    "The cost of apartments coincides with the total area - so these are not errors in the data. But in order to clean up the data, in principle, they can be deleted - there are less than 90 lines over 300 m2 (they are shown completely on the screen), and although their removal will not greatly affect the medians and so on, their absence will allow us to filter future graphs less."
   ]
  },
  {
   "cell_type": "code",
   "execution_count": 25,
   "metadata": {},
   "outputs": [
    {
     "name": "stdout",
     "output_type": "stream",
     "text": [
      "count    23609.000000\n",
      "mean        59.422545\n",
      "std         30.422668\n",
      "min         12.000000\n",
      "25%         40.000000\n",
      "50%         52.000000\n",
      "75%         69.400000\n",
      "max        297.500000\n",
      "Name: total_area, dtype: float64\n"
     ]
    },
    {
     "data": {
      "image/png": "[encoded data removed]",
      "text/plain": [
       "<Figure size 432x288 with 1 Axes>"
      ]
     },
     "metadata": {
      "needs_background": "light"
     },
     "output_type": "display_data"
    }
   ],
   "source": [
    "data = data[data['total_area'] < 300]\n",
    "print(data['total_area'].describe())\n",
    "data['total_area'].hist(bins = 50)\n",
    "plt.show()"
   ]
  },
  {
   "cell_type": "markdown",
   "metadata": {},
   "source": [
    "#### Handling living_area"
   ]
  },
  {
   "cell_type": "markdown",
   "metadata": {},
   "source": [
    "Although the values in total_area are completely filled, the values in living_area are not everywhere. It is difficult to correlate between this and other columns, so two methods can be applied:\n",
    "1) if there are kitchen and balcony values, then they can be used to calculate the living area, and the remaining empty values can be filled with medians, but only if the kitchen_area is filled. Minus - the living area will also include a toilet and utility rooms;\\\n",
    "2) either create groups and fill in the values with the median differences of non-empty values inside the group total_area\\\n",
    "Before that, we need to check if the open_plan column will affect the result."
   ]
  },
  {
   "cell_type": "code",
   "execution_count": 26,
   "metadata": {},
   "outputs": [
    {
     "name": "stdout",
     "output_type": "stream",
     "text": [
      "False    23543\n",
      "True        66\n",
      "Name: open_plan, dtype: int64\n"
     ]
    }
   ],
   "source": [
    "print(data['open_plan'].value_counts())"
   ]
  },
  {
   "cell_type": "markdown",
   "metadata": {},
   "source": [
    "This column doesn't seem to have any effect on living_area numbers - there are only 66 open-plan apartments."
   ]
  },
  {
   "cell_type": "code",
   "execution_count": 27,
   "metadata": {},
   "outputs": [
    {
     "name": "stdout",
     "output_type": "stream",
     "text": [
      "count    21722.000000\n",
      "mean        34.014849\n",
      "std         19.791854\n",
      "min          2.000000\n",
      "25%         18.600000\n",
      "50%         30.000000\n",
      "75%         42.200000\n",
      "max        250.000000\n",
      "Name: living_area, dtype: float64\n",
      "1887\n"
     ]
    }
   ],
   "source": [
    "print(data['living_area'].describe())\n",
    "print(data['living_area'].isna().sum())"
   ]
  },
  {
   "cell_type": "markdown",
   "metadata": {},
   "source": [
    "The dispersion of living_area is strong, but not as much as in total_area. Since total_area is available to us completely for all lines, we can categorize it and fill living_area with median values within the group without regard to the possibility of free planning."
   ]
  },
  {
   "cell_type": "code",
   "execution_count": 28,
   "metadata": {},
   "outputs": [],
   "source": [
    "def categorized_total_area(area):\n",
    "    try:\n",
    "        if 0 < area <= 20:\n",
    "            return 10\n",
    "        elif 20 < area <= 35:\n",
    "            return 9\n",
    "        elif 35 < area <= 45:\n",
    "            return 8\n",
    "        elif 45 < area <= 55:\n",
    "            return 7\n",
    "        elif 55 < area <= 65:\n",
    "            return 6\n",
    "        elif 65 < area <= 80:\n",
    "            return 5\n",
    "        elif 90 < area <= 120:\n",
    "            return 4\n",
    "        elif 120 < area <= 150:\n",
    "            return 3\n",
    "        elif 150 < area <= 200:\n",
    "            return 2\n",
    "        else:\n",
    "            return 1\n",
    "    except:\n",
    "        pass"
   ]
  },
  {
   "cell_type": "code",
   "execution_count": 29,
   "metadata": {},
   "outputs": [
    {
     "name": "stdout",
     "output_type": "stream",
     "text": [
      "       total_area  total_area_categories  living_area\n",
      "13915       52.00                      7          2.0\n",
      "21758       23.00                      9          2.0\n",
      "23574      139.00                      3          3.0\n",
      "3242        41.00                      8          3.0\n",
      "17582       22.00                      9          5.0\n",
      "...           ...                    ...          ...\n",
      "23642       80.30                      1          NaN\n",
      "23663       88.00                      1          NaN\n",
      "23670       45.60                      7          NaN\n",
      "23679       35.00                      9          NaN\n",
      "23697       76.75                      5          NaN\n",
      "\n",
      "[23609 rows x 3 columns]\n"
     ]
    }
   ],
   "source": [
    "data['total_area_categories'] = data['total_area'].apply(categorized_total_area)\n",
    "print(data.loc[:,['total_area','total_area_categories','living_area']].sort_values(by='living_area'))"
   ]
  },
  {
   "cell_type": "markdown",
   "metadata": {},
   "source": [
    "The categorization works correctly. Now, before filling living_area with medians, you need to check the medians of living_area by groups of total_area - to compare with the final result of filling - and also display at least one line with empty values ​​to get an index and see the work of future categorization."
   ]
  },
  {
   "cell_type": "code",
   "execution_count": 30,
   "metadata": {},
   "outputs": [
    {
     "name": "stdout",
     "output_type": "stream",
     "text": [
      "total_area_categories\n",
      "1     51.50\n",
      "2     99.05\n",
      "3     78.00\n",
      "4     59.00\n",
      "5     43.10\n",
      "6     36.00\n",
      "7     29.70\n",
      "8     19.00\n",
      "9     17.00\n",
      "10    13.50\n",
      "Name: living_area, dtype: float64\n",
      "   total_area_categories  living_area\n",
      "3                      2          NaN\n"
     ]
    }
   ],
   "source": [
    "print(data.groupby('total_area_categories')['living_area'].median())\n",
    "print(data.loc[data['living_area'].isna(), ['total_area_categories', 'living_area']].head(1))"
   ]
  },
  {
   "cell_type": "code",
   "execution_count": 31,
   "metadata": {},
   "outputs": [
    {
     "name": "stdout",
     "output_type": "stream",
     "text": [
      "count    23609.000000\n",
      "mean        34.004962\n",
      "std         19.622682\n",
      "min          2.000000\n",
      "25%         19.000000\n",
      "50%         30.000000\n",
      "75%         42.500000\n",
      "max        250.000000\n",
      "Name: living_area, dtype: float64\n",
      "0\n",
      "99.05\n"
     ]
    }
   ],
   "source": [
    "area_categories = data['total_area_categories'].unique()\n",
    "\n",
    "for category in area_categories:\n",
    "    group_median = data.loc[data['total_area_categories'] == category, 'living_area'].median()\n",
    "    data.loc[data['total_area_categories'] == category,'living_area'] = data.loc[data['total_area_categories'] == category, 'living_area'].fillna(group_median)\n",
    "\n",
    "print(data['living_area'].describe())\n",
    "print(data['living_area'].isna().sum())\n",
    "print(data['living_area'][3])"
   ]
  },
  {
   "cell_type": "markdown",
   "metadata": {},
   "source": [
    "We were able to replace the gaps with the medians within the group - checked against the index, checked for the presence of gaps after processing, and checked the preservation of medians and averages."
   ]
  },
  {
   "cell_type": "markdown",
   "metadata": {},
   "source": [
    "#### Handling kitchen_area"
   ]
  },
  {
   "cell_type": "markdown",
   "metadata": {},
   "source": [
    "Let's fill in the kitchen_area column in the same way as living_area."
   ]
  },
  {
   "cell_type": "code",
   "execution_count": 32,
   "metadata": {},
   "outputs": [
    {
     "name": "stdout",
     "output_type": "stream",
     "text": [
      "total_area_categories\n",
      "1     12.70\n",
      "2     19.50\n",
      "3     17.03\n",
      "4     14.40\n",
      "5     10.40\n",
      "6      9.00\n",
      "7      8.20\n",
      "8      9.00\n",
      "9      7.00\n",
      "10     3.00\n",
      "Name: kitchen_area, dtype: float64\n",
      "   total_area_categories  kitchen_area\n",
      "3                      2           NaN\n"
     ]
    }
   ],
   "source": [
    "print(data.groupby('total_area_categories')['kitchen_area'].median())\n",
    "print(data.loc[data['kitchen_area'].isna(), ['total_area_categories', 'kitchen_area']].head(1))"
   ]
  },
  {
   "cell_type": "code",
   "execution_count": 33,
   "metadata": {
    "scrolled": false
   },
   "outputs": [
    {
     "name": "stdout",
     "output_type": "stream",
     "text": [
      "Before filling:\n",
      "count    21350.000000\n",
      "mean        10.505725\n",
      "std          5.673082\n",
      "min          1.300000\n",
      "25%          7.000000\n",
      "50%          9.100000\n",
      "75%         12.000000\n",
      "max        107.000000\n",
      "Name: kitchen_area, dtype: float64\n",
      "After filling:\n",
      "count    23609.000000\n",
      "mean        10.381448\n",
      "std          5.469464\n",
      "min          1.300000\n",
      "25%          7.000000\n",
      "50%          9.000000\n",
      "75%         11.700000\n",
      "max        107.000000\n",
      "Name: kitchen_area, dtype: float64\n",
      "0\n",
      "19.5\n"
     ]
    }
   ],
   "source": [
    "print('Before filling:')\n",
    "print(data['kitchen_area'].describe())\n",
    "for category in area_categories:\n",
    "    group_median = data.loc[data['total_area_categories'] == category, 'kitchen_area'].median()\n",
    "    data.loc[data['total_area_categories'] == category,'kitchen_area'] = data.loc[data['total_area_categories'] == category, 'kitchen_area'].fillna(group_median)\n",
    "\n",
    "print('After filling:')\n",
    "print(data['kitchen_area'].describe())\n",
    "print(data['kitchen_area'].isna().sum())\n",
    "print(data['kitchen_area'][3])"
   ]
  },
  {
   "cell_type": "markdown",
   "metadata": {},
   "source": [
    "#### Handling is_apartment"
   ]
  },
  {
   "cell_type": "markdown",
   "metadata": {},
   "source": [
    "The last column with values that can be populated is is_apartment."
   ]
  },
  {
   "cell_type": "code",
   "execution_count": 34,
   "metadata": {},
   "outputs": [
    {
     "name": "stdout",
     "output_type": "stream",
     "text": [
      "20843\n",
      "False    2718\n",
      "True       48\n",
      "Name: is_apartment, dtype: int64\n"
     ]
    }
   ],
   "source": [
    "print(data['is_apartment'].isna().sum())\n",
    "print(data['is_apartment'].value_counts())"
   ]
  },
  {
   "cell_type": "markdown",
   "metadata": {},
   "source": [
    "The apartment format is not popular in Russia - as we can see from the information above, there are 48 cells filled with True. Therefore, empty values ​​can be filled with False."
   ]
  },
  {
   "cell_type": "code",
   "execution_count": 35,
   "metadata": {},
   "outputs": [
    {
     "name": "stdout",
     "output_type": "stream",
     "text": [
      "False    23561\n",
      "True        48\n",
      "Name: is_apartment, dtype: int64\n"
     ]
    }
   ],
   "source": [
    "data['is_apartment'] = data['is_apartment'].fillna(False)\n",
    "print(data['is_apartment'].value_counts())"
   ]
  },
  {
   "cell_type": "markdown",
   "metadata": {},
   "source": [
    "#### Handling floor_total"
   ]
  },
  {
   "cell_type": "markdown",
   "metadata": {},
   "source": [
    "The number of floors depends on the average number of storeys in the city - in St. Petersburg, the average height of a building can be 10 floors, while in the village - 1. Thus, the voids in the total number of storeys can be filled either by the median indicators for the most populated area, or by the median values of types of settlements."
   ]
  },
  {
   "cell_type": "code",
   "execution_count": 36,
   "metadata": {},
   "outputs": [
    {
     "name": "stdout",
     "output_type": "stream",
     "text": [
      "Medians by location; locality_name\n",
      "Свирьстрой         1.0\n",
      "Сижно              1.0\n",
      "Каськово           1.0\n",
      "Пчевжа             1.0\n",
      "Лисий Нос          2.0\n",
      "                  ... \n",
      "Бугры             17.0\n",
      "Петро-Славянка    18.0\n",
      "Кудрово           18.0\n",
      "Мурино            19.0\n",
      "Парголово         25.0\n",
      "Name: floors_total, Length: 311, dtype: float64\n",
      "Medians by type of location; locality_type_city\n",
      "False    9.0\n",
      "True     9.0\n",
      "Name: floors_total, dtype: float64\n"
     ]
    }
   ],
   "source": [
    "print('Medians by location;',data.groupby('locality_name')['floors_total'].median().sort_values())\n",
    "print('Medians by type of location;',data.groupby('locality_type_city')['floors_total'].median())"
   ]
  },
  {
   "cell_type": "markdown",
   "metadata": {},
   "source": [
    "We see that with medians by type of location, the value is too average. Therefore, it would be better to try filling by location."
   ]
  },
  {
   "cell_type": "code",
   "execution_count": 37,
   "metadata": {},
   "outputs": [
    {
     "name": "stdout",
     "output_type": "stream",
     "text": [
      "Nulls before filling by locations 86\n",
      "count    23523.000000\n",
      "mean        10.685542\n",
      "std          6.597818\n",
      "min          1.000000\n",
      "25%          5.000000\n",
      "50%          9.000000\n",
      "75%         16.000000\n",
      "max         60.000000\n",
      "Name: floors_total, dtype: float64\n",
      "Nulls after filling by locations 0\n",
      "count    23609.000000\n",
      "mean        10.681732\n",
      "std          6.588425\n",
      "min          1.000000\n",
      "25%          5.000000\n",
      "50%          9.000000\n",
      "75%         16.000000\n",
      "max         60.000000\n",
      "Name: floors_total, dtype: float64\n"
     ]
    }
   ],
   "source": [
    "localities = data['locality_name'].unique()\n",
    "print('Nulls before filling by locations',data['floors_total'].isna().sum())\n",
    "print(data['floors_total'].describe())\n",
    "\n",
    "for category in localities:\n",
    "    group_median = data.loc[data['locality_name'] == category, 'floors_total'].median()\n",
    "    data.loc[data['locality_name'] == category,'floors_total'] = data.loc[data['locality_name'] == category, 'floors_total'].fillna(group_median)\n",
    "\n",
    "print('Nulls after filling by locations',data['floors_total'].isna().sum())\n",
    "print(data['floors_total'].describe())"
   ]
  },
  {
   "cell_type": "markdown",
   "metadata": {},
   "source": [
    "We were able to fill in almost all the gaps with the median values for localities. The remaining number of nulls must be checked, and if it is within the average, it can be removed."
   ]
  },
  {
   "cell_type": "code",
   "execution_count": 38,
   "metadata": {},
   "outputs": [
    {
     "name": "stdout",
     "output_type": "stream",
     "text": [
      "Checking line: Empty DataFrame\n",
      "Columns: [total_images, last_price, total_area, first_day_exposition, rooms, ceiling_height, floors_total, living_area, floor, is_apartment, studio, open_plan, kitchen_area, balcony, locality_name, airports_nearest, cityCenters_nearest, parks_around3000, parks_nearest, ponds_around3000, ponds_nearest, days_exposition, locality_type_city, total_area_categories]\n",
      "Index: []\n",
      "\n",
      "[0 rows x 24 columns]\n",
      "Checking deletion: 0\n"
     ]
    }
   ],
   "source": [
    "print('Checking line:', data[data['floors_total'].isna()])\n",
    "data = data.drop(data[data.floors_total.isna()].index)\n",
    "print('Checking deletion:', data.loc[data['floors_total'].isna(), 'floors_total'].count())"
   ]
  },
  {
   "cell_type": "markdown",
   "metadata": {},
   "source": [
    "The amount is within the average values, not many values that are difficult to fill are empty, so we removed them."
   ]
  },
  {
   "cell_type": "markdown",
   "metadata": {},
   "source": [
    "#### Handling parks_around3000, ponds_around3000"
   ]
  },
  {
   "cell_type": "markdown",
   "metadata": {},
   "source": [
    "Where the values are null, it can be assumed that there are no parks or ponds around. We need to check if this is the case, or people could just forget to put 1."
   ]
  },
  {
   "cell_type": "code",
   "execution_count": 39,
   "metadata": {},
   "outputs": [
    {
     "name": "stdout",
     "output_type": "stream",
     "text": [
      "parks_around3000\n",
      "1.0    3088725.0\n",
      "2.0     642508.0\n",
      "3.0     198597.0\n",
      "Name: parks_nearest, dtype: float64\n",
      "ponds_around3000\n",
      "1.0    3339890.0\n",
      "2.0     853096.0\n",
      "3.0     505185.0\n",
      "Name: ponds_nearest, dtype: float64\n"
     ]
    }
   ],
   "source": [
    "print(data[data['parks_nearest'] <= 3000].groupby('parks_around3000')['parks_nearest'].sum())\n",
    "print(data[data['ponds_nearest'] <= 3000].groupby('ponds_around3000')['ponds_nearest'].sum())"
   ]
  },
  {
   "cell_type": "markdown",
   "metadata": {},
   "source": [
    "All around3000 values are filled correctly - there are no empty around_3000s, while having values in nearest. Therefore, we can fill all empty values in around3000 with 0."
   ]
  },
  {
   "cell_type": "code",
   "execution_count": 40,
   "metadata": {},
   "outputs": [],
   "source": [
    "data['parks_around3000'] = data['parks_around3000'].fillna(0)\n",
    "data['ponds_around3000'] = data['ponds_around3000'].fillna(0)"
   ]
  },
  {
   "cell_type": "markdown",
   "metadata": {},
   "source": [
    "#### Handling days_exposition"
   ]
  },
  {
   "cell_type": "markdown",
   "metadata": {},
   "source": [
    "Since we don't have a data download date, we can't count exposure days. Where the values are empty, the object most likely has not yet been sold. We can:\n",
    "1) leave these values as they are - and simply do not use them in the analysis of average days sold\\\n",
    "2) either understand how much the object is sold for, either among locations, as well as either the size of the apartment or the price, and use this median to fill in. Since, on average, the price corresponds to the size of an apartment in a certain locality, the size category can be used\\\n",
    "3) try to find out the average frequency of ad removal, and find out the date of uploading the data - subtract the date of uploading the ad from it and get the days of publication"
   ]
  },
  {
   "cell_type": "markdown",
   "metadata": {},
   "source": [
    "For each announcement, we will find the date when the publication was removed and try to find out the date when the data was downloaded."
   ]
  },
  {
   "cell_type": "code",
   "execution_count": 41,
   "metadata": {},
   "outputs": [],
   "source": [
    "data['first_day_exposition'] = pd.to_datetime(data['first_day_exposition'],format='%Y-%m-%dT%H:%M:%S')"
   ]
  },
  {
   "cell_type": "code",
   "execution_count": 42,
   "metadata": {},
   "outputs": [
    {
     "name": "stdout",
     "output_type": "stream",
     "text": [
      "last_day_exposition\n",
      "2016-06-16    13\n",
      "2016-06-17    17\n",
      "2016-06-18    18\n",
      "2016-06-19    12\n",
      "2016-06-20    17\n",
      "              ..\n",
      "2019-04-28    12\n",
      "2019-04-29    36\n",
      "2019-04-30    49\n",
      "2019-05-01    30\n",
      "2019-05-02    28\n",
      "Name: total_images, Length: 1038, dtype: int64\n",
      "2019-05-03 00:00:00\n",
      "3162\n"
     ]
    }
   ],
   "source": [
    "data['last_day_exposition'] = data['first_day_exposition'] + pd.to_timedelta(data['days_exposition'], unit='D')\n",
    "print(data.sort_values(by='last_day_exposition').groupby('last_day_exposition')['total_images'].count())\n",
    "print(data['first_day_exposition'].max())\n",
    "print(data['days_exposition'].isna().sum())"
   ]
  },
  {
   "cell_type": "markdown",
   "metadata": {},
   "source": [
    "The time series is stable - at least 10 ads are closed every day, and we have the last day of closing applications, as well as the opening day of the newest application. Most likely, this (or so) is the date of uploading the data."
   ]
  },
  {
   "cell_type": "code",
   "execution_count": 43,
   "metadata": {},
   "outputs": [
    {
     "name": "stdout",
     "output_type": "stream",
     "text": [
      "0\n"
     ]
    }
   ],
   "source": [
    "data['days_exposition'] = data['days_exposition'].fillna((data['first_day_exposition'].max()-data['first_day_exposition']).dt.days)\n",
    "print(data['days_exposition'].isna().sum())"
   ]
  },
  {
   "cell_type": "markdown",
   "metadata": {},
   "source": [
    "We have filled days_exposition with the difference between the maximum start date of the exposition and the line-by-line exposition date. It is also possible that people simply forgot to close ads - but we have no way to check this unless we have additional data."
   ]
  },
  {
   "cell_type": "markdown",
   "metadata": {},
   "source": [
    "#### Aftercheck"
   ]
  },
  {
   "cell_type": "code",
   "execution_count": 44,
   "metadata": {},
   "outputs": [
    {
     "name": "stdout",
     "output_type": "stream",
     "text": [
      "total_images                 0\n",
      "last_price                   0\n",
      "total_area                   0\n",
      "first_day_exposition         0\n",
      "rooms                        0\n",
      "ceiling_height               0\n",
      "floors_total                 0\n",
      "living_area                  0\n",
      "floor                        0\n",
      "is_apartment                 0\n",
      "studio                       0\n",
      "open_plan                    0\n",
      "kitchen_area                 0\n",
      "balcony                      0\n",
      "locality_name                0\n",
      "airports_nearest          5528\n",
      "cityCenters_nearest       5507\n",
      "parks_around3000             0\n",
      "parks_nearest            15580\n",
      "ponds_around3000             0\n",
      "ponds_nearest            14551\n",
      "days_exposition              0\n",
      "locality_type_city          49\n",
      "total_area_categories        0\n",
      "last_day_exposition       3162\n",
      "dtype: int64\n"
     ]
    }
   ],
   "source": [
    "print(data.isna().sum())"
   ]
  },
  {
   "cell_type": "markdown",
   "metadata": {},
   "source": [
    "We only have empty values that are difficult to fill in a logical way."
   ]
  },
  {
   "cell_type": "markdown",
   "metadata": {},
   "source": [
    "#### Data types"
   ]
  },
  {
   "cell_type": "markdown",
   "metadata": {},
   "source": [
    "Columns where the type is invalid:\n",
    "1) floors_total - there is no one and a half floor \\\n",
    "2) parks_around3000 - it also doesn't happen that there are one and a half parks near housing \\\n",
    "3) ponds_around3000 - -||- \\\n",
    "4) days_exposition - since we don't have time other than 00:00:00, days are integers \\\n",
    "5) locality_type_city - boolean type - city yes/no \\\n",
    "6) balcony - as with 2, 3"
   ]
  },
  {
   "cell_type": "code",
   "execution_count": 45,
   "metadata": {},
   "outputs": [
    {
     "name": "stdout",
     "output_type": "stream",
     "text": [
      "<class 'pandas.core.frame.DataFrame'>\n",
      "Int64Index: 23609 entries, 0 to 23698\n",
      "Data columns (total 25 columns):\n",
      " #   Column                 Non-Null Count  Dtype         \n",
      "---  ------                 --------------  -----         \n",
      " 0   total_images           23609 non-null  int64         \n",
      " 1   last_price             23609 non-null  float64       \n",
      " 2   total_area             23609 non-null  float64       \n",
      " 3   first_day_exposition   23609 non-null  datetime64[ns]\n",
      " 4   rooms                  23609 non-null  int64         \n",
      " 5   ceiling_height         23609 non-null  float64       \n",
      " 6   floors_total           23609 non-null  int64         \n",
      " 7   living_area            23609 non-null  float64       \n",
      " 8   floor                  23609 non-null  int64         \n",
      " 9   is_apartment           23609 non-null  bool          \n",
      " 10  studio                 23609 non-null  bool          \n",
      " 11  open_plan              23609 non-null  bool          \n",
      " 12  kitchen_area           23609 non-null  float64       \n",
      " 13  balcony                23609 non-null  int64         \n",
      " 14  locality_name          23609 non-null  object        \n",
      " 15  airports_nearest       18081 non-null  float64       \n",
      " 16  cityCenters_nearest    18102 non-null  float64       \n",
      " 17  parks_around3000       23609 non-null  int64         \n",
      " 18  parks_nearest          8029 non-null   float64       \n",
      " 19  ponds_around3000       23609 non-null  int64         \n",
      " 20  ponds_nearest          9058 non-null   float64       \n",
      " 21  days_exposition        23609 non-null  int64         \n",
      " 22  locality_type_city     23609 non-null  bool          \n",
      " 23  total_area_categories  23609 non-null  int64         \n",
      " 24  last_day_exposition    20447 non-null  datetime64[ns]\n",
      "dtypes: bool(4), datetime64[ns](2), float64(9), int64(9), object(1)\n",
      "memory usage: 4.6+ MB\n",
      "None\n"
     ]
    }
   ],
   "source": [
    "data['floors_total'] = data['floors_total'].astype('int')\n",
    "data['balcony'] = data['balcony'].astype('int')\n",
    "data['parks_around3000'] = data['parks_around3000'].astype('int')\n",
    "data['ponds_around3000'] = data['ponds_around3000'].astype('int')\n",
    "data['days_exposition'] = data['days_exposition'].astype('int')\n",
    "data['locality_type_city'] = data['locality_type_city'].astype('bool')\n",
    "    \n",
    "print(data.info())"
   ]
  },
  {
   "cell_type": "markdown",
   "metadata": {},
   "source": [
    "### Adding new columns"
   ]
  },
  {
   "cell_type": "markdown",
   "metadata": {},
   "source": [
    "price of one square meter;\n",
    "the day of the week the announcement was published (0 - Monday, 1 - Tuesday, and so on);\n",
    "month of publication of the announcement;\n",
    "year of publication of the announcement;\n",
    "floor type of the apartment (values - \"first\" 'первый', \"last\" 'последний', \"other\"'другой');\n",
    "distance to the city center in kilometers (convert from m to km and round to whole numbers)."
   ]
  },
  {
   "cell_type": "code",
   "execution_count": 46,
   "metadata": {},
   "outputs": [
    {
     "name": "stdout",
     "output_type": "stream",
     "text": [
      "   price_per_sqm first_day_exposition  first_weekday_exposition  \\\n",
      "0  120370.370370           2019-03-07                         3   \n",
      "1   82920.792079           2018-12-04                         1   \n",
      "2   92785.714286           2015-08-20                         3   \n",
      "3  408176.100629           2015-07-24                         4   \n",
      "4  100000.000000           2018-06-19                         1   \n",
      "\n",
      "   first_month_exposition  first_year_exposition  cityCenters_nearest  \\\n",
      "0                       3                   2019              16028.0   \n",
      "1                      12                   2018              18603.0   \n",
      "2                       8                   2015              13933.0   \n",
      "3                       7                   2015               6800.0   \n",
      "4                       6                   2018               8098.0   \n",
      "\n",
      "   city_centers_nearest_km  \n",
      "0                   16.028  \n",
      "1                   18.603  \n",
      "2                   13.933  \n",
      "3                    6.800  \n",
      "4                    8.098  \n"
     ]
    }
   ],
   "source": [
    "data['price_per_sqm'] = data['last_price'] / data['total_area']\n",
    "data['first_weekday_exposition'] = data['first_day_exposition'].dt.dayofweek\n",
    "data['first_month_exposition'] = pd.DatetimeIndex(data['first_day_exposition']).month\n",
    "data['first_year_exposition'] = pd.DatetimeIndex(data['first_day_exposition']).year\n",
    "data['city_centers_nearest_km'] = (data['cityCenters_nearest'] / 1000)\n",
    "print(data.loc[:,['price_per_sqm', 'first_day_exposition', 'first_weekday_exposition', 'first_month_exposition', 'first_year_exposition', 'cityCenters_nearest', 'city_centers_nearest_km']].head(5))"
   ]
  },
  {
   "cell_type": "code",
   "execution_count": 47,
   "metadata": {},
   "outputs": [
    {
     "name": "stdout",
     "output_type": "stream",
     "text": [
      "   floor_category  floor  floors_total\n",
      "0          другой      8            16\n",
      "1          первый      1            11\n",
      "2          другой      4             5\n",
      "3          другой      9            14\n",
      "4          другой     13            14\n",
      "5          другой      5            12\n",
      "6          другой      6            26\n",
      "7          другой     22            24\n",
      "8          другой     26            27\n",
      "9          другой      7             9\n",
      "10         другой      3            12\n",
      "11         другой      4             5\n",
      "12      последний      5             5\n"
     ]
    }
   ],
   "source": [
    "def categorized_floor(floor):\n",
    "    try:\n",
    "        if floor[0] == 1:\n",
    "            return 'первый'\n",
    "        elif floor[0] == floor[1]:\n",
    "            return 'последний'\n",
    "        else:\n",
    "            return 'другой'\n",
    "    except:\n",
    "        pass\n",
    "\n",
    "data['floor_category'] = data[['floor','floors_total']].apply(categorized_floor, axis=1)\n",
    "print(data.loc[:,['floor_category', 'floor','floors_total']].head(13))"
   ]
  },
  {
   "cell_type": "markdown",
   "metadata": {},
   "source": [
    "### Analysing the data"
   ]
  },
  {
   "cell_type": "markdown",
   "metadata": {},
   "source": [
    "#### General column info"
   ]
  },
  {
   "cell_type": "code",
   "execution_count": 48,
   "metadata": {},
   "outputs": [
    {
     "data": {
      "image/png": "[encoded data removed]",
      "text/plain": [
       "<Figure size 432x288 with 1 Axes>"
      ]
     },
     "metadata": {
      "needs_background": "light"
     },
     "output_type": "display_data"
    }
   ],
   "source": [
    "data['total_area'].hist(bins=20) \n",
    "plt.xlabel('Общий метраж') \n",
    "plt.ylabel('Частота с разбивкой') \n",
    "plt.title(\"total_area\")\n",
    "plt.show()"
   ]
  },
  {
   "cell_type": "markdown",
   "metadata": {},
   "source": [
    "The most common apartments with a footage of 50 square meters, data without emissions, fit perfectly into the current state of affairs in the Russian real estate market."
   ]
  },
  {
   "cell_type": "code",
   "execution_count": 49,
   "metadata": {},
   "outputs": [
    {
     "data": {
      "image/png": "[encoded data removed]",
      "text/plain": [
       "<Figure size 432x288 with 1 Axes>"
      ]
     },
     "metadata": {
      "needs_background": "light"
     },
     "output_type": "display_data"
    }
   ],
   "source": [
    "data['living_area'].hist(bins=20) \n",
    "plt.xlabel('Жилой метраж') \n",
    "plt.ylabel('Частота с разбивкой') \n",
    "plt.title(\"living_area\")\n",
    "plt.show()"
   ]
  },
  {
   "cell_type": "markdown",
   "metadata": {},
   "source": [
    "Unfortunately, the sample contains the most apartments with a living area of up to 50 square meters - and most often there are apartments where the living area is 20-35 square meters - this is about 1-2 rooms in a standard apartment in a five-story building, which are also the most common."
   ]
  },
  {
   "cell_type": "code",
   "execution_count": 50,
   "metadata": {},
   "outputs": [
    {
     "data": {
      "image/png": "[encoded data removed]",
      "text/plain": [
       "<Figure size 432x288 with 1 Axes>"
      ]
     },
     "metadata": {
      "needs_background": "light"
     },
     "output_type": "display_data"
    }
   ],
   "source": [
    "data['kitchen_area'].hist(bins=20) \n",
    "plt.xlabel('Метраж кухни') \n",
    "plt.ylabel('Частота с разбивкой') \n",
    "plt.title(\"kitchen_area\")\n",
    "plt.show()"
   ]
  },
  {
   "cell_type": "markdown",
   "metadata": {},
   "source": [
    "The situation is the same with the size of the kitchen - it is most often 10 square meters - almost the size of a standardized loggia or a little more than a balcony, if there is one at all."
   ]
  },
  {
   "cell_type": "code",
   "execution_count": 51,
   "metadata": {},
   "outputs": [
    {
     "data": {
      "image/png": "[encoded data removed]",
      "text/plain": [
       "<Figure size 432x288 with 1 Axes>"
      ]
     },
     "metadata": {
      "needs_background": "light"
     },
     "output_type": "display_data"
    }
   ],
   "source": [
    "(data['last_price']).hist(bins=30, range=(0,25000000)) \n",
    "plt.xlabel('Цена') \n",
    "plt.ylabel('Частота с разбивкой') \n",
    "plt.title(\"last_price\")\n",
    "plt.show()"
   ]
  },
  {
   "cell_type": "markdown",
   "metadata": {},
   "source": [
    "Most often there are apartments that are sold for a price of about 5 million rubles - this may be due to the distance from the city center, settlement, the size of the apartment and other factors not indicated in the table."
   ]
  },
  {
   "cell_type": "code",
   "execution_count": 52,
   "metadata": {},
   "outputs": [
    {
     "data": {
      "image/png": "[encoded data removed]",
      "text/plain": [
       "<Figure size 432x288 with 1 Axes>"
      ]
     },
     "metadata": {
      "needs_background": "light"
     },
     "output_type": "display_data"
    }
   ],
   "source": [
    "data['rooms'].hist(bins=data['rooms'].max()) \n",
    "plt.xlabel('Количество комнат') \n",
    "plt.ylabel('Частота с разбивкой') \n",
    "plt.title(\"rooms\")\n",
    "plt.show()"
   ]
  },
  {
   "cell_type": "markdown",
   "metadata": {},
   "source": [
    "Most often there are apartments from 1 to 3 rooms - which is almost the absolute standard of apartments in Russia. Outliers are also normal - 4-room apartments exist, but they are less popular. In any case, the number of rooms correlates with the total footage."
   ]
  },
  {
   "cell_type": "code",
   "execution_count": 53,
   "metadata": {},
   "outputs": [
    {
     "data": {
      "image/png": "[encoded data removed]",
      "text/plain": [
       "<Figure size 432x288 with 1 Axes>"
      ]
     },
     "metadata": {
      "needs_background": "light"
     },
     "output_type": "display_data"
    }
   ],
   "source": [
    "data['ceiling_height'].hist(bins=20) \n",
    "plt.xlabel('Высота потолков') \n",
    "plt.ylabel('Частота с разбивкой') \n",
    "plt.title(\"ceiling_height\")\n",
    "plt.show()"
   ]
  },
  {
   "cell_type": "markdown",
   "metadata": {},
   "source": [
    "As previously mentioned, the average ceiling height in Russia is 3 meters - what we see from the graph - the most common apartments with ceiling heights from 2.5 to 3 meters. For example, this figure may be higher in Germany, because there are more old houses preserved, where ceiling heights can reach 5 meters."
   ]
  },
  {
   "cell_type": "code",
   "execution_count": 54,
   "metadata": {},
   "outputs": [
    {
     "data": {
      "image/png": "[encoded data removed]",
      "text/plain": [
       "<Figure size 432x288 with 1 Axes>"
      ]
     },
     "metadata": {
      "needs_background": "light"
     },
     "output_type": "display_data"
    }
   ],
   "source": [
    "data['floor'].hist(bins=20) \n",
    "plt.xlabel('Этаж') \n",
    "plt.ylabel('Частота с разбивкой') \n",
    "plt.title(\"floor\")\n",
    "plt.show()"
   ]
  },
  {
   "cell_type": "markdown",
   "metadata": {},
   "source": [
    "Most of the floors are in the area up to 5 floors - this is easily explained by the fact that five-story buildings are one of the most common objects in the country."
   ]
  },
  {
   "cell_type": "code",
   "execution_count": 55,
   "metadata": {},
   "outputs": [
    {
     "data": {
      "image/png": "[encoded data removed]",
      "text/plain": [
       "<Figure size 432x288 with 1 Axes>"
      ]
     },
     "metadata": {
      "needs_background": "light"
     },
     "output_type": "display_data"
    }
   ],
   "source": [
    "data['floor_category'].hist(bins=20) \n",
    "plt.xlabel('Тип этажа') \n",
    "plt.ylabel('Частота с разбивкой') \n",
    "plt.title(\"floor_category\")\n",
    "plt.show()"
   ]
  },
  {
   "cell_type": "markdown",
   "metadata": {},
   "source": [
    "Most of the floors are in the \"other\" category - which is logical, because there cannot be less of them than the first or last floors."
   ]
  },
  {
   "cell_type": "code",
   "execution_count": 56,
   "metadata": {},
   "outputs": [
    {
     "data": {
      "image/png": "[encoded data removed]",
      "text/plain": [
       "<Figure size 432x288 with 1 Axes>"
      ]
     },
     "metadata": {
      "needs_background": "light"
     },
     "output_type": "display_data"
    }
   ],
   "source": [
    "data['floors_total'].hist(bins=20) \n",
    "plt.xlabel('Этажность дома') \n",
    "plt.ylabel('Частота с разбивкой') \n",
    "plt.title(\"floors_total\")\n",
    "plt.show()"
   ]
  },
  {
   "cell_type": "markdown",
   "metadata": {},
   "source": [
    "Here the situation is the same as with the floor of the apartment - most often there are floors in the area from 5 to 10th."
   ]
  },
  {
   "cell_type": "code",
   "execution_count": 57,
   "metadata": {},
   "outputs": [
    {
     "data": {
      "image/png": "[encoded data removed]",
      "text/plain": [
       "<Figure size 432x288 with 1 Axes>"
      ]
     },
     "metadata": {
      "needs_background": "light"
     },
     "output_type": "display_data"
    }
   ],
   "source": [
    "data['cityCenters_nearest'].hist(bins=20) \n",
    "plt.xlabel('Близость центра') \n",
    "plt.ylabel('Частота с разбивкой') \n",
    "plt.title(\"cityCenters_nearest\")\n",
    "plt.show()"
   ]
  },
  {
   "cell_type": "markdown",
   "metadata": {},
   "source": [
    "Quite a few apartments are located closer than the city center (which city?) less than 10 kilometers away - mostly the center is at least 10 kilometers away and further.\n",
    "\n",
    "In addition to this, the sample is extremely low compared to the total number of lines - more than 50% of empty lines."
   ]
  },
  {
   "cell_type": "code",
   "execution_count": 58,
   "metadata": {},
   "outputs": [
    {
     "data": {
      "image/png": "[encoded data removed]",
      "text/plain": [
       "<Figure size 432x288 with 1 Axes>"
      ]
     },
     "metadata": {
      "needs_background": "light"
     },
     "output_type": "display_data"
    }
   ],
   "source": [
    "data['airports_nearest'].hist(bins=20) \n",
    "plt.xlabel('Близость аэропорта') \n",
    "plt.ylabel('Частота с разбивкой') \n",
    "plt.title(\"airports_nearest\")\n",
    "plt.show()"
   ]
  },
  {
   "cell_type": "markdown",
   "metadata": {},
   "source": [
    "The distribution by distance from the airport is smoother - probably due to the fact that airports of neighboring regions can be taken into account if the point is located on the border.\n",
    "\n",
    "This may also be due to the fact that many apartments are located far from the city center, which means they are closer to the city border, and, accordingly, the airport.\n",
    "\n",
    "In addition to this, the sample is extremely low compared to the total number of lines - more than 50% of empty lines."
   ]
  },
  {
   "cell_type": "code",
   "execution_count": 59,
   "metadata": {},
   "outputs": [
    {
     "data": {
      "image/png": "[encoded data removed]",
      "text/plain": [
       "<Figure size 432x288 with 1 Axes>"
      ]
     },
     "metadata": {
      "needs_background": "light"
     },
     "output_type": "display_data"
    }
   ],
   "source": [
    "data['parks_nearest'].hist(bins=20) \n",
    "plt.xlabel('Близость парка') \n",
    "plt.ylabel('Частота с разбивкой') \n",
    "plt.title(\"parks_nearest\")\n",
    "plt.show()"
   ]
  },
  {
   "cell_type": "markdown",
   "metadata": {},
   "source": [
    "We do not have information about how far the parks are not within a radius of 3000 meters - this may mean that there are no nearest parks further than 3 km, or that people did not enter this information - more than 50% of the lines are empty. We could use map data from the internet to fill in this data, as long as we have at least the apartment's zip code."
   ]
  },
  {
   "cell_type": "code",
   "execution_count": 60,
   "metadata": {},
   "outputs": [
    {
     "data": {
      "image/png": "[encoded data removed]",
      "text/plain": [
       "<Figure size 432x288 with 1 Axes>"
      ]
     },
     "metadata": {
      "needs_background": "light"
     },
     "output_type": "display_data"
    },
    {
     "data": {
      "image/png": "[encoded data removed]",
      "text/plain": [
       "<Figure size 432x288 with 1 Axes>"
      ]
     },
     "metadata": {
      "needs_background": "light"
     },
     "output_type": "display_data"
    }
   ],
   "source": [
    "data['first_weekday_exposition'].hist(bins=20) \n",
    "plt.xlabel('День недели выставления объявления') \n",
    "plt.ylabel('Частота с разбивкой') \n",
    "plt.title(\"first_weekday_exposition\")\n",
    "plt.show()\n",
    "\n",
    "data['first_month_exposition'].hist(bins=20) \n",
    "plt.xlabel('Месяц выставления объявления') \n",
    "plt.ylabel('Частота с разбивкой') \n",
    "plt.title(\"first_month_exposition\")\n",
    "plt.show()"
   ]
  },
  {
   "cell_type": "markdown",
   "metadata": {},
   "source": [
    "There is an approximate dependence of the frequency of placing ads on the days of the week and on the month, but the histogram is not the most visual graph for this data."
   ]
  },
  {
   "cell_type": "markdown",
   "metadata": {},
   "source": [
    "We see an increase in the number of ads for the sale of apartments. There can be many reasons for this - the data from the table is not enough for an accurate answer:\n",
    "1) placing ads on the Internet has become more popular over time\\\n",
    "2) people began to buy larger apartments and therefore sell current ones\\\n",
    "3) people had to sell their apartment due to the crisis (post 2014) and move to a cheaper place\\\n",
    "4) people began to move to larger cities - from the village to somewhere else\\\n",
    "5) and other reasons that are difficult to identify with the current data set."
   ]
  },
  {
   "cell_type": "markdown",
   "metadata": {},
   "source": [
    "#### How fast are apartments being sold"
   ]
  },
  {
   "cell_type": "code",
   "execution_count": 61,
   "metadata": {},
   "outputs": [
    {
     "name": "stdout",
     "output_type": "stream",
     "text": [
      "Среднее: 185.60227032064043\n",
      "Медиана: 94.0\n"
     ]
    },
    {
     "data": {
      "image/png": "[encoded data removed]",
      "text/plain": [
       "<Figure size 432x288 with 1 Axes>"
      ]
     },
     "metadata": {
      "needs_background": "light"
     },
     "output_type": "display_data"
    }
   ],
   "source": [
    "print('Среднее:', data['days_exposition'].mean())\n",
    "print('Медиана:', data['days_exposition'].median())\n",
    "data['days_exposition'].hist(bins=20) \n",
    "plt.show()"
   ]
  },
  {
   "cell_type": "markdown",
   "metadata": {},
   "source": [
    "Usually an object is sold in 100 days, or approximately 3.5 months.\\\n",
    "If the object was sold within 200-240 days, the sale can be considered fast, after a year - not very normal, and sales longer than a year can already be considered unreasonably long. There can be many reasons - from location to price (and sometimes with an inverse correlation - an apartment in the center for 200 million will be waiting for a buyer for a long time)."
   ]
  },
  {
   "cell_type": "markdown",
   "metadata": {},
   "source": [
    "#### What affects the price the most"
   ]
  },
  {
   "cell_type": "markdown",
   "metadata": {},
   "source": [
    "First, let's check the correlation - most likely, for the living area and the area of the apartment it will be similar to the total area - because they are included in the living area."
   ]
  },
  {
   "cell_type": "code",
   "execution_count": 62,
   "metadata": {},
   "outputs": [
    {
     "data": {
      "text/html": [
       "<div>\n",
       "<style scoped>\n",
       "    .dataframe tbody tr th:only-of-type {\n",
       "        vertical-align: middle;\n",
       "    }\n",
       "\n",
       "    .dataframe tbody tr th {\n",
       "        vertical-align: top;\n",
       "    }\n",
       "\n",
       "    .dataframe thead th {\n",
       "        text-align: right;\n",
       "    }\n",
       "</style>\n",
       "<table border=\"1\" class=\"dataframe\">\n",
       "  <thead>\n",
       "    <tr style=\"text-align: right;\">\n",
       "      <th></th>\n",
       "      <th>last_price</th>\n",
       "      <th>total_area</th>\n",
       "      <th>living_area</th>\n",
       "      <th>kitchen_area</th>\n",
       "      <th>rooms</th>\n",
       "    </tr>\n",
       "  </thead>\n",
       "  <tbody>\n",
       "    <tr>\n",
       "      <th>last_price</th>\n",
       "      <td>1.000000</td>\n",
       "      <td>0.675148</td>\n",
       "      <td>0.587337</td>\n",
       "      <td>0.513147</td>\n",
       "      <td>0.393903</td>\n",
       "    </tr>\n",
       "    <tr>\n",
       "      <th>total_area</th>\n",
       "      <td>0.675148</td>\n",
       "      <td>1.000000</td>\n",
       "      <td>0.928968</td>\n",
       "      <td>0.593527</td>\n",
       "      <td>0.785057</td>\n",
       "    </tr>\n",
       "    <tr>\n",
       "      <th>living_area</th>\n",
       "      <td>0.587337</td>\n",
       "      <td>0.928968</td>\n",
       "      <td>1.000000</td>\n",
       "      <td>0.399155</td>\n",
       "      <td>0.852454</td>\n",
       "    </tr>\n",
       "    <tr>\n",
       "      <th>kitchen_area</th>\n",
       "      <td>0.513147</td>\n",
       "      <td>0.593527</td>\n",
       "      <td>0.399155</td>\n",
       "      <td>1.000000</td>\n",
       "      <td>0.257037</td>\n",
       "    </tr>\n",
       "    <tr>\n",
       "      <th>rooms</th>\n",
       "      <td>0.393903</td>\n",
       "      <td>0.785057</td>\n",
       "      <td>0.852454</td>\n",
       "      <td>0.257037</td>\n",
       "      <td>1.000000</td>\n",
       "    </tr>\n",
       "  </tbody>\n",
       "</table>\n",
       "</div>"
      ],
      "text/plain": [
       "              last_price  total_area  living_area  kitchen_area     rooms\n",
       "last_price      1.000000    0.675148     0.587337      0.513147  0.393903\n",
       "total_area      0.675148    1.000000     0.928968      0.593527  0.785057\n",
       "living_area     0.587337    0.928968     1.000000      0.399155  0.852454\n",
       "kitchen_area    0.513147    0.593527     0.399155      1.000000  0.257037\n",
       "rooms           0.393903    0.785057     0.852454      0.257037  1.000000"
      ]
     },
     "execution_count": 62,
     "metadata": {},
     "output_type": "execute_result"
    }
   ],
   "source": [
    "data[['last_price','total_area', 'living_area', 'kitchen_area', 'rooms']].corr()"
   ]
  },
  {
   "cell_type": "code",
   "execution_count": 63,
   "metadata": {},
   "outputs": [],
   "source": [
    "price_tarea_pivot = data.pivot_table(index = 'total_area', values = 'last_price', aggfunc = 'median')\n",
    "price_larea_pivot = data.pivot_table(index = 'living_area', values = 'last_price', aggfunc = 'median')\n",
    "price_karea_pivot = data.pivot_table(index = 'kitchen_area', values = 'last_price', aggfunc = 'median')\n",
    "price_room_pivot = data.pivot_table(index = 'rooms', values = 'last_price', aggfunc = 'median')\n",
    "price_weekd_pivot = data.pivot_table(index = 'first_weekday_exposition', values = 'last_price', aggfunc = 'median')\n",
    "price_month_pivot = data.pivot_table(index = 'first_month_exposition', values = 'last_price', aggfunc = 'median')\n",
    "price_year_pivot = data.pivot_table(index = 'first_year_exposition', values = 'last_price', aggfunc = 'median')\n",
    "price_floor_pivot = data.pivot_table(index = 'floor_category', values = 'last_price', aggfunc = 'median')"
   ]
  },
  {
   "cell_type": "code",
   "execution_count": 64,
   "metadata": {
    "scrolled": true
   },
   "outputs": [
    {
     "data": {
      "text/plain": [
       "array([<AxesSubplot:xlabel='kitchen_area'>], dtype=object)"
      ]
     },
     "execution_count": 64,
     "metadata": {},
     "output_type": "execute_result"
    },
    {
     "data": {
      "image/png": "[encoded data removed]",
      "text/plain": [
       "<Figure size 1080x288 with 3 Axes>"
      ]
     },
     "metadata": {
      "needs_background": "light"
     },
     "output_type": "display_data"
    }
   ],
   "source": [
    "fig, axes1 = plt.subplots(nrows=1,ncols=3,figsize=(15,4))\n",
    "# plot first pandas frame in subplot style\n",
    "price_tarea_pivot.plot(ax = axes1[0],subplots=True, style='o', alpha = 0.3) \n",
    "# plot second pandas frame in subplot style\n",
    "price_larea_pivot.plot(ax = axes1[1],subplots=True, style='o', alpha = 0.3)\n",
    "# plot third pandas frame in subplot style\n",
    "price_karea_pivot.plot(ax = axes1[2],subplots=True, style='o', alpha = 0.3)"
   ]
  },
  {
   "cell_type": "markdown",
   "metadata": {},
   "source": [
    "The price directly depends on the flat size - but the sizes also depends on each other. Therefore, you can only use the total_area indicator to say that the larger the apartment, the higher the price - and the progression is smooth - due to the fact that the price per square meter does not change much with increasing footage. It depends more on the location."
   ]
  },
  {
   "cell_type": "code",
   "execution_count": 65,
   "metadata": {},
   "outputs": [
    {
     "data": {
      "text/plain": [
       "array([<AxesSubplot:xlabel='first_year_exposition'>], dtype=object)"
      ]
     },
     "execution_count": 65,
     "metadata": {},
     "output_type": "execute_result"
    },
    {
     "data": {
      "image/png": "[encoded data removed]",
      "text/plain": [
       "<Figure size 1080x288 with 3 Axes>"
      ]
     },
     "metadata": {
      "needs_background": "light"
     },
     "output_type": "display_data"
    }
   ],
   "source": [
    "fig, axes2 = plt.subplots(nrows=1,ncols=3,figsize=(15,4))\n",
    "# plot first pandas frame in subplot style\n",
    "price_weekd_pivot.plot(ax = axes2[0],subplots=True, style='o-') \n",
    "# plot second pandas frame in subplot style\n",
    "price_month_pivot.plot(ax = axes2[1],subplots=True, style='o-') \n",
    "# plot third pandas frame in subplot style\n",
    "price_year_pivot.plot(ax = axes2[2],subplots=True, style='o-') "
   ]
  },
  {
   "cell_type": "markdown",
   "metadata": {},
   "source": [
    "1) Day of the week - at the beginning of the week the price rises, in the middle of the week it starts to fall, and at the end of the week it reaches a plateau. But this may not depend on the day of the week, but on the time the ad is posted, depending on the location. What does this mean:\\\n",
    "- Working people (not pensioners, for example) may not have time to put up an apartment for sale by themselves during weekdays - we can assume that there are more working people in St. Petersburg - but when they do put up an apartment, they do not reduce the price in relation to to other ads/\n",
    "- Unemployed people can advertise all week - and most likely they are dumping the price hoping that it will sell faster - or the size of their apartments does not allow them to put a higher price.\n",
    "As a result, we cannot say that the dependence is exclusively in the day of the week, but the dependence is visible, it's just not the only one.\n",
    " \n",
    "2) Month - we see that at the beginning of the school holidays, the apartments offered are cheaper - but there is no direct dependence on the month of the offer. Jumps are too frequent and scattered.\n",
    "\n",
    "3) Year of exposure - a smooth line symbolizes a direct relationship. At first, apartment prices fell, then they stayed at the same level, and by 2019 they began to increase - this coincides with the economic cycles - a fall, a drop, an increase. The economic crisis of 2014 lasted for about 5 years, which we can see on the graph of the annual change in the price of apartments."
   ]
  },
  {
   "cell_type": "code",
   "execution_count": 66,
   "metadata": {},
   "outputs": [
    {
     "data": {
      "text/plain": [
       "array([<AxesSubplot:xlabel='rooms'>], dtype=object)"
      ]
     },
     "execution_count": 66,
     "metadata": {},
     "output_type": "execute_result"
    },
    {
     "data": {
      "image/png": "[encoded data removed]",
      "text/plain": [
       "<Figure size 1080x288 with 2 Axes>"
      ]
     },
     "metadata": {
      "needs_background": "light"
     },
     "output_type": "display_data"
    }
   ],
   "source": [
    "fig, axes3 = plt.subplots(nrows=1,ncols=2,figsize=(15,4))\n",
    "# plot first pandas frame in subplot style\n",
    "price_floor_pivot.plot(ax = axes3[0],subplots=True, style='o-') \n",
    "# plot second pandas frame in subplot style\n",
    "price_room_pivot.plot(ax = axes3[1],subplots=True, style='o-')"
   ]
  },
  {
   "cell_type": "markdown",
   "metadata": {},
   "source": [
    "1) Floor - the dependence is not visible - there are statistically less first and last floors than others, so the graph is not informative.\\\n",
    "2) The number of rooms - as in the case of the total footage, the dependence is direct - and it is worth paying attention to the beginning of the graph, because the most common apartments are 2-4 room apartments."
   ]
  },
  {
   "cell_type": "markdown",
   "metadata": {},
   "source": [
    "Total: the most powerful influences on the price:\n",
    "1) Total footage, in connection with this, the number of rooms, kitchen footage and living footage.\\\n",
    "2) Day of the week\\\n",
    "3) Year - not the year itself affects the price, but the events that occurred in a certain time period."
   ]
  },
  {
   "cell_type": "markdown",
   "metadata": {},
   "source": [
    "#### The most often occuring locations with the cheapest and most expensive meter square."
   ]
  },
  {
   "cell_type": "code",
   "execution_count": 67,
   "metadata": {},
   "outputs": [
    {
     "name": "stdout",
     "output_type": "stream",
     "text": [
      "                 count  median_sqm_price\n",
      "locality_name                           \n",
      "Санкт-Петербург  15647     104729.729730\n",
      "Мурино             590      86175.643522\n",
      "Кудрово            471      95762.711864\n",
      "Шушары             440      76876.172608\n",
      "Всеволожск         397      65789.473684\n",
      "Пушкин             367     100000.000000\n",
      "Колпино            337      74722.222222\n",
      "Парголово          327      91642.857143\n",
      "Гатчина            307      67796.610169\n",
      "Выборг             235      58307.692308\n"
     ]
    }
   ],
   "source": [
    "most_posts = data.groupby('locality_name').agg({'last_price':['count'],'price_per_sqm':['median']})\n",
    "most_posts.columns = ['count', 'median_sqm_price']\n",
    "most_posts = most_posts.sort_values(by = 'count', ascending = False).head(10)\n",
    "print(most_posts)"
   ]
  },
  {
   "cell_type": "markdown",
   "metadata": {},
   "source": [
    "We have identified the settlements with the largest number of ads - 10 pieces. Now we need to find the most expensive and cheapest square meter among these settlements and display the points themselves."
   ]
  },
  {
   "cell_type": "code",
   "execution_count": 68,
   "metadata": {
    "scrolled": true
   },
   "outputs": [
    {
     "name": "stdout",
     "output_type": "stream",
     "text": [
      "The cheapest meter is in: ['Выборг']\n",
      "The most expensive meter is in: ['Санкт-Петербург']\n",
      "Average square meter price: 82180\n"
     ]
    }
   ],
   "source": [
    "print('The cheapest meter is in:', most_posts.loc[most_posts['median_sqm_price'] == most_posts['median_sqm_price'].min()].index.values)\n",
    "print('The most expensive meter is in:', most_posts.loc[most_posts['median_sqm_price'] == most_posts['median_sqm_price'].max()].index.values)\n",
    "print('Average square meter price:', most_posts['median_sqm_price'].mean().astype('int'))"
   ]
  },
  {
   "cell_type": "markdown",
   "metadata": {},
   "source": [
    "It is quite logical that the most expensive square meter is in St. Petersburg. The cheapest one is in Vyborg."
   ]
  },
  {
   "cell_type": "markdown",
   "metadata": {},
   "source": [
    "#### The center of Saints-Petersburg."
   ]
  },
  {
   "cell_type": "code",
   "execution_count": 69,
   "metadata": {},
   "outputs": [
    {
     "name": "stdout",
     "output_type": "stream",
     "text": [
      "count        18.102000\n",
      "mean       1257.651086\n",
      "std        6764.890548\n",
      "min           1.328466\n",
      "25%         264.410647\n",
      "50%         396.356368\n",
      "75%         812.595454\n",
      "max      364678.899083\n",
      "Name: price_per_center_km, dtype: float64\n",
      "1430511.4260355064\n",
      "447523.56036221166\n"
     ]
    },
    {
     "data": {
      "text/plain": [
       "<AxesSubplot:xlabel='city_centers_nearest_km'>"
      ]
     },
     "execution_count": 69,
     "metadata": {},
     "output_type": "execute_result"
    },
    {
     "data": {
      "image/png": "[encoded data removed]",
      "text/plain": [
       "<Figure size 432x288 with 1 Axes>"
      ]
     },
     "metadata": {
      "needs_background": "light"
     },
     "output_type": "display_data"
    }
   ],
   "source": [
    "data['price_per_center_km'] = ((data['last_price']) / data['city_centers_nearest_km'])\n",
    "print(data['price_per_center_km'].describe()/1000) # деление на 1000 чтобы убрать scientific notation\n",
    "print(data.loc[data['locality_name'] == 'Санкт-Петербург', 'price_per_center_km'].mean())\n",
    "print(data.loc[data['locality_name'] == 'Санкт-Петербург', 'price_per_center_km'].median())\n",
    "\n",
    "data[data['locality_name'] == 'Санкт-Петербург'].plot(x='city_centers_nearest_km',y='last_price',style='o', alpha = 0.2)"
   ]
  },
  {
   "cell_type": "markdown",
   "metadata": {},
   "source": [
    "The relative dependence of the price on the location near the center of St. Petersburg is noticeable - but it is not direct. In short, a distance of more than 7-8 kilometers from the center does not affect the price in any way. Getting closer does not have an absolute dependence, but we notice some positions that increase sharply in price - in principle, everything that is almost near the center and 5 kilometers from it has the same direct dependence.\\\n",
    "Most likely, the absence of direct dependence is connected with the state of the city. The center of St. Petersburg was not repaired at the same pace as the center of Moscow - many buildings are in emergency condition, the streets are poorly cleaned in winter, and in principle the budget of the second capital is different. Therefore, there is no desire to live in the center of St. Petersburg, and because of this, prices do not increase in proportion to proximity to the center."
   ]
  },
  {
   "cell_type": "markdown",
   "metadata": {},
   "source": [
    "### Conclusion"
   ]
  },
  {
   "cell_type": "markdown",
   "metadata": {},
   "source": [
    "#### Data information"
   ]
  },
  {
   "cell_type": "markdown",
   "metadata": {},
   "source": [
    "1) Problems of initial data. There is not enough data in the table to draw more detailed conclusions:\n",
    "- there is not a lot of data on distances - gaps in 20-40% of the lines\n",
    "- points of reference of distances are not given - from the center of which city? From which airport?\n",
    "- no address / zip code / longitude and latitude of accommodation. Together with the distance reference point, we could have filled in the distance data ourselves\n",
    "- the dimensions of the living area and kitchen, the height of the ceilings are not filled\n",
    "- no filling by type of apartment, free planning\n",
    "- for unclosed positions there is no indication of how long the ad has been published for - this must be counted depending on the date of the data download. In this case, you must also add the column \"Sold / Not sold\"\n",
    "- city names are not the same - this could also be solved by having a house ZIP\n",
    "\n",
    "2) According to the comments above, following needs to be added:\n",
    "- ZIP column or other geographical designation of the location\n",
    "- Column 'Sold / Not sold'\n",
    "- Reference point of distances - nearest parks, lakes, airports, city center - in the title columns or separate ones(if the point is different)\n",
    "- Building type - new or not\n",
    "- Building level - premium / normal or other indicators\n",
    "- If it has been renovated or not\n",
    "- Availability of parking"
   ]
  },
  {
   "cell_type": "markdown",
   "metadata": {},
   "source": [
    "#### Task conclusion"
   ]
  },
  {
   "cell_type": "markdown",
   "metadata": {},
   "source": [
    "'Your job is to set the parameters. This will allow an automated system to be built to track anomalies and fraudulent activity.'\n",
    "\n",
    "We need to understand what we mean by fraudulent activity. If this is an attempt at money laundering or other cases of illegal transactions, we will have to pay attention to the extremely low price per square meter for apartments located, for example, in the very center of the city, or the extremely high price per square meter for unfavorably located apartments."
   ]
  },
  {
   "cell_type": "code",
   "execution_count": 70,
   "metadata": {},
   "outputs": [
    {
     "data": {
      "text/plain": [
       "array([<AxesSubplot:xlabel='price_per_sqm'>], dtype=object)"
      ]
     },
     "execution_count": 70,
     "metadata": {},
     "output_type": "execute_result"
    },
    {
     "data": {
      "image/png": "[encoded data removed]",
      "text/plain": [
       "<Figure size 1080x288 with 2 Axes>"
      ]
     },
     "metadata": {
      "needs_background": "light"
     },
     "output_type": "display_data"
    }
   ],
   "source": [
    "fig, axes4 = plt.subplots(nrows=1,ncols=2,figsize=(15,4))\n",
    "\n",
    "data[(data['locality_name'] == 'Санкт-Петербург') & (data['city_centers_nearest_km'] < 1) &(data['first_year_exposition'] == 2017)].plot(x='price_per_sqm',y='city_centers_nearest_km',style='o', alpha = 0.2, ax = axes4[0],subplots=True)\n",
    "data[(data['locality_name'] == 'Санкт-Петербург') & (data['city_centers_nearest_km'] < 1) &(data['first_year_exposition'] == 2017)].plot(x='price_per_sqm',y='total_area',style='o', alpha = 0.2, ax = axes4[1],subplots=True)"
   ]
  },
  {
   "cell_type": "markdown",
   "metadata": {},
   "source": [
    "For example, if you take the graph above, you might think that the value of 160 million rubles is suspiciously sticking out - but it is also the largest proposal in terms of area.\\\n",
    "But the lowest value on the right graph, about 200,000 rubles per square meter, does look suspicious - it stands out from the general group in terms of footage, and the second value on the same straight line (about 200K per square meter) is already within the logical range - moreover, the group from 50 to 100 square meters is evenly spaced from the center, but has about the same price, and this particular value is more expensive for less footage and being within 500 meters from the center."
   ]
  },
  {
   "cell_type": "code",
   "execution_count": 71,
   "metadata": {},
   "outputs": [
    {
     "data": {
      "text/html": [
       "<div>\n",
       "<style scoped>\n",
       "    .dataframe tbody tr th:only-of-type {\n",
       "        vertical-align: middle;\n",
       "    }\n",
       "\n",
       "    .dataframe tbody tr th {\n",
       "        vertical-align: top;\n",
       "    }\n",
       "\n",
       "    .dataframe thead th {\n",
       "        text-align: right;\n",
       "    }\n",
       "</style>\n",
       "<table border=\"1\" class=\"dataframe\">\n",
       "  <thead>\n",
       "    <tr style=\"text-align: right;\">\n",
       "      <th></th>\n",
       "      <th>total_images</th>\n",
       "      <th>last_price</th>\n",
       "      <th>total_area</th>\n",
       "      <th>first_day_exposition</th>\n",
       "      <th>rooms</th>\n",
       "      <th>ceiling_height</th>\n",
       "      <th>floors_total</th>\n",
       "      <th>living_area</th>\n",
       "      <th>floor</th>\n",
       "      <th>is_apartment</th>\n",
       "      <th>...</th>\n",
       "      <th>locality_type_city</th>\n",
       "      <th>total_area_categories</th>\n",
       "      <th>last_day_exposition</th>\n",
       "      <th>price_per_sqm</th>\n",
       "      <th>first_weekday_exposition</th>\n",
       "      <th>first_month_exposition</th>\n",
       "      <th>first_year_exposition</th>\n",
       "      <th>city_centers_nearest_km</th>\n",
       "      <th>floor_category</th>\n",
       "      <th>price_per_center_km</th>\n",
       "    </tr>\n",
       "  </thead>\n",
       "  <tbody>\n",
       "    <tr>\n",
       "      <th>492</th>\n",
       "      <td>18</td>\n",
       "      <td>95000000.0</td>\n",
       "      <td>216.0</td>\n",
       "      <td>2017-12-05</td>\n",
       "      <td>4</td>\n",
       "      <td>3.00</td>\n",
       "      <td>5</td>\n",
       "      <td>86.0</td>\n",
       "      <td>4</td>\n",
       "      <td>False</td>\n",
       "      <td>...</td>\n",
       "      <td>True</td>\n",
       "      <td>1</td>\n",
       "      <td>2017-12-19</td>\n",
       "      <td>439814.814815</td>\n",
       "      <td>1</td>\n",
       "      <td>12</td>\n",
       "      <td>2017</td>\n",
       "      <td>0.436</td>\n",
       "      <td>другой</td>\n",
       "      <td>2.178899e+08</td>\n",
       "    </tr>\n",
       "    <tr>\n",
       "      <th>7744</th>\n",
       "      <td>16</td>\n",
       "      <td>11500000.0</td>\n",
       "      <td>48.0</td>\n",
       "      <td>2017-12-02</td>\n",
       "      <td>1</td>\n",
       "      <td>3.70</td>\n",
       "      <td>5</td>\n",
       "      <td>25.0</td>\n",
       "      <td>3</td>\n",
       "      <td>False</td>\n",
       "      <td>...</td>\n",
       "      <td>True</td>\n",
       "      <td>7</td>\n",
       "      <td>2018-03-25</td>\n",
       "      <td>239583.333333</td>\n",
       "      <td>5</td>\n",
       "      <td>12</td>\n",
       "      <td>2017</td>\n",
       "      <td>0.583</td>\n",
       "      <td>другой</td>\n",
       "      <td>1.972556e+07</td>\n",
       "    </tr>\n",
       "    <tr>\n",
       "      <th>13919</th>\n",
       "      <td>12</td>\n",
       "      <td>65000000.0</td>\n",
       "      <td>129.0</td>\n",
       "      <td>2017-09-25</td>\n",
       "      <td>3</td>\n",
       "      <td>2.65</td>\n",
       "      <td>6</td>\n",
       "      <td>72.0</td>\n",
       "      <td>5</td>\n",
       "      <td>False</td>\n",
       "      <td>...</td>\n",
       "      <td>True</td>\n",
       "      <td>3</td>\n",
       "      <td>2017-10-08</td>\n",
       "      <td>503875.968992</td>\n",
       "      <td>0</td>\n",
       "      <td>9</td>\n",
       "      <td>2017</td>\n",
       "      <td>0.318</td>\n",
       "      <td>другой</td>\n",
       "      <td>2.044025e+08</td>\n",
       "    </tr>\n",
       "    <tr>\n",
       "      <th>16495</th>\n",
       "      <td>12</td>\n",
       "      <td>159000000.0</td>\n",
       "      <td>260.0</td>\n",
       "      <td>2017-04-04</td>\n",
       "      <td>4</td>\n",
       "      <td>2.65</td>\n",
       "      <td>5</td>\n",
       "      <td>180.0</td>\n",
       "      <td>4</td>\n",
       "      <td>False</td>\n",
       "      <td>...</td>\n",
       "      <td>True</td>\n",
       "      <td>1</td>\n",
       "      <td>2017-09-29</td>\n",
       "      <td>611538.461538</td>\n",
       "      <td>1</td>\n",
       "      <td>4</td>\n",
       "      <td>2017</td>\n",
       "      <td>0.436</td>\n",
       "      <td>другой</td>\n",
       "      <td>3.646789e+08</td>\n",
       "    </tr>\n",
       "    <tr>\n",
       "      <th>17078</th>\n",
       "      <td>20</td>\n",
       "      <td>11500000.0</td>\n",
       "      <td>57.4</td>\n",
       "      <td>2017-07-24</td>\n",
       "      <td>1</td>\n",
       "      <td>4.25</td>\n",
       "      <td>6</td>\n",
       "      <td>37.5</td>\n",
       "      <td>3</td>\n",
       "      <td>False</td>\n",
       "      <td>...</td>\n",
       "      <td>True</td>\n",
       "      <td>6</td>\n",
       "      <td>2018-10-18</td>\n",
       "      <td>200348.432056</td>\n",
       "      <td>0</td>\n",
       "      <td>7</td>\n",
       "      <td>2017</td>\n",
       "      <td>0.392</td>\n",
       "      <td>другой</td>\n",
       "      <td>2.933673e+07</td>\n",
       "    </tr>\n",
       "    <tr>\n",
       "      <th>17521</th>\n",
       "      <td>17</td>\n",
       "      <td>26000000.0</td>\n",
       "      <td>122.4</td>\n",
       "      <td>2017-08-25</td>\n",
       "      <td>4</td>\n",
       "      <td>2.65</td>\n",
       "      <td>5</td>\n",
       "      <td>71.0</td>\n",
       "      <td>5</td>\n",
       "      <td>False</td>\n",
       "      <td>...</td>\n",
       "      <td>True</td>\n",
       "      <td>3</td>\n",
       "      <td>2018-04-27</td>\n",
       "      <td>212418.300654</td>\n",
       "      <td>4</td>\n",
       "      <td>8</td>\n",
       "      <td>2017</td>\n",
       "      <td>0.537</td>\n",
       "      <td>последний</td>\n",
       "      <td>4.841713e+07</td>\n",
       "    </tr>\n",
       "    <tr>\n",
       "      <th>19904</th>\n",
       "      <td>4</td>\n",
       "      <td>2400000.0</td>\n",
       "      <td>12.0</td>\n",
       "      <td>2017-07-19</td>\n",
       "      <td>1</td>\n",
       "      <td>2.55</td>\n",
       "      <td>5</td>\n",
       "      <td>10.0</td>\n",
       "      <td>2</td>\n",
       "      <td>False</td>\n",
       "      <td>...</td>\n",
       "      <td>True</td>\n",
       "      <td>10</td>\n",
       "      <td>2018-02-04</td>\n",
       "      <td>200000.000000</td>\n",
       "      <td>2</td>\n",
       "      <td>7</td>\n",
       "      <td>2017</td>\n",
       "      <td>0.964</td>\n",
       "      <td>другой</td>\n",
       "      <td>2.489627e+06</td>\n",
       "    </tr>\n",
       "  </tbody>\n",
       "</table>\n",
       "<p>7 rows × 32 columns</p>\n",
       "</div>"
      ],
      "text/plain": [
       "       total_images   last_price  total_area first_day_exposition  rooms  \\\n",
       "492              18   95000000.0       216.0           2017-12-05      4   \n",
       "7744             16   11500000.0        48.0           2017-12-02      1   \n",
       "13919            12   65000000.0       129.0           2017-09-25      3   \n",
       "16495            12  159000000.0       260.0           2017-04-04      4   \n",
       "17078            20   11500000.0        57.4           2017-07-24      1   \n",
       "17521            17   26000000.0       122.4           2017-08-25      4   \n",
       "19904             4    2400000.0        12.0           2017-07-19      1   \n",
       "\n",
       "       ceiling_height  floors_total  living_area  floor  is_apartment  ...  \\\n",
       "492              3.00             5         86.0      4         False  ...   \n",
       "7744             3.70             5         25.0      3         False  ...   \n",
       "13919            2.65             6         72.0      5         False  ...   \n",
       "16495            2.65             5        180.0      4         False  ...   \n",
       "17078            4.25             6         37.5      3         False  ...   \n",
       "17521            2.65             5         71.0      5         False  ...   \n",
       "19904            2.55             5         10.0      2         False  ...   \n",
       "\n",
       "       locality_type_city  total_area_categories  last_day_exposition  \\\n",
       "492                  True                      1           2017-12-19   \n",
       "7744                 True                      7           2018-03-25   \n",
       "13919                True                      3           2017-10-08   \n",
       "16495                True                      1           2017-09-29   \n",
       "17078                True                      6           2018-10-18   \n",
       "17521                True                      3           2018-04-27   \n",
       "19904                True                     10           2018-02-04   \n",
       "\n",
       "       price_per_sqm first_weekday_exposition  first_month_exposition  \\\n",
       "492    439814.814815                        1                      12   \n",
       "7744   239583.333333                        5                      12   \n",
       "13919  503875.968992                        0                       9   \n",
       "16495  611538.461538                        1                       4   \n",
       "17078  200348.432056                        0                       7   \n",
       "17521  212418.300654                        4                       8   \n",
       "19904  200000.000000                        2                       7   \n",
       "\n",
       "       first_year_exposition  city_centers_nearest_km  floor_category  \\\n",
       "492                     2017                    0.436          другой   \n",
       "7744                    2017                    0.583          другой   \n",
       "13919                   2017                    0.318          другой   \n",
       "16495                   2017                    0.436          другой   \n",
       "17078                   2017                    0.392          другой   \n",
       "17521                   2017                    0.537       последний   \n",
       "19904                   2017                    0.964          другой   \n",
       "\n",
       "       price_per_center_km  \n",
       "492           2.178899e+08  \n",
       "7744          1.972556e+07  \n",
       "13919         2.044025e+08  \n",
       "16495         3.646789e+08  \n",
       "17078         2.933673e+07  \n",
       "17521         4.841713e+07  \n",
       "19904         2.489627e+06  \n",
       "\n",
       "[7 rows x 32 columns]"
      ]
     },
     "execution_count": 71,
     "metadata": {},
     "output_type": "execute_result"
    }
   ],
   "source": [
    "data.loc[(data['locality_name'] == 'Санкт-Петербург') & (data['city_centers_nearest_km'] < 1) & (data['first_year_exposition'] == 2017) & (195000 < data['price_per_sqm'])]"
   ]
  },
  {
   "cell_type": "markdown",
   "metadata": {},
   "source": [
    "Our line is the last one. Why is this apartment so expensive - it is farther from the center than everything in the sample, and also with the lowest ceilings. For further analysis, we will already need to view the photo, maybe even call the owner.\n",
    "\n",
    "In principle, any apartments whose cost per square meter differs by more than 30% from the average / median in a particular city can be considered as potentially suspicious. But as we have already seen above, this is influenced by the \"uniqueness\" factor - large apartments in the center, for example, are rare, and you can ask more for them. That is why a detailed analysis of indicators requires more of the auxiliary columns indicated above."
   ]
  },
  {
   "cell_type": "markdown",
   "metadata": {},
   "source": [
    "#### Finalisation"
   ]
  },
  {
   "cell_type": "markdown",
   "metadata": {},
   "source": [
    "A lot of factors influence the price. The main ones are listed in the graphs and summary tables above - footage (the larger the footage, the more expensive the apartment), location (the closer to the center, the more expensive), city (large cities are more expensive). There are many small additional factors - but they apply to apartments above the average level.\n",
    "\n",
    "To determine fraud, in addition to the difference from the average price per square meter, you can also take the speed of selling an apartment - it is extremely difficult to sell an apartment in a month if it is not absolutely ideal in all respects, including price. But usually people sell an apartment for the price they want, not the buyers."
   ]
  }
 ],
 "metadata": {
  "ExecuteTimeLog": [
   {
    "duration": 383,
    "start_time": "2022-08-21T13:22:24.310Z"
   },
   {
    "duration": 68,
    "start_time": "2022-08-21T13:24:10.043Z"
   },
   {
    "duration": 763,
    "start_time": "2022-08-21T13:24:15.906Z"
   },
   {
    "duration": 98,
    "start_time": "2022-08-21T13:24:42.000Z"
   },
   {
    "duration": 126,
    "start_time": "2022-08-21T13:25:08.115Z"
   },
   {
    "duration": 445,
    "start_time": "2022-08-21T13:25:11.834Z"
   },
   {
    "duration": 111,
    "start_time": "2022-08-21T13:27:07.994Z"
   },
   {
    "duration": 15,
    "start_time": "2022-08-21T13:27:27.176Z"
   },
   {
    "duration": 16,
    "start_time": "2022-08-21T13:28:07.281Z"
   },
   {
    "duration": 114,
    "start_time": "2022-08-21T13:28:23.369Z"
   },
   {
    "duration": 153,
    "start_time": "2022-08-21T13:28:31.481Z"
   },
   {
    "duration": 97,
    "start_time": "2022-08-21T13:28:43.539Z"
   },
   {
    "duration": 128,
    "start_time": "2022-08-21T13:29:22.379Z"
   },
   {
    "duration": 112,
    "start_time": "2022-08-21T13:29:33.969Z"
   },
   {
    "duration": 2273,
    "start_time": "2022-08-21T13:29:45.809Z"
   },
   {
    "duration": 12,
    "start_time": "2022-08-21T13:30:10.099Z"
   },
   {
    "duration": 8,
    "start_time": "2022-08-21T13:55:43.481Z"
   },
   {
    "duration": 5,
    "start_time": "2022-08-21T13:55:58.282Z"
   },
   {
    "duration": 5,
    "start_time": "2022-08-21T13:56:08.645Z"
   },
   {
    "duration": 6,
    "start_time": "2022-08-21T13:57:27.899Z"
   },
   {
    "duration": 5,
    "start_time": "2022-08-21T14:03:51.161Z"
   },
   {
    "duration": 12,
    "start_time": "2022-08-21T14:04:01.021Z"
   },
   {
    "duration": 17,
    "start_time": "2022-08-21T14:04:14.414Z"
   },
   {
    "duration": 11,
    "start_time": "2022-08-21T14:04:29.808Z"
   },
   {
    "duration": 8,
    "start_time": "2022-08-21T14:05:37.269Z"
   },
   {
    "duration": 9,
    "start_time": "2022-08-21T14:05:45.034Z"
   },
   {
    "duration": 6,
    "start_time": "2022-08-21T14:06:00.343Z"
   },
   {
    "duration": 6,
    "start_time": "2022-08-21T14:07:20.821Z"
   },
   {
    "duration": 6,
    "start_time": "2022-08-21T14:08:57.013Z"
   },
   {
    "duration": 7,
    "start_time": "2022-08-21T14:09:22.867Z"
   },
   {
    "duration": 13,
    "start_time": "2022-08-21T14:11:05.191Z"
   },
   {
    "duration": 8,
    "start_time": "2022-08-21T14:11:19.427Z"
   },
   {
    "duration": 6,
    "start_time": "2022-08-21T14:18:49.109Z"
   },
   {
    "duration": 6,
    "start_time": "2022-08-21T14:19:20.485Z"
   },
   {
    "duration": 7,
    "start_time": "2022-08-21T14:21:04.811Z"
   },
   {
    "duration": 11,
    "start_time": "2022-08-21T14:22:15.626Z"
   },
   {
    "duration": 111,
    "start_time": "2022-08-21T14:25:25.424Z"
   },
   {
    "duration": 2,
    "start_time": "2022-08-21T14:25:42.851Z"
   },
   {
    "duration": 102,
    "start_time": "2022-08-21T14:25:46.648Z"
   },
   {
    "duration": 144,
    "start_time": "2022-08-21T14:26:16.180Z"
   },
   {
    "duration": 6,
    "start_time": "2022-08-21T14:27:36.015Z"
   },
   {
    "duration": 107,
    "start_time": "2022-08-21T14:37:33.035Z"
   },
   {
    "duration": 116,
    "start_time": "2022-08-21T14:37:46.602Z"
   },
   {
    "duration": 197,
    "start_time": "2022-08-21T14:37:55.820Z"
   },
   {
    "duration": 109,
    "start_time": "2022-08-21T14:38:01.658Z"
   },
   {
    "duration": 13,
    "start_time": "2022-08-21T14:39:26.308Z"
   },
   {
    "duration": 107,
    "start_time": "2022-08-21T14:39:32.371Z"
   },
   {
    "duration": 24,
    "start_time": "2022-08-21T14:39:58.060Z"
   },
   {
    "duration": 158,
    "start_time": "2022-08-21T14:41:25.303Z"
   },
   {
    "duration": 74,
    "start_time": "2022-08-21T14:44:46.487Z"
   },
   {
    "duration": 134,
    "start_time": "2022-08-21T14:44:51.379Z"
   },
   {
    "duration": 142,
    "start_time": "2022-08-21T14:45:02.455Z"
   },
   {
    "duration": 118,
    "start_time": "2022-08-21T14:46:14.940Z"
   },
   {
    "duration": 135,
    "start_time": "2022-08-21T14:47:45.954Z"
   },
   {
    "duration": 153,
    "start_time": "2022-08-21T14:48:04.312Z"
   },
   {
    "duration": 125,
    "start_time": "2022-08-21T14:48:17.972Z"
   },
   {
    "duration": 140,
    "start_time": "2022-08-21T14:48:24.131Z"
   },
   {
    "duration": 143,
    "start_time": "2022-08-21T14:48:35.598Z"
   },
   {
    "duration": 164,
    "start_time": "2022-08-21T15:31:25.882Z"
   },
   {
    "duration": 249,
    "start_time": "2022-08-21T15:31:49.574Z"
   },
   {
    "duration": 205,
    "start_time": "2022-08-21T15:32:02.605Z"
   },
   {
    "duration": 157,
    "start_time": "2022-08-21T15:33:03.398Z"
   },
   {
    "duration": 263,
    "start_time": "2022-08-21T15:35:25.390Z"
   },
   {
    "duration": 5,
    "start_time": "2022-08-21T15:45:03.492Z"
   },
   {
    "duration": 8,
    "start_time": "2022-08-21T15:46:13.986Z"
   },
   {
    "duration": 6,
    "start_time": "2022-08-21T15:46:22.379Z"
   },
   {
    "duration": 8,
    "start_time": "2022-08-21T15:46:41.412Z"
   },
   {
    "duration": 372,
    "start_time": "2022-08-21T15:47:08.422Z"
   },
   {
    "duration": 8,
    "start_time": "2022-08-21T15:47:24.495Z"
   },
   {
    "duration": 7,
    "start_time": "2022-08-21T15:47:37.035Z"
   },
   {
    "duration": 8,
    "start_time": "2022-08-21T15:56:51.702Z"
   },
   {
    "duration": 56,
    "start_time": "2022-08-21T15:58:25.416Z"
   },
   {
    "duration": 60,
    "start_time": "2022-08-21T15:58:29.385Z"
   },
   {
    "duration": 61,
    "start_time": "2022-08-21T15:59:55.686Z"
   },
   {
    "duration": 106,
    "start_time": "2022-08-21T16:00:00.185Z"
   },
   {
    "duration": 11,
    "start_time": "2022-08-21T16:00:06.507Z"
   },
   {
    "duration": 12,
    "start_time": "2022-08-21T16:00:30.871Z"
   },
   {
    "duration": 11,
    "start_time": "2022-08-21T16:03:12.176Z"
   },
   {
    "duration": 6,
    "start_time": "2022-08-21T16:03:29.418Z"
   },
   {
    "duration": 9,
    "start_time": "2022-08-21T16:04:51.651Z"
   },
   {
    "duration": 13,
    "start_time": "2022-08-21T16:05:01.337Z"
   },
   {
    "duration": 17,
    "start_time": "2022-08-21T16:05:04.221Z"
   },
   {
    "duration": 15,
    "start_time": "2022-08-21T16:06:49.652Z"
   },
   {
    "duration": 10,
    "start_time": "2022-08-21T16:06:56.096Z"
   },
   {
    "duration": 7,
    "start_time": "2022-08-21T16:08:24.196Z"
   },
   {
    "duration": 257,
    "start_time": "2022-08-21T16:08:28.825Z"
   },
   {
    "duration": 9,
    "start_time": "2022-08-21T16:08:49.572Z"
   },
   {
    "duration": 5,
    "start_time": "2022-08-21T16:08:57.855Z"
   },
   {
    "duration": 236,
    "start_time": "2022-08-21T16:08:58.407Z"
   },
   {
    "duration": 11,
    "start_time": "2022-08-21T16:09:14.606Z"
   },
   {
    "duration": 10,
    "start_time": "2022-08-21T16:09:18.909Z"
   },
   {
    "duration": 10,
    "start_time": "2022-08-21T16:09:45.742Z"
   },
   {
    "duration": 9,
    "start_time": "2022-08-21T16:09:52.988Z"
   },
   {
    "duration": 383,
    "start_time": "2022-08-21T16:09:54.643Z"
   },
   {
    "duration": 224,
    "start_time": "2022-08-21T16:19:48.568Z"
   },
   {
    "duration": 245,
    "start_time": "2022-08-21T16:19:54.629Z"
   },
   {
    "duration": 233,
    "start_time": "2022-08-21T16:19:59.624Z"
   },
   {
    "duration": 256,
    "start_time": "2022-08-21T16:20:18.677Z"
   },
   {
    "duration": 280,
    "start_time": "2022-08-21T16:20:24.562Z"
   },
   {
    "duration": 9,
    "start_time": "2022-08-21T16:21:14.149Z"
   },
   {
    "duration": 8,
    "start_time": "2022-08-21T16:21:40.440Z"
   },
   {
    "duration": 15,
    "start_time": "2022-08-21T16:21:57.905Z"
   },
   {
    "duration": 331,
    "start_time": "2022-08-21T16:24:22.741Z"
   },
   {
    "duration": 52,
    "start_time": "2022-08-21T16:27:10.155Z"
   },
   {
    "duration": 5,
    "start_time": "2022-08-21T16:28:36.596Z"
   },
   {
    "duration": 18,
    "start_time": "2022-08-21T16:33:28.887Z"
   },
   {
    "duration": 358,
    "start_time": "2022-08-21T16:33:47.317Z"
   },
   {
    "duration": 3,
    "start_time": "2022-08-21T16:42:15.920Z"
   },
   {
    "duration": 6,
    "start_time": "2022-08-21T16:42:42.414Z"
   },
   {
    "duration": 5,
    "start_time": "2022-08-21T16:42:57.199Z"
   },
   {
    "duration": 5,
    "start_time": "2022-08-21T16:42:59.988Z"
   },
   {
    "duration": 8,
    "start_time": "2022-08-21T17:05:23.030Z"
   },
   {
    "duration": 9,
    "start_time": "2022-08-21T17:06:26.159Z"
   },
   {
    "duration": 153,
    "start_time": "2022-08-21T17:06:46.700Z"
   },
   {
    "duration": 4,
    "start_time": "2022-08-21T17:24:54.392Z"
   },
   {
    "duration": 159,
    "start_time": "2022-08-21T17:25:03.649Z"
   },
   {
    "duration": 166,
    "start_time": "2022-08-21T17:25:09.984Z"
   },
   {
    "duration": 50,
    "start_time": "2022-08-21T17:27:46.463Z"
   },
   {
    "duration": 8,
    "start_time": "2022-08-21T17:27:51.569Z"
   },
   {
    "duration": 242,
    "start_time": "2022-08-21T17:28:13.519Z"
   },
   {
    "duration": 43,
    "start_time": "2022-08-21T17:28:28.958Z"
   },
   {
    "duration": 9,
    "start_time": "2022-08-21T17:31:09.881Z"
   },
   {
    "duration": 41,
    "start_time": "2022-08-21T17:31:19.218Z"
   },
   {
    "duration": 578,
    "start_time": "2022-08-21T17:31:24.338Z"
   },
   {
    "duration": 2268,
    "start_time": "2022-08-21T17:31:24.918Z"
   },
   {
    "duration": 7,
    "start_time": "2022-08-21T17:31:27.188Z"
   },
   {
    "duration": 165,
    "start_time": "2022-08-21T17:31:27.197Z"
   },
   {
    "duration": 7,
    "start_time": "2022-08-21T17:31:27.364Z"
   },
   {
    "duration": 25,
    "start_time": "2022-08-21T17:31:27.372Z"
   },
   {
    "duration": 5,
    "start_time": "2022-08-21T17:31:27.398Z"
   },
   {
    "duration": 256,
    "start_time": "2022-08-21T17:31:27.405Z"
   },
   {
    "duration": 13,
    "start_time": "2022-08-21T17:31:27.662Z"
   },
   {
    "duration": 4,
    "start_time": "2022-08-21T17:31:27.686Z"
   },
   {
    "duration": 162,
    "start_time": "2022-08-21T17:31:27.691Z"
   },
   {
    "duration": 33,
    "start_time": "2022-08-21T17:31:33.304Z"
   },
   {
    "duration": 39,
    "start_time": "2022-08-21T17:31:44.888Z"
   },
   {
    "duration": 11,
    "start_time": "2022-08-21T17:32:58.223Z"
   },
   {
    "duration": 96,
    "start_time": "2022-08-21T17:34:44.851Z"
   },
   {
    "duration": 71,
    "start_time": "2022-08-21T17:35:58.832Z"
   },
   {
    "duration": 64,
    "start_time": "2022-08-21T17:36:03.911Z"
   },
   {
    "duration": 67,
    "start_time": "2022-08-21T17:36:30.317Z"
   },
   {
    "duration": 47,
    "start_time": "2022-08-21T17:37:36.939Z"
   },
   {
    "duration": 15,
    "start_time": "2022-08-21T17:37:54.531Z"
   },
   {
    "duration": 50,
    "start_time": "2022-08-21T17:38:39.378Z"
   },
   {
    "duration": 59,
    "start_time": "2022-08-21T17:38:48.437Z"
   },
   {
    "duration": 10,
    "start_time": "2022-08-21T17:39:14.149Z"
   },
   {
    "duration": 14,
    "start_time": "2022-08-21T17:39:20.810Z"
   },
   {
    "duration": 12,
    "start_time": "2022-08-21T17:39:35.910Z"
   },
   {
    "duration": 15,
    "start_time": "2022-08-21T17:39:43.566Z"
   },
   {
    "duration": 18,
    "start_time": "2022-08-21T17:40:42.660Z"
   },
   {
    "duration": 11,
    "start_time": "2022-08-21T17:41:06.447Z"
   },
   {
    "duration": 19,
    "start_time": "2022-08-21T17:41:09.912Z"
   },
   {
    "duration": 10,
    "start_time": "2022-08-21T17:41:15.259Z"
   },
   {
    "duration": 18,
    "start_time": "2022-08-21T17:41:19.557Z"
   },
   {
    "duration": 19,
    "start_time": "2022-08-21T17:41:47.369Z"
   },
   {
    "duration": 9,
    "start_time": "2022-08-21T17:42:55.345Z"
   },
   {
    "duration": 25,
    "start_time": "2022-08-21T17:42:59.625Z"
   },
   {
    "duration": 7,
    "start_time": "2022-08-21T17:46:15.844Z"
   },
   {
    "duration": 5,
    "start_time": "2022-08-21T17:50:06.412Z"
   },
   {
    "duration": 8,
    "start_time": "2022-08-21T17:50:13.299Z"
   },
   {
    "duration": 10,
    "start_time": "2022-08-21T17:51:11.690Z"
   },
   {
    "duration": 9,
    "start_time": "2022-08-21T17:51:21.580Z"
   },
   {
    "duration": 71,
    "start_time": "2022-08-21T17:51:51.831Z"
   },
   {
    "duration": 48,
    "start_time": "2022-08-21T17:52:18.416Z"
   },
   {
    "duration": 8,
    "start_time": "2022-08-21T17:52:29.995Z"
   },
   {
    "duration": 9,
    "start_time": "2022-08-21T17:52:42.406Z"
   },
   {
    "duration": 9,
    "start_time": "2022-08-21T17:52:47.452Z"
   },
   {
    "duration": 7,
    "start_time": "2022-08-21T17:59:27.258Z"
   },
   {
    "duration": 16,
    "start_time": "2022-08-21T18:01:07.628Z"
   },
   {
    "duration": 17,
    "start_time": "2022-08-21T18:02:03.394Z"
   },
   {
    "duration": 24,
    "start_time": "2022-08-21T18:02:09.123Z"
   },
   {
    "duration": 35,
    "start_time": "2022-08-21T18:02:39.301Z"
   },
   {
    "duration": 35,
    "start_time": "2022-08-21T18:02:48.140Z"
   },
   {
    "duration": 38,
    "start_time": "2022-08-21T18:02:55.543Z"
   },
   {
    "duration": 35,
    "start_time": "2022-08-21T18:02:58.452Z"
   },
   {
    "duration": 27,
    "start_time": "2022-08-21T18:03:02.571Z"
   },
   {
    "duration": 28,
    "start_time": "2022-08-21T18:03:05.587Z"
   },
   {
    "duration": 2,
    "start_time": "2022-08-21T18:03:09.120Z"
   },
   {
    "duration": 2005,
    "start_time": "2022-08-21T18:03:09.124Z"
   },
   {
    "duration": 20,
    "start_time": "2022-08-21T18:03:11.131Z"
   },
   {
    "duration": 6,
    "start_time": "2022-08-21T18:03:11.153Z"
   },
   {
    "duration": 44,
    "start_time": "2022-08-21T18:03:11.161Z"
   },
   {
    "duration": 37,
    "start_time": "2022-08-21T18:03:36.726Z"
   },
   {
    "duration": 46,
    "start_time": "2022-08-21T18:03:47.314Z"
   },
   {
    "duration": 59,
    "start_time": "2022-08-21T18:04:01.352Z"
   },
   {
    "duration": 61,
    "start_time": "2022-08-21T18:04:25.209Z"
   },
   {
    "duration": 59,
    "start_time": "2022-08-21T18:04:51.516Z"
   },
   {
    "duration": 39,
    "start_time": "2022-08-21T18:05:07.896Z"
   },
   {
    "duration": 2,
    "start_time": "2022-08-21T18:05:22.765Z"
   },
   {
    "duration": 1935,
    "start_time": "2022-08-21T18:05:22.770Z"
   },
   {
    "duration": 18,
    "start_time": "2022-08-21T18:05:24.707Z"
   },
   {
    "duration": 6,
    "start_time": "2022-08-21T18:05:24.727Z"
   },
   {
    "duration": 37,
    "start_time": "2022-08-21T18:05:27.271Z"
   },
   {
    "duration": 47,
    "start_time": "2022-08-21T18:05:50.521Z"
   },
   {
    "duration": 78,
    "start_time": "2022-08-21T18:06:42.699Z"
   },
   {
    "duration": 86,
    "start_time": "2022-08-21T18:08:36.403Z"
   },
   {
    "duration": 71,
    "start_time": "2022-08-21T18:09:02.619Z"
   },
   {
    "duration": 80,
    "start_time": "2022-08-21T18:10:31.642Z"
   },
   {
    "duration": 90,
    "start_time": "2022-08-21T18:10:44.330Z"
   },
   {
    "duration": 77,
    "start_time": "2022-08-21T18:11:32.119Z"
   },
   {
    "duration": 84,
    "start_time": "2022-08-21T18:11:40.325Z"
   },
   {
    "duration": 7,
    "start_time": "2022-08-21T18:11:46.243Z"
   },
   {
    "duration": 2180,
    "start_time": "2022-08-21T18:11:46.252Z"
   },
   {
    "duration": 23,
    "start_time": "2022-08-21T18:11:48.435Z"
   },
   {
    "duration": 8,
    "start_time": "2022-08-21T18:11:48.460Z"
   },
   {
    "duration": 79,
    "start_time": "2022-08-21T18:11:50.401Z"
   },
   {
    "duration": 4,
    "start_time": "2022-08-21T18:30:17.680Z"
   },
   {
    "duration": 21,
    "start_time": "2022-08-21T18:30:20.336Z"
   },
   {
    "duration": 17,
    "start_time": "2022-08-21T18:31:22.730Z"
   },
   {
    "duration": 47,
    "start_time": "2022-08-21T18:32:12.193Z"
   },
   {
    "duration": 21,
    "start_time": "2022-08-21T18:32:16.687Z"
   },
   {
    "duration": 21,
    "start_time": "2022-08-21T18:44:49.352Z"
   },
   {
    "duration": 6,
    "start_time": "2022-08-21T18:46:44.726Z"
   },
   {
    "duration": 174,
    "start_time": "2022-08-21T18:46:56.662Z"
   },
   {
    "duration": 4,
    "start_time": "2022-08-21T18:57:17.003Z"
   },
   {
    "duration": 18,
    "start_time": "2022-08-21T18:57:54.636Z"
   },
   {
    "duration": 19,
    "start_time": "2022-08-21T18:58:13.574Z"
   },
   {
    "duration": 17,
    "start_time": "2022-08-21T18:58:28.534Z"
   },
   {
    "duration": 3,
    "start_time": "2022-08-21T19:02:08.917Z"
   },
   {
    "duration": 3,
    "start_time": "2022-08-21T19:02:16.154Z"
   },
   {
    "duration": 4,
    "start_time": "2022-08-21T19:02:20.392Z"
   },
   {
    "duration": 494,
    "start_time": "2022-08-21T19:04:17.758Z"
   },
   {
    "duration": 500,
    "start_time": "2022-08-21T19:07:32.033Z"
   },
   {
    "duration": 406,
    "start_time": "2022-08-21T19:14:40.707Z"
   },
   {
    "duration": 485,
    "start_time": "2022-08-21T19:15:08.045Z"
   },
   {
    "duration": 429,
    "start_time": "2022-08-21T19:26:38.444Z"
   },
   {
    "duration": 40,
    "start_time": "2022-08-21T19:26:51.368Z"
   },
   {
    "duration": 25,
    "start_time": "2022-08-21T19:27:34.252Z"
   },
   {
    "duration": 8,
    "start_time": "2022-08-21T19:28:43.302Z"
   },
   {
    "duration": 36,
    "start_time": "2022-08-21T19:28:52.667Z"
   },
   {
    "duration": 9,
    "start_time": "2022-08-21T19:29:10.825Z"
   },
   {
    "duration": 2,
    "start_time": "2022-08-21T19:29:43.289Z"
   },
   {
    "duration": 2024,
    "start_time": "2022-08-21T19:29:43.294Z"
   },
   {
    "duration": 22,
    "start_time": "2022-08-21T19:29:45.320Z"
   },
   {
    "duration": 9,
    "start_time": "2022-08-21T19:29:45.345Z"
   },
   {
    "duration": 101,
    "start_time": "2022-08-21T19:29:45.356Z"
   },
   {
    "duration": 8,
    "start_time": "2022-08-21T19:29:45.459Z"
   },
   {
    "duration": 180,
    "start_time": "2022-08-21T19:29:45.468Z"
   },
   {
    "duration": 6,
    "start_time": "2022-08-21T19:29:45.650Z"
   },
   {
    "duration": 30,
    "start_time": "2022-08-21T19:29:45.657Z"
   },
   {
    "duration": 5,
    "start_time": "2022-08-21T19:29:45.688Z"
   },
   {
    "duration": 242,
    "start_time": "2022-08-21T19:29:45.695Z"
   },
   {
    "duration": 9,
    "start_time": "2022-08-21T19:29:45.939Z"
   },
   {
    "duration": 4,
    "start_time": "2022-08-21T19:29:45.949Z"
   },
   {
    "duration": 197,
    "start_time": "2022-08-21T19:29:45.956Z"
   },
   {
    "duration": 33,
    "start_time": "2022-08-21T19:29:46.154Z"
   },
   {
    "duration": 263,
    "start_time": "2022-08-21T19:29:46.189Z"
   },
   {
    "duration": 12,
    "start_time": "2022-08-21T19:30:01.177Z"
   },
   {
    "duration": 15,
    "start_time": "2022-08-21T19:30:12.109Z"
   },
   {
    "duration": 13,
    "start_time": "2022-08-21T19:30:17.341Z"
   },
   {
    "duration": 14,
    "start_time": "2022-08-21T19:31:56.957Z"
   },
   {
    "duration": 11,
    "start_time": "2022-08-21T19:32:01.342Z"
   },
   {
    "duration": 9,
    "start_time": "2022-08-21T19:32:13.595Z"
   },
   {
    "duration": 4,
    "start_time": "2022-08-21T19:32:17.047Z"
   },
   {
    "duration": 19,
    "start_time": "2022-08-21T19:32:17.672Z"
   },
   {
    "duration": 30,
    "start_time": "2022-08-21T19:32:29.694Z"
   },
   {
    "duration": 36,
    "start_time": "2022-08-21T19:33:02.612Z"
   },
   {
    "duration": 32,
    "start_time": "2022-08-21T19:33:08.612Z"
   },
   {
    "duration": 11,
    "start_time": "2022-08-21T19:33:35.701Z"
   },
   {
    "duration": 12,
    "start_time": "2022-08-21T19:33:40.908Z"
   },
   {
    "duration": 2,
    "start_time": "2022-08-21T19:33:47.292Z"
   },
   {
    "duration": 2030,
    "start_time": "2022-08-21T19:33:47.296Z"
   },
   {
    "duration": 20,
    "start_time": "2022-08-21T19:33:49.328Z"
   },
   {
    "duration": 7,
    "start_time": "2022-08-21T19:33:49.350Z"
   },
   {
    "duration": 98,
    "start_time": "2022-08-21T19:33:49.358Z"
   },
   {
    "duration": 7,
    "start_time": "2022-08-21T19:33:49.458Z"
   },
   {
    "duration": 170,
    "start_time": "2022-08-21T19:33:49.467Z"
   },
   {
    "duration": 7,
    "start_time": "2022-08-21T19:33:49.639Z"
   },
   {
    "duration": 14,
    "start_time": "2022-08-21T19:33:49.647Z"
   },
   {
    "duration": 6,
    "start_time": "2022-08-21T19:33:49.663Z"
   },
   {
    "duration": 225,
    "start_time": "2022-08-21T19:33:49.687Z"
   },
   {
    "duration": 12,
    "start_time": "2022-08-21T19:33:49.914Z"
   },
   {
    "duration": 10,
    "start_time": "2022-08-21T19:33:49.928Z"
   },
   {
    "duration": 169,
    "start_time": "2022-08-21T19:33:49.939Z"
   },
   {
    "duration": 22,
    "start_time": "2022-08-21T19:33:50.109Z"
   },
   {
    "duration": 184,
    "start_time": "2022-08-21T19:33:50.132Z"
   },
   {
    "duration": 12,
    "start_time": "2022-08-21T19:33:56.826Z"
   },
   {
    "duration": 749,
    "start_time": "2022-08-21T19:34:01.275Z"
   },
   {
    "duration": 4,
    "start_time": "2022-08-21T19:34:08.372Z"
   },
   {
    "duration": 29,
    "start_time": "2022-08-21T19:34:08.766Z"
   },
   {
    "duration": 33,
    "start_time": "2022-08-21T19:34:09.273Z"
   },
   {
    "duration": 12,
    "start_time": "2022-08-21T19:37:51.883Z"
   },
   {
    "duration": 26,
    "start_time": "2022-08-21T19:38:26.627Z"
   },
   {
    "duration": 32,
    "start_time": "2022-08-21T19:38:37.701Z"
   },
   {
    "duration": 20,
    "start_time": "2022-08-21T19:38:56.639Z"
   },
   {
    "duration": 10,
    "start_time": "2022-08-21T19:39:09.651Z"
   },
   {
    "duration": 9,
    "start_time": "2022-08-21T19:39:17.294Z"
   },
   {
    "duration": 23,
    "start_time": "2022-08-21T19:40:51.827Z"
   },
   {
    "duration": 26,
    "start_time": "2022-08-21T19:41:26.551Z"
   },
   {
    "duration": 22,
    "start_time": "2022-08-21T19:41:38.760Z"
   },
   {
    "duration": 24,
    "start_time": "2022-08-21T19:42:04.346Z"
   },
   {
    "duration": 22,
    "start_time": "2022-08-21T19:42:14.161Z"
   },
   {
    "duration": 24,
    "start_time": "2022-08-21T19:42:37.879Z"
   },
   {
    "duration": 23,
    "start_time": "2022-08-21T19:42:47.170Z"
   },
   {
    "duration": 2,
    "start_time": "2022-08-21T19:43:50.962Z"
   },
   {
    "duration": 2211,
    "start_time": "2022-08-21T19:43:50.966Z"
   },
   {
    "duration": 25,
    "start_time": "2022-08-21T19:43:53.179Z"
   },
   {
    "duration": 7,
    "start_time": "2022-08-21T19:43:53.206Z"
   },
   {
    "duration": 102,
    "start_time": "2022-08-21T19:43:53.215Z"
   },
   {
    "duration": 8,
    "start_time": "2022-08-21T19:43:53.319Z"
   },
   {
    "duration": 198,
    "start_time": "2022-08-21T19:43:53.328Z"
   },
   {
    "duration": 6,
    "start_time": "2022-08-21T19:43:53.528Z"
   },
   {
    "duration": 18,
    "start_time": "2022-08-21T19:43:53.536Z"
   },
   {
    "duration": 6,
    "start_time": "2022-08-21T19:43:53.555Z"
   },
   {
    "duration": 234,
    "start_time": "2022-08-21T19:43:53.586Z"
   },
   {
    "duration": 15,
    "start_time": "2022-08-21T19:43:53.822Z"
   },
   {
    "duration": 6,
    "start_time": "2022-08-21T19:43:53.838Z"
   },
   {
    "duration": 200,
    "start_time": "2022-08-21T19:43:53.846Z"
   },
   {
    "duration": 21,
    "start_time": "2022-08-21T19:43:54.047Z"
   },
   {
    "duration": 190,
    "start_time": "2022-08-21T19:43:54.070Z"
   },
   {
    "duration": 11,
    "start_time": "2022-08-21T19:43:56.413Z"
   },
   {
    "duration": 6,
    "start_time": "2022-08-21T19:43:57.923Z"
   },
   {
    "duration": 27,
    "start_time": "2022-08-21T19:43:59.750Z"
   },
   {
    "duration": 6,
    "start_time": "2022-08-21T19:45:16.935Z"
   },
   {
    "duration": 30,
    "start_time": "2022-08-21T19:46:11.113Z"
   },
   {
    "duration": 30,
    "start_time": "2022-08-21T19:46:27.781Z"
   },
   {
    "duration": 46,
    "start_time": "2022-08-22T11:02:19.502Z"
   },
   {
    "duration": 782,
    "start_time": "2022-08-22T11:02:27.906Z"
   },
   {
    "duration": 3,
    "start_time": "2022-08-22T11:02:32.329Z"
   },
   {
    "duration": 2406,
    "start_time": "2022-08-22T11:02:32.334Z"
   },
   {
    "duration": 22,
    "start_time": "2022-08-22T11:02:34.741Z"
   },
   {
    "duration": 6,
    "start_time": "2022-08-22T11:02:34.765Z"
   },
   {
    "duration": 84,
    "start_time": "2022-08-22T11:02:34.774Z"
   },
   {
    "duration": 8,
    "start_time": "2022-08-22T11:02:34.859Z"
   },
   {
    "duration": 183,
    "start_time": "2022-08-22T11:02:34.868Z"
   },
   {
    "duration": 7,
    "start_time": "2022-08-22T11:02:35.053Z"
   },
   {
    "duration": 24,
    "start_time": "2022-08-22T11:02:35.062Z"
   },
   {
    "duration": 6,
    "start_time": "2022-08-22T11:02:35.087Z"
   },
   {
    "duration": 248,
    "start_time": "2022-08-22T11:02:35.094Z"
   },
   {
    "duration": 11,
    "start_time": "2022-08-22T11:02:35.343Z"
   },
   {
    "duration": 5,
    "start_time": "2022-08-22T11:02:35.357Z"
   },
   {
    "duration": 176,
    "start_time": "2022-08-22T11:02:35.364Z"
   },
   {
    "duration": 24,
    "start_time": "2022-08-22T11:02:35.541Z"
   },
   {
    "duration": 194,
    "start_time": "2022-08-22T11:02:35.567Z"
   },
   {
    "duration": 9,
    "start_time": "2022-08-22T11:02:35.763Z"
   },
   {
    "duration": 15,
    "start_time": "2022-08-22T11:02:35.773Z"
   },
   {
    "duration": 27,
    "start_time": "2022-08-22T11:02:35.790Z"
   },
   {
    "duration": 6,
    "start_time": "2022-08-22T11:02:35.819Z"
   },
   {
    "duration": 140,
    "start_time": "2022-08-22T11:02:35.827Z"
   },
   {
    "duration": 16,
    "start_time": "2022-08-22T11:02:35.969Z"
   },
   {
    "duration": 6,
    "start_time": "2022-08-22T11:02:35.987Z"
   },
   {
    "duration": 6,
    "start_time": "2022-08-22T11:02:35.994Z"
   },
   {
    "duration": 7,
    "start_time": "2022-08-22T11:02:36.002Z"
   },
   {
    "duration": 24,
    "start_time": "2022-08-22T11:03:07.400Z"
   },
   {
    "duration": 45,
    "start_time": "2022-08-22T11:06:13.745Z"
   },
   {
    "duration": 349,
    "start_time": "2022-08-22T11:09:24.138Z"
   },
   {
    "duration": 36,
    "start_time": "2022-08-22T11:10:29.806Z"
   },
   {
    "duration": 128,
    "start_time": "2022-08-22T11:10:59.512Z"
   },
   {
    "duration": 9,
    "start_time": "2022-08-22T11:11:25.871Z"
   },
   {
    "duration": 17,
    "start_time": "2022-08-22T11:11:30.305Z"
   },
   {
    "duration": 123,
    "start_time": "2022-08-22T11:11:37.532Z"
   },
   {
    "duration": 4,
    "start_time": "2022-08-22T11:12:38.102Z"
   },
   {
    "duration": 4,
    "start_time": "2022-08-22T11:12:47.910Z"
   },
   {
    "duration": 8,
    "start_time": "2022-08-22T11:13:39.561Z"
   },
   {
    "duration": 50,
    "start_time": "2022-08-22T11:13:43.569Z"
   },
   {
    "duration": 7,
    "start_time": "2022-08-22T11:13:58.661Z"
   },
   {
    "duration": 9,
    "start_time": "2022-08-22T11:14:44.243Z"
   },
   {
    "duration": 4,
    "start_time": "2022-08-22T11:14:54.149Z"
   },
   {
    "duration": 9,
    "start_time": "2022-08-22T11:14:54.740Z"
   },
   {
    "duration": 3,
    "start_time": "2022-08-22T11:14:58.132Z"
   },
   {
    "duration": 1944,
    "start_time": "2022-08-22T11:14:58.138Z"
   },
   {
    "duration": 25,
    "start_time": "2022-08-22T11:15:00.085Z"
   },
   {
    "duration": 9,
    "start_time": "2022-08-22T11:15:00.113Z"
   },
   {
    "duration": 99,
    "start_time": "2022-08-22T11:15:00.124Z"
   },
   {
    "duration": 28,
    "start_time": "2022-08-22T11:15:00.225Z"
   },
   {
    "duration": 31,
    "start_time": "2022-08-22T11:15:00.256Z"
   },
   {
    "duration": 5,
    "start_time": "2022-08-22T11:15:00.291Z"
   },
   {
    "duration": 9,
    "start_time": "2022-08-22T11:15:03.918Z"
   },
   {
    "duration": 9,
    "start_time": "2022-08-22T11:16:08.286Z"
   },
   {
    "duration": 10,
    "start_time": "2022-08-22T11:16:21.137Z"
   },
   {
    "duration": 4,
    "start_time": "2022-08-22T11:16:32.671Z"
   },
   {
    "duration": 3,
    "start_time": "2022-08-22T11:16:41.153Z"
   },
   {
    "duration": 8,
    "start_time": "2022-08-22T11:16:42.575Z"
   },
   {
    "duration": 7,
    "start_time": "2022-08-22T11:16:46.396Z"
   },
   {
    "duration": 4,
    "start_time": "2022-08-22T11:16:48.122Z"
   },
   {
    "duration": 8,
    "start_time": "2022-08-22T11:16:48.660Z"
   },
   {
    "duration": 2,
    "start_time": "2022-08-22T11:17:54.820Z"
   },
   {
    "duration": 2019,
    "start_time": "2022-08-22T11:17:54.825Z"
   },
   {
    "duration": 20,
    "start_time": "2022-08-22T11:17:56.846Z"
   },
   {
    "duration": 32,
    "start_time": "2022-08-22T11:17:56.867Z"
   },
   {
    "duration": 82,
    "start_time": "2022-08-22T11:17:56.901Z"
   },
   {
    "duration": 27,
    "start_time": "2022-08-22T11:17:56.984Z"
   },
   {
    "duration": 8,
    "start_time": "2022-08-22T11:17:57.012Z"
   },
   {
    "duration": 40,
    "start_time": "2022-08-22T11:17:57.022Z"
   },
   {
    "duration": 199,
    "start_time": "2022-08-22T11:17:57.064Z"
   },
   {
    "duration": 6,
    "start_time": "2022-08-22T11:17:57.264Z"
   },
   {
    "duration": 28,
    "start_time": "2022-08-22T11:17:57.273Z"
   },
   {
    "duration": 6,
    "start_time": "2022-08-22T11:17:57.302Z"
   },
   {
    "duration": 256,
    "start_time": "2022-08-22T11:17:57.310Z"
   },
   {
    "duration": 20,
    "start_time": "2022-08-22T11:17:57.567Z"
   },
   {
    "duration": 6,
    "start_time": "2022-08-22T11:17:57.588Z"
   },
   {
    "duration": 176,
    "start_time": "2022-08-22T11:17:57.597Z"
   },
   {
    "duration": 28,
    "start_time": "2022-08-22T11:17:57.775Z"
   },
   {
    "duration": 318,
    "start_time": "2022-08-22T11:17:57.804Z"
   },
   {
    "duration": 8,
    "start_time": "2022-08-22T11:17:58.124Z"
   },
   {
    "duration": 7,
    "start_time": "2022-08-22T11:17:58.134Z"
   },
   {
    "duration": 31,
    "start_time": "2022-08-22T11:17:58.143Z"
   },
   {
    "duration": 13,
    "start_time": "2022-08-22T11:17:58.176Z"
   },
   {
    "duration": 39,
    "start_time": "2022-08-22T11:17:58.191Z"
   },
   {
    "duration": 6,
    "start_time": "2022-08-22T11:17:58.232Z"
   },
   {
    "duration": 10,
    "start_time": "2022-08-22T11:17:58.239Z"
   },
   {
    "duration": 6,
    "start_time": "2022-08-22T11:17:58.250Z"
   },
   {
    "duration": 6,
    "start_time": "2022-08-22T11:17:58.258Z"
   },
   {
    "duration": 30,
    "start_time": "2022-08-22T11:17:58.265Z"
   },
   {
    "duration": 9,
    "start_time": "2022-08-22T11:18:04.522Z"
   },
   {
    "duration": 8,
    "start_time": "2022-08-22T11:18:09.660Z"
   },
   {
    "duration": 6,
    "start_time": "2022-08-22T11:20:27.285Z"
   },
   {
    "duration": 35,
    "start_time": "2022-08-22T11:23:19.019Z"
   },
   {
    "duration": 22,
    "start_time": "2022-08-22T11:24:37.073Z"
   },
   {
    "duration": 27,
    "start_time": "2022-08-22T11:24:51.606Z"
   },
   {
    "duration": 24,
    "start_time": "2022-08-22T11:25:37.001Z"
   },
   {
    "duration": 20,
    "start_time": "2022-08-22T11:25:42.748Z"
   },
   {
    "duration": 20,
    "start_time": "2022-08-22T11:25:54.696Z"
   },
   {
    "duration": 33,
    "start_time": "2022-08-22T11:26:02.900Z"
   },
   {
    "duration": 10,
    "start_time": "2022-08-22T11:27:17.681Z"
   },
   {
    "duration": 9,
    "start_time": "2022-08-22T11:28:17.298Z"
   },
   {
    "duration": 10,
    "start_time": "2022-08-22T11:29:02.533Z"
   },
   {
    "duration": 2,
    "start_time": "2022-08-22T11:29:06.233Z"
   },
   {
    "duration": 1843,
    "start_time": "2022-08-22T11:29:06.239Z"
   },
   {
    "duration": 21,
    "start_time": "2022-08-22T11:29:08.084Z"
   },
   {
    "duration": 10,
    "start_time": "2022-08-22T11:29:08.107Z"
   },
   {
    "duration": 107,
    "start_time": "2022-08-22T11:29:08.120Z"
   },
   {
    "duration": 22,
    "start_time": "2022-08-22T11:29:08.229Z"
   },
   {
    "duration": 7,
    "start_time": "2022-08-22T11:29:08.253Z"
   },
   {
    "duration": 51,
    "start_time": "2022-08-22T11:29:08.262Z"
   },
   {
    "duration": 199,
    "start_time": "2022-08-22T11:29:08.315Z"
   },
   {
    "duration": 8,
    "start_time": "2022-08-22T11:29:08.516Z"
   },
   {
    "duration": 19,
    "start_time": "2022-08-22T11:29:08.527Z"
   },
   {
    "duration": 7,
    "start_time": "2022-08-22T11:29:08.548Z"
   },
   {
    "duration": 420,
    "start_time": "2022-08-22T11:29:08.557Z"
   },
   {
    "duration": 14,
    "start_time": "2022-08-22T11:29:08.979Z"
   },
   {
    "duration": 9,
    "start_time": "2022-08-22T11:29:08.995Z"
   },
   {
    "duration": 188,
    "start_time": "2022-08-22T11:29:09.005Z"
   },
   {
    "duration": 23,
    "start_time": "2022-08-22T11:29:09.195Z"
   },
   {
    "duration": 191,
    "start_time": "2022-08-22T11:29:09.220Z"
   },
   {
    "duration": 6,
    "start_time": "2022-08-22T11:29:09.413Z"
   },
   {
    "duration": 34,
    "start_time": "2022-08-22T11:29:09.420Z"
   },
   {
    "duration": 13,
    "start_time": "2022-08-22T11:29:09.456Z"
   },
   {
    "duration": 27,
    "start_time": "2022-08-22T11:29:09.471Z"
   },
   {
    "duration": 23,
    "start_time": "2022-08-22T11:29:17.446Z"
   },
   {
    "duration": 519,
    "start_time": "2022-08-22T11:29:44.167Z"
   },
   {
    "duration": 10,
    "start_time": "2022-08-22T11:29:50.283Z"
   },
   {
    "duration": 30,
    "start_time": "2022-08-22T11:29:58.373Z"
   },
   {
    "duration": 9,
    "start_time": "2022-08-22T11:30:09.346Z"
   },
   {
    "duration": 10,
    "start_time": "2022-08-22T11:30:14.092Z"
   },
   {
    "duration": 12,
    "start_time": "2022-08-22T11:34:56.887Z"
   },
   {
    "duration": 37,
    "start_time": "2022-08-22T11:36:12.842Z"
   },
   {
    "duration": 41,
    "start_time": "2022-08-22T11:42:40.627Z"
   },
   {
    "duration": 34,
    "start_time": "2022-08-22T11:43:49.224Z"
   },
   {
    "duration": 8,
    "start_time": "2022-08-22T11:50:03.512Z"
   },
   {
    "duration": 10,
    "start_time": "2022-08-22T11:58:58.200Z"
   },
   {
    "duration": 8,
    "start_time": "2022-08-22T12:05:03.594Z"
   },
   {
    "duration": 8,
    "start_time": "2022-08-22T12:05:09.742Z"
   },
   {
    "duration": 6,
    "start_time": "2022-08-22T12:05:27.661Z"
   },
   {
    "duration": 9,
    "start_time": "2022-08-22T12:15:22.032Z"
   },
   {
    "duration": 20,
    "start_time": "2022-08-22T12:15:37.797Z"
   },
   {
    "duration": 2323,
    "start_time": "2022-08-22T12:17:22.732Z"
   },
   {
    "duration": 18,
    "start_time": "2022-08-22T12:23:11.812Z"
   },
   {
    "duration": 3,
    "start_time": "2022-08-22T12:25:12.927Z"
   },
   {
    "duration": 2217,
    "start_time": "2022-08-22T12:25:12.932Z"
   },
   {
    "duration": 20,
    "start_time": "2022-08-22T12:25:15.151Z"
   },
   {
    "duration": 7,
    "start_time": "2022-08-22T12:25:15.184Z"
   },
   {
    "duration": 92,
    "start_time": "2022-08-22T12:25:15.194Z"
   },
   {
    "duration": 21,
    "start_time": "2022-08-22T12:25:15.288Z"
   },
   {
    "duration": 8,
    "start_time": "2022-08-22T12:25:15.311Z"
   },
   {
    "duration": 30,
    "start_time": "2022-08-22T12:25:15.321Z"
   },
   {
    "duration": 197,
    "start_time": "2022-08-22T12:25:15.353Z"
   },
   {
    "duration": 7,
    "start_time": "2022-08-22T12:25:15.552Z"
   },
   {
    "duration": 29,
    "start_time": "2022-08-22T12:25:15.561Z"
   },
   {
    "duration": 5,
    "start_time": "2022-08-22T12:25:15.592Z"
   },
   {
    "duration": 256,
    "start_time": "2022-08-22T12:25:15.598Z"
   },
   {
    "duration": 10,
    "start_time": "2022-08-22T12:25:15.857Z"
   },
   {
    "duration": 18,
    "start_time": "2022-08-22T12:25:15.869Z"
   },
   {
    "duration": 169,
    "start_time": "2022-08-22T12:25:15.889Z"
   },
   {
    "duration": 33,
    "start_time": "2022-08-22T12:25:16.060Z"
   },
   {
    "duration": 201,
    "start_time": "2022-08-22T12:25:16.095Z"
   },
   {
    "duration": 6,
    "start_time": "2022-08-22T12:25:16.297Z"
   },
   {
    "duration": 12,
    "start_time": "2022-08-22T12:25:16.304Z"
   },
   {
    "duration": 4,
    "start_time": "2022-08-22T12:25:16.317Z"
   },
   {
    "duration": 30,
    "start_time": "2022-08-22T12:25:16.322Z"
   },
   {
    "duration": 36,
    "start_time": "2022-08-22T12:25:16.354Z"
   },
   {
    "duration": 28,
    "start_time": "2022-08-22T12:25:16.392Z"
   },
   {
    "duration": 9,
    "start_time": "2022-08-22T12:25:16.422Z"
   },
   {
    "duration": 54,
    "start_time": "2022-08-22T12:25:16.432Z"
   },
   {
    "duration": 7,
    "start_time": "2022-08-22T12:25:16.488Z"
   },
   {
    "duration": 10,
    "start_time": "2022-08-22T12:25:16.497Z"
   },
   {
    "duration": 17,
    "start_time": "2022-08-22T12:25:27.118Z"
   },
   {
    "duration": 6,
    "start_time": "2022-08-22T12:38:43.716Z"
   },
   {
    "duration": 9,
    "start_time": "2022-08-22T12:39:31.663Z"
   },
   {
    "duration": 8,
    "start_time": "2022-08-22T12:39:54.841Z"
   },
   {
    "duration": 103,
    "start_time": "2022-08-22T12:40:21.904Z"
   },
   {
    "duration": 87,
    "start_time": "2022-08-22T12:40:26.599Z"
   },
   {
    "duration": 111,
    "start_time": "2022-08-22T12:41:04.152Z"
   },
   {
    "duration": 114,
    "start_time": "2022-08-22T12:41:18.059Z"
   },
   {
    "duration": 94,
    "start_time": "2022-08-22T12:41:27.316Z"
   },
   {
    "duration": 133,
    "start_time": "2022-08-22T12:46:35.599Z"
   },
   {
    "duration": 3,
    "start_time": "2022-08-22T12:46:49.544Z"
   },
   {
    "duration": 2321,
    "start_time": "2022-08-22T12:46:49.549Z"
   },
   {
    "duration": 42,
    "start_time": "2022-08-22T12:46:51.872Z"
   },
   {
    "duration": 11,
    "start_time": "2022-08-22T12:46:51.916Z"
   },
   {
    "duration": 144,
    "start_time": "2022-08-22T12:46:51.929Z"
   },
   {
    "duration": 33,
    "start_time": "2022-08-22T12:46:52.074Z"
   },
   {
    "duration": 16,
    "start_time": "2022-08-22T12:46:52.109Z"
   },
   {
    "duration": 62,
    "start_time": "2022-08-22T12:46:52.127Z"
   },
   {
    "duration": 223,
    "start_time": "2022-08-22T12:46:52.190Z"
   },
   {
    "duration": 7,
    "start_time": "2022-08-22T12:46:52.415Z"
   },
   {
    "duration": 19,
    "start_time": "2022-08-22T12:46:52.425Z"
   },
   {
    "duration": 6,
    "start_time": "2022-08-22T12:46:52.446Z"
   },
   {
    "duration": 284,
    "start_time": "2022-08-22T12:46:52.453Z"
   },
   {
    "duration": 14,
    "start_time": "2022-08-22T12:46:52.739Z"
   },
   {
    "duration": 6,
    "start_time": "2022-08-22T12:46:52.756Z"
   },
   {
    "duration": 338,
    "start_time": "2022-08-22T12:46:52.763Z"
   },
   {
    "duration": 23,
    "start_time": "2022-08-22T12:46:53.107Z"
   },
   {
    "duration": 198,
    "start_time": "2022-08-22T12:46:53.131Z"
   },
   {
    "duration": 5,
    "start_time": "2022-08-22T12:46:53.330Z"
   },
   {
    "duration": 28,
    "start_time": "2022-08-22T12:46:53.337Z"
   },
   {
    "duration": 40,
    "start_time": "2022-08-22T12:46:53.367Z"
   },
   {
    "duration": 71,
    "start_time": "2022-08-22T12:46:53.409Z"
   },
   {
    "duration": 16,
    "start_time": "2022-08-22T12:46:53.482Z"
   },
   {
    "duration": 52,
    "start_time": "2022-08-22T12:46:53.499Z"
   },
   {
    "duration": 9,
    "start_time": "2022-08-22T12:46:53.553Z"
   },
   {
    "duration": 41,
    "start_time": "2022-08-22T12:46:53.564Z"
   },
   {
    "duration": 20,
    "start_time": "2022-08-22T12:46:53.607Z"
   },
   {
    "duration": 17,
    "start_time": "2022-08-22T12:46:53.629Z"
   },
   {
    "duration": 9,
    "start_time": "2022-08-22T12:47:01.743Z"
   },
   {
    "duration": 109,
    "start_time": "2022-08-22T12:52:56.441Z"
   },
   {
    "duration": 24,
    "start_time": "2022-08-22T12:53:05.020Z"
   },
   {
    "duration": 3,
    "start_time": "2022-08-22T12:53:56.028Z"
   },
   {
    "duration": 1979,
    "start_time": "2022-08-22T12:53:56.033Z"
   },
   {
    "duration": 22,
    "start_time": "2022-08-22T12:53:58.014Z"
   },
   {
    "duration": 7,
    "start_time": "2022-08-22T12:53:58.037Z"
   },
   {
    "duration": 92,
    "start_time": "2022-08-22T12:54:04.123Z"
   },
   {
    "duration": 97,
    "start_time": "2022-08-22T12:54:23.525Z"
   },
   {
    "duration": 33,
    "start_time": "2022-08-22T12:54:31.637Z"
   },
   {
    "duration": 7,
    "start_time": "2022-08-22T12:54:37.947Z"
   },
   {
    "duration": 108,
    "start_time": "2022-08-22T12:58:10.675Z"
   },
   {
    "duration": 26,
    "start_time": "2022-08-22T12:58:22.273Z"
   },
   {
    "duration": 23,
    "start_time": "2022-08-22T12:58:35.297Z"
   },
   {
    "duration": 625,
    "start_time": "2022-08-22T12:59:09.064Z"
   },
   {
    "duration": 2078,
    "start_time": "2022-08-22T12:59:09.694Z"
   },
   {
    "duration": 27,
    "start_time": "2022-08-22T12:59:11.773Z"
   },
   {
    "duration": 7,
    "start_time": "2022-08-22T12:59:11.803Z"
   },
   {
    "duration": 17,
    "start_time": "2022-08-22T12:59:11.811Z"
   },
   {
    "duration": 100,
    "start_time": "2022-08-22T12:59:11.829Z"
   },
   {
    "duration": 22,
    "start_time": "2022-08-22T12:59:11.931Z"
   },
   {
    "duration": 49,
    "start_time": "2022-08-22T12:59:11.954Z"
   },
   {
    "duration": 22,
    "start_time": "2022-08-22T12:59:12.005Z"
   },
   {
    "duration": 10,
    "start_time": "2022-08-22T12:59:12.029Z"
   },
   {
    "duration": 50,
    "start_time": "2022-08-22T12:59:12.040Z"
   },
   {
    "duration": 178,
    "start_time": "2022-08-22T12:59:12.096Z"
   },
   {
    "duration": 9,
    "start_time": "2022-08-22T12:59:12.276Z"
   },
   {
    "duration": 20,
    "start_time": "2022-08-22T12:59:12.288Z"
   },
   {
    "duration": 5,
    "start_time": "2022-08-22T12:59:12.309Z"
   },
   {
    "duration": 244,
    "start_time": "2022-08-22T12:59:12.315Z"
   },
   {
    "duration": 10,
    "start_time": "2022-08-22T12:59:12.560Z"
   },
   {
    "duration": 22,
    "start_time": "2022-08-22T12:59:12.571Z"
   },
   {
    "duration": 165,
    "start_time": "2022-08-22T12:59:12.597Z"
   },
   {
    "duration": 37,
    "start_time": "2022-08-22T12:59:12.764Z"
   },
   {
    "duration": 210,
    "start_time": "2022-08-22T12:59:12.803Z"
   },
   {
    "duration": 6,
    "start_time": "2022-08-22T12:59:13.015Z"
   },
   {
    "duration": 23,
    "start_time": "2022-08-22T12:59:13.022Z"
   },
   {
    "duration": 7,
    "start_time": "2022-08-22T12:59:13.047Z"
   },
   {
    "duration": 43,
    "start_time": "2022-08-22T12:59:13.055Z"
   },
   {
    "duration": 15,
    "start_time": "2022-08-22T12:59:13.102Z"
   },
   {
    "duration": 111,
    "start_time": "2022-08-22T12:59:13.119Z"
   },
   {
    "duration": 10,
    "start_time": "2022-08-22T12:59:13.233Z"
   },
   {
    "duration": 69,
    "start_time": "2022-08-22T12:59:13.244Z"
   },
   {
    "duration": 6,
    "start_time": "2022-08-22T12:59:13.315Z"
   },
   {
    "duration": 39,
    "start_time": "2022-08-22T12:59:13.323Z"
   },
   {
    "duration": 41,
    "start_time": "2022-08-22T12:59:13.364Z"
   },
   {
    "duration": 97,
    "start_time": "2022-08-22T12:59:13.407Z"
   },
   {
    "duration": 0,
    "start_time": "2022-08-22T12:59:13.505Z"
   },
   {
    "duration": 0,
    "start_time": "2022-08-22T12:59:13.507Z"
   },
   {
    "duration": 7,
    "start_time": "2022-08-22T13:04:08.529Z"
   },
   {
    "duration": 29,
    "start_time": "2022-08-22T13:05:05.484Z"
   },
   {
    "duration": 18,
    "start_time": "2022-08-22T13:05:41.732Z"
   },
   {
    "duration": 22,
    "start_time": "2022-08-22T13:05:47.552Z"
   },
   {
    "duration": 3,
    "start_time": "2022-08-22T13:05:50.972Z"
   },
   {
    "duration": 1879,
    "start_time": "2022-08-22T13:05:50.978Z"
   },
   {
    "duration": 45,
    "start_time": "2022-08-22T13:05:52.860Z"
   },
   {
    "duration": 6,
    "start_time": "2022-08-22T13:05:52.907Z"
   },
   {
    "duration": 11,
    "start_time": "2022-08-22T13:05:52.915Z"
   },
   {
    "duration": 107,
    "start_time": "2022-08-22T13:05:52.930Z"
   },
   {
    "duration": 1873,
    "start_time": "2022-08-22T13:05:56.179Z"
   },
   {
    "duration": 20,
    "start_time": "2022-08-22T13:06:05.060Z"
   },
   {
    "duration": 19,
    "start_time": "2022-08-22T13:06:22.798Z"
   },
   {
    "duration": 6,
    "start_time": "2022-08-22T13:06:30.227Z"
   },
   {
    "duration": 6,
    "start_time": "2022-08-22T13:06:42.560Z"
   },
   {
    "duration": 31,
    "start_time": "2022-08-22T13:07:38.220Z"
   },
   {
    "duration": 91,
    "start_time": "2022-08-22T13:08:11.938Z"
   },
   {
    "duration": 12,
    "start_time": "2022-08-22T13:09:17.501Z"
   },
   {
    "duration": 2,
    "start_time": "2022-08-22T13:09:32.197Z"
   },
   {
    "duration": 2323,
    "start_time": "2022-08-22T13:09:32.201Z"
   },
   {
    "duration": 24,
    "start_time": "2022-08-22T13:09:34.526Z"
   },
   {
    "duration": 8,
    "start_time": "2022-08-22T13:09:34.552Z"
   },
   {
    "duration": 22,
    "start_time": "2022-08-22T13:09:34.561Z"
   },
   {
    "duration": 118,
    "start_time": "2022-08-22T13:09:34.595Z"
   },
   {
    "duration": 18,
    "start_time": "2022-08-22T13:09:34.715Z"
   },
   {
    "duration": 26,
    "start_time": "2022-08-22T13:09:34.735Z"
   },
   {
    "duration": 54,
    "start_time": "2022-08-22T13:09:34.762Z"
   },
   {
    "duration": 25,
    "start_time": "2022-08-22T13:09:34.819Z"
   },
   {
    "duration": 8,
    "start_time": "2022-08-22T13:09:34.845Z"
   },
   {
    "duration": 43,
    "start_time": "2022-08-22T13:09:34.855Z"
   },
   {
    "duration": 175,
    "start_time": "2022-08-22T13:09:34.899Z"
   },
   {
    "duration": 15,
    "start_time": "2022-08-22T13:09:35.075Z"
   },
   {
    "duration": 15,
    "start_time": "2022-08-22T13:09:35.095Z"
   },
   {
    "duration": 4,
    "start_time": "2022-08-22T13:09:35.112Z"
   },
   {
    "duration": 248,
    "start_time": "2022-08-22T13:09:35.118Z"
   },
   {
    "duration": 9,
    "start_time": "2022-08-22T13:09:35.368Z"
   },
   {
    "duration": 9,
    "start_time": "2022-08-22T13:09:35.390Z"
   },
   {
    "duration": 176,
    "start_time": "2022-08-22T13:09:35.400Z"
   },
   {
    "duration": 33,
    "start_time": "2022-08-22T13:09:35.577Z"
   },
   {
    "duration": 340,
    "start_time": "2022-08-22T13:09:35.611Z"
   },
   {
    "duration": 4,
    "start_time": "2022-08-22T13:09:35.953Z"
   },
   {
    "duration": 38,
    "start_time": "2022-08-22T13:09:35.958Z"
   },
   {
    "duration": 7,
    "start_time": "2022-08-22T13:09:35.998Z"
   },
   {
    "duration": 41,
    "start_time": "2022-08-22T13:09:36.007Z"
   },
   {
    "duration": 12,
    "start_time": "2022-08-22T13:09:36.049Z"
   },
   {
    "duration": 37,
    "start_time": "2022-08-22T13:09:36.064Z"
   },
   {
    "duration": 12,
    "start_time": "2022-08-22T13:09:36.102Z"
   },
   {
    "duration": 44,
    "start_time": "2022-08-22T13:09:36.116Z"
   },
   {
    "duration": 14,
    "start_time": "2022-08-22T13:09:36.161Z"
   },
   {
    "duration": 38,
    "start_time": "2022-08-22T13:09:36.176Z"
   },
   {
    "duration": 17,
    "start_time": "2022-08-22T13:09:50.046Z"
   },
   {
    "duration": 1515,
    "start_time": "2022-08-22T13:14:01.167Z"
   },
   {
    "duration": 1513,
    "start_time": "2022-08-22T13:14:14.802Z"
   },
   {
    "duration": 1509,
    "start_time": "2022-08-22T13:18:24.814Z"
   },
   {
    "duration": 2,
    "start_time": "2022-08-22T13:18:28.429Z"
   },
   {
    "duration": 1920,
    "start_time": "2022-08-22T13:18:28.433Z"
   },
   {
    "duration": 19,
    "start_time": "2022-08-22T13:18:30.354Z"
   },
   {
    "duration": 18,
    "start_time": "2022-08-22T13:18:30.384Z"
   },
   {
    "duration": 24,
    "start_time": "2022-08-22T13:18:30.404Z"
   },
   {
    "duration": 128,
    "start_time": "2022-08-22T13:18:30.429Z"
   },
   {
    "duration": 20,
    "start_time": "2022-08-22T13:18:30.558Z"
   },
   {
    "duration": 26,
    "start_time": "2022-08-22T13:18:30.585Z"
   },
   {
    "duration": 42,
    "start_time": "2022-08-22T13:18:30.613Z"
   },
   {
    "duration": 41,
    "start_time": "2022-08-22T13:18:30.658Z"
   },
   {
    "duration": 9,
    "start_time": "2022-08-22T13:18:30.702Z"
   },
   {
    "duration": 38,
    "start_time": "2022-08-22T13:18:30.712Z"
   },
   {
    "duration": 190,
    "start_time": "2022-08-22T13:18:30.752Z"
   },
   {
    "duration": 5,
    "start_time": "2022-08-22T13:18:30.945Z"
   },
   {
    "duration": 58,
    "start_time": "2022-08-22T13:18:30.952Z"
   },
   {
    "duration": 32,
    "start_time": "2022-08-22T13:18:31.012Z"
   },
   {
    "duration": 448,
    "start_time": "2022-08-22T13:18:31.046Z"
   },
   {
    "duration": 11,
    "start_time": "2022-08-22T13:18:31.499Z"
   },
   {
    "duration": 14,
    "start_time": "2022-08-22T13:18:31.512Z"
   },
   {
    "duration": 198,
    "start_time": "2022-08-22T13:18:31.527Z"
   },
   {
    "duration": 22,
    "start_time": "2022-08-22T13:18:31.726Z"
   },
   {
    "duration": 227,
    "start_time": "2022-08-22T13:18:31.749Z"
   },
   {
    "duration": 6,
    "start_time": "2022-08-22T13:18:31.986Z"
   },
   {
    "duration": 26,
    "start_time": "2022-08-22T13:18:31.993Z"
   },
   {
    "duration": 12,
    "start_time": "2022-08-22T13:18:32.020Z"
   },
   {
    "duration": 41,
    "start_time": "2022-08-22T13:18:32.034Z"
   },
   {
    "duration": 22,
    "start_time": "2022-08-22T13:18:32.076Z"
   },
   {
    "duration": 37,
    "start_time": "2022-08-22T13:18:32.100Z"
   },
   {
    "duration": 10,
    "start_time": "2022-08-22T13:18:32.138Z"
   },
   {
    "duration": 46,
    "start_time": "2022-08-22T13:18:32.150Z"
   },
   {
    "duration": 6,
    "start_time": "2022-08-22T13:18:32.198Z"
   },
   {
    "duration": 10,
    "start_time": "2022-08-22T13:18:32.206Z"
   },
   {
    "duration": 24,
    "start_time": "2022-08-22T13:18:32.218Z"
   },
   {
    "duration": 1498,
    "start_time": "2022-08-22T13:18:32.244Z"
   },
   {
    "duration": 1644,
    "start_time": "2022-08-22T13:19:05.331Z"
   },
   {
    "duration": 2,
    "start_time": "2022-08-22T13:19:10.770Z"
   },
   {
    "duration": 1978,
    "start_time": "2022-08-22T13:19:10.774Z"
   },
   {
    "duration": 21,
    "start_time": "2022-08-22T13:19:12.754Z"
   },
   {
    "duration": 24,
    "start_time": "2022-08-22T13:19:12.777Z"
   },
   {
    "duration": 6,
    "start_time": "2022-08-22T13:19:12.803Z"
   },
   {
    "duration": 125,
    "start_time": "2022-08-22T13:19:12.811Z"
   },
   {
    "duration": 19,
    "start_time": "2022-08-22T13:19:12.937Z"
   },
   {
    "duration": 10,
    "start_time": "2022-08-22T13:19:12.957Z"
   },
   {
    "duration": 45,
    "start_time": "2022-08-22T13:19:12.969Z"
   },
   {
    "duration": 207,
    "start_time": "2022-08-22T13:19:13.015Z"
   },
   {
    "duration": 9,
    "start_time": "2022-08-22T13:19:13.225Z"
   },
   {
    "duration": 33,
    "start_time": "2022-08-22T13:19:13.235Z"
   },
   {
    "duration": 194,
    "start_time": "2022-08-22T13:19:13.270Z"
   },
   {
    "duration": 6,
    "start_time": "2022-08-22T13:19:13.466Z"
   },
   {
    "duration": 34,
    "start_time": "2022-08-22T13:19:13.473Z"
   },
   {
    "duration": 6,
    "start_time": "2022-08-22T13:19:13.511Z"
   },
   {
    "duration": 243,
    "start_time": "2022-08-22T13:19:13.519Z"
   },
   {
    "duration": 11,
    "start_time": "2022-08-22T13:19:13.764Z"
   },
   {
    "duration": 7,
    "start_time": "2022-08-22T13:19:13.785Z"
   },
   {
    "duration": 177,
    "start_time": "2022-08-22T13:19:13.794Z"
   },
   {
    "duration": 34,
    "start_time": "2022-08-22T13:19:13.973Z"
   },
   {
    "duration": 228,
    "start_time": "2022-08-22T13:19:14.009Z"
   },
   {
    "duration": 5,
    "start_time": "2022-08-22T13:19:14.239Z"
   },
   {
    "duration": 10,
    "start_time": "2022-08-22T13:19:14.246Z"
   },
   {
    "duration": 4,
    "start_time": "2022-08-22T13:19:14.257Z"
   },
   {
    "duration": 53,
    "start_time": "2022-08-22T13:19:14.262Z"
   },
   {
    "duration": 8,
    "start_time": "2022-08-22T13:19:14.317Z"
   },
   {
    "duration": 27,
    "start_time": "2022-08-22T13:19:14.327Z"
   },
   {
    "duration": 29,
    "start_time": "2022-08-22T13:19:14.357Z"
   },
   {
    "duration": 49,
    "start_time": "2022-08-22T13:19:14.388Z"
   },
   {
    "duration": 7,
    "start_time": "2022-08-22T13:19:14.439Z"
   },
   {
    "duration": 17,
    "start_time": "2022-08-22T13:19:14.448Z"
   },
   {
    "duration": 36,
    "start_time": "2022-08-22T13:19:14.467Z"
   },
   {
    "duration": 1465,
    "start_time": "2022-08-22T13:19:14.505Z"
   },
   {
    "duration": 22,
    "start_time": "2022-08-22T13:19:15.972Z"
   },
   {
    "duration": 0,
    "start_time": "2022-08-22T13:19:15.996Z"
   },
   {
    "duration": 0,
    "start_time": "2022-08-22T13:19:15.997Z"
   },
   {
    "duration": 1008,
    "start_time": "2022-08-22T13:20:43.092Z"
   },
   {
    "duration": 13,
    "start_time": "2022-08-22T13:20:56.702Z"
   },
   {
    "duration": 19,
    "start_time": "2022-08-22T13:27:26.451Z"
   },
   {
    "duration": 19,
    "start_time": "2022-08-22T13:27:34.309Z"
   },
   {
    "duration": 25,
    "start_time": "2022-08-22T13:28:32.971Z"
   },
   {
    "duration": 32,
    "start_time": "2022-08-22T13:28:38.782Z"
   },
   {
    "duration": 18,
    "start_time": "2022-08-22T13:28:49.106Z"
   },
   {
    "duration": 678,
    "start_time": "2022-08-22T13:28:59.807Z"
   },
   {
    "duration": 556,
    "start_time": "2022-08-22T13:29:04.671Z"
   },
   {
    "duration": 14,
    "start_time": "2022-08-22T13:29:16.059Z"
   },
   {
    "duration": 21,
    "start_time": "2022-08-22T13:29:46.522Z"
   },
   {
    "duration": 20,
    "start_time": "2022-08-22T13:32:05.610Z"
   },
   {
    "duration": 9,
    "start_time": "2022-08-22T13:37:16.168Z"
   },
   {
    "duration": 9,
    "start_time": "2022-08-22T13:38:00.731Z"
   },
   {
    "duration": 14,
    "start_time": "2022-08-22T13:38:15.512Z"
   },
   {
    "duration": 5,
    "start_time": "2022-08-22T13:40:12.911Z"
   },
   {
    "duration": 21,
    "start_time": "2022-08-22T13:40:16.243Z"
   },
   {
    "duration": 10,
    "start_time": "2022-08-22T13:45:26.064Z"
   },
   {
    "duration": 8,
    "start_time": "2022-08-22T13:46:08.899Z"
   },
   {
    "duration": 12,
    "start_time": "2022-08-22T13:46:44.822Z"
   },
   {
    "duration": 17,
    "start_time": "2022-08-22T13:50:42.717Z"
   },
   {
    "duration": 230,
    "start_time": "2022-08-22T14:02:11.536Z"
   },
   {
    "duration": 55,
    "start_time": "2022-08-22T14:02:20.016Z"
   },
   {
    "duration": 24,
    "start_time": "2022-08-22T14:02:25.877Z"
   },
   {
    "duration": 399,
    "start_time": "2022-08-22T14:02:30.322Z"
   },
   {
    "duration": 4,
    "start_time": "2022-08-22T14:11:41.966Z"
   },
   {
    "duration": 291,
    "start_time": "2022-08-22T14:11:46.173Z"
   },
   {
    "duration": 16,
    "start_time": "2022-08-22T14:13:19.330Z"
   },
   {
    "duration": 29,
    "start_time": "2022-08-22T14:17:39.947Z"
   },
   {
    "duration": 368,
    "start_time": "2022-08-22T14:17:45.037Z"
   },
   {
    "duration": 21,
    "start_time": "2022-08-22T14:18:00.042Z"
   },
   {
    "duration": 228,
    "start_time": "2022-08-22T14:18:34.691Z"
   },
   {
    "duration": 3,
    "start_time": "2022-08-22T14:19:39.558Z"
   },
   {
    "duration": 22,
    "start_time": "2022-08-22T14:20:02.410Z"
   },
   {
    "duration": 15,
    "start_time": "2022-08-22T14:20:18.838Z"
   },
   {
    "duration": 16,
    "start_time": "2022-08-22T14:20:39.460Z"
   },
   {
    "duration": 17,
    "start_time": "2022-08-22T14:21:08.614Z"
   },
   {
    "duration": 35,
    "start_time": "2022-08-22T14:21:21.571Z"
   },
   {
    "duration": 22,
    "start_time": "2022-08-22T14:21:50.717Z"
   },
   {
    "duration": 19,
    "start_time": "2022-08-22T14:22:01.310Z"
   },
   {
    "duration": 22,
    "start_time": "2022-08-22T14:22:05.668Z"
   },
   {
    "duration": 60,
    "start_time": "2022-08-22T17:23:32.820Z"
   },
   {
    "duration": 1042,
    "start_time": "2022-08-22T17:23:37.659Z"
   },
   {
    "duration": 2806,
    "start_time": "2022-08-22T17:23:38.712Z"
   },
   {
    "duration": 33,
    "start_time": "2022-08-22T17:23:41.524Z"
   },
   {
    "duration": 8,
    "start_time": "2022-08-22T17:23:41.558Z"
   },
   {
    "duration": 24,
    "start_time": "2022-08-22T17:23:41.569Z"
   },
   {
    "duration": 175,
    "start_time": "2022-08-22T17:23:41.595Z"
   },
   {
    "duration": 49,
    "start_time": "2022-08-22T17:23:41.772Z"
   },
   {
    "duration": 27,
    "start_time": "2022-08-22T17:23:41.828Z"
   },
   {
    "duration": 83,
    "start_time": "2022-08-22T17:23:41.858Z"
   },
   {
    "duration": 46,
    "start_time": "2022-08-22T17:23:41.944Z"
   },
   {
    "duration": 30,
    "start_time": "2022-08-22T17:23:41.992Z"
   },
   {
    "duration": 95,
    "start_time": "2022-08-22T17:23:42.026Z"
   },
   {
    "duration": 312,
    "start_time": "2022-08-22T17:23:42.127Z"
   },
   {
    "duration": 19,
    "start_time": "2022-08-22T17:23:42.444Z"
   },
   {
    "duration": 23,
    "start_time": "2022-08-22T17:23:42.467Z"
   },
   {
    "duration": 6,
    "start_time": "2022-08-22T17:23:42.492Z"
   },
   {
    "duration": 356,
    "start_time": "2022-08-22T17:23:42.513Z"
   },
   {
    "duration": 12,
    "start_time": "2022-08-22T17:23:42.871Z"
   },
   {
    "duration": 16,
    "start_time": "2022-08-22T17:23:42.901Z"
   },
   {
    "duration": 230,
    "start_time": "2022-08-22T17:23:42.920Z"
   },
   {
    "duration": 25,
    "start_time": "2022-08-22T17:23:43.152Z"
   },
   {
    "duration": 239,
    "start_time": "2022-08-22T17:23:43.195Z"
   },
   {
    "duration": 5,
    "start_time": "2022-08-22T17:23:43.439Z"
   },
   {
    "duration": 12,
    "start_time": "2022-08-22T17:23:43.446Z"
   },
   {
    "duration": 6,
    "start_time": "2022-08-22T17:23:43.460Z"
   },
   {
    "duration": 62,
    "start_time": "2022-08-22T17:23:43.469Z"
   },
   {
    "duration": 24,
    "start_time": "2022-08-22T17:23:43.534Z"
   },
   {
    "duration": 123,
    "start_time": "2022-08-22T17:23:43.560Z"
   },
   {
    "duration": 16,
    "start_time": "2022-08-22T17:23:43.685Z"
   },
   {
    "duration": 75,
    "start_time": "2022-08-22T17:23:43.707Z"
   },
   {
    "duration": 10,
    "start_time": "2022-08-22T17:23:43.783Z"
   },
   {
    "duration": 46,
    "start_time": "2022-08-22T17:23:43.803Z"
   },
   {
    "duration": 14,
    "start_time": "2022-08-22T17:23:43.852Z"
   },
   {
    "duration": 2212,
    "start_time": "2022-08-22T17:23:43.867Z"
   },
   {
    "duration": 49,
    "start_time": "2022-08-22T17:23:46.081Z"
   },
   {
    "duration": 21,
    "start_time": "2022-08-22T17:23:46.137Z"
   },
   {
    "duration": 4,
    "start_time": "2022-08-22T17:23:46.160Z"
   },
   {
    "duration": 65,
    "start_time": "2022-08-22T17:23:46.166Z"
   },
   {
    "duration": 0,
    "start_time": "2022-08-22T17:23:46.240Z"
   },
   {
    "duration": 0,
    "start_time": "2022-08-22T17:23:46.241Z"
   },
   {
    "duration": 0,
    "start_time": "2022-08-22T17:23:46.242Z"
   },
   {
    "duration": 19,
    "start_time": "2022-08-22T17:23:59.543Z"
   },
   {
    "duration": 28,
    "start_time": "2022-08-22T17:24:09.675Z"
   },
   {
    "duration": 17,
    "start_time": "2022-08-22T17:25:20.867Z"
   },
   {
    "duration": 36,
    "start_time": "2022-08-22T17:25:26.013Z"
   },
   {
    "duration": 821,
    "start_time": "2022-08-22T17:28:19.539Z"
   },
   {
    "duration": 836,
    "start_time": "2022-08-22T17:28:55.128Z"
   },
   {
    "duration": 894,
    "start_time": "2022-08-22T17:29:00.358Z"
   },
   {
    "duration": 925,
    "start_time": "2022-08-22T17:29:22.576Z"
   },
   {
    "duration": 50,
    "start_time": "2022-08-23T07:12:58.890Z"
   },
   {
    "duration": 802,
    "start_time": "2022-08-23T07:13:02.406Z"
   },
   {
    "duration": 2054,
    "start_time": "2022-08-23T07:13:03.214Z"
   },
   {
    "duration": 21,
    "start_time": "2022-08-23T07:13:05.270Z"
   },
   {
    "duration": 6,
    "start_time": "2022-08-23T07:13:05.293Z"
   },
   {
    "duration": 14,
    "start_time": "2022-08-23T07:13:05.301Z"
   },
   {
    "duration": 93,
    "start_time": "2022-08-23T07:13:05.316Z"
   },
   {
    "duration": 24,
    "start_time": "2022-08-23T07:13:05.413Z"
   },
   {
    "duration": 8,
    "start_time": "2022-08-23T07:13:05.438Z"
   },
   {
    "duration": 31,
    "start_time": "2022-08-23T07:13:05.448Z"
   },
   {
    "duration": 38,
    "start_time": "2022-08-23T07:13:05.482Z"
   },
   {
    "duration": 9,
    "start_time": "2022-08-23T07:13:05.522Z"
   },
   {
    "duration": 28,
    "start_time": "2022-08-23T07:13:05.532Z"
   },
   {
    "duration": 181,
    "start_time": "2022-08-23T07:13:05.562Z"
   },
   {
    "duration": 7,
    "start_time": "2022-08-23T07:13:05.745Z"
   },
   {
    "duration": 13,
    "start_time": "2022-08-23T07:13:05.754Z"
   },
   {
    "duration": 5,
    "start_time": "2022-08-23T07:13:05.768Z"
   },
   {
    "duration": 283,
    "start_time": "2022-08-23T07:13:05.775Z"
   },
   {
    "duration": 14,
    "start_time": "2022-08-23T07:13:06.061Z"
   },
   {
    "duration": 12,
    "start_time": "2022-08-23T07:13:06.077Z"
   },
   {
    "duration": 248,
    "start_time": "2022-08-23T07:13:06.091Z"
   },
   {
    "duration": 23,
    "start_time": "2022-08-23T07:13:06.341Z"
   },
   {
    "duration": 202,
    "start_time": "2022-08-23T07:13:06.365Z"
   },
   {
    "duration": 5,
    "start_time": "2022-08-23T07:13:06.568Z"
   },
   {
    "duration": 13,
    "start_time": "2022-08-23T07:13:06.574Z"
   },
   {
    "duration": 22,
    "start_time": "2022-08-23T07:13:06.588Z"
   },
   {
    "duration": 36,
    "start_time": "2022-08-23T07:13:06.612Z"
   },
   {
    "duration": 11,
    "start_time": "2022-08-23T07:13:06.649Z"
   },
   {
    "duration": 30,
    "start_time": "2022-08-23T07:13:06.663Z"
   },
   {
    "duration": 23,
    "start_time": "2022-08-23T07:13:06.694Z"
   },
   {
    "duration": 37,
    "start_time": "2022-08-23T07:13:06.723Z"
   },
   {
    "duration": 6,
    "start_time": "2022-08-23T07:13:06.762Z"
   },
   {
    "duration": 11,
    "start_time": "2022-08-23T07:13:06.770Z"
   },
   {
    "duration": 36,
    "start_time": "2022-08-23T07:13:06.783Z"
   },
   {
    "duration": 183,
    "start_time": "2022-08-23T07:13:06.821Z"
   },
   {
    "duration": 0,
    "start_time": "2022-08-23T07:13:07.012Z"
   },
   {
    "duration": 0,
    "start_time": "2022-08-23T07:13:07.012Z"
   },
   {
    "duration": 0,
    "start_time": "2022-08-23T07:13:07.013Z"
   },
   {
    "duration": 0,
    "start_time": "2022-08-23T07:13:07.014Z"
   },
   {
    "duration": 0,
    "start_time": "2022-08-23T07:13:07.015Z"
   },
   {
    "duration": 0,
    "start_time": "2022-08-23T07:13:07.016Z"
   },
   {
    "duration": 0,
    "start_time": "2022-08-23T07:13:07.017Z"
   },
   {
    "duration": 1438,
    "start_time": "2022-08-23T07:13:39.987Z"
   },
   {
    "duration": 447,
    "start_time": "2022-08-23T07:14:31.094Z"
   },
   {
    "duration": 483,
    "start_time": "2022-08-23T07:14:41.820Z"
   },
   {
    "duration": 1404,
    "start_time": "2022-08-23T07:14:47.759Z"
   },
   {
    "duration": 17,
    "start_time": "2022-08-23T07:14:57.218Z"
   },
   {
    "duration": 12,
    "start_time": "2022-08-23T07:15:02.061Z"
   },
   {
    "duration": 4,
    "start_time": "2022-08-23T07:15:03.571Z"
   },
   {
    "duration": 50,
    "start_time": "2022-08-23T07:15:09.317Z"
   },
   {
    "duration": 91,
    "start_time": "2022-08-23T07:15:42.633Z"
   },
   {
    "duration": 57,
    "start_time": "2022-08-23T07:15:48.666Z"
   },
   {
    "duration": 48,
    "start_time": "2022-08-23T07:16:12.200Z"
   },
   {
    "duration": 58,
    "start_time": "2022-08-23T07:16:20.023Z"
   },
   {
    "duration": 11,
    "start_time": "2022-08-23T07:29:59.084Z"
   },
   {
    "duration": 4,
    "start_time": "2022-08-23T07:30:17.766Z"
   },
   {
    "duration": 26,
    "start_time": "2022-08-23T07:32:32.617Z"
   },
   {
    "duration": 88,
    "start_time": "2022-08-23T07:33:23.418Z"
   },
   {
    "duration": 23,
    "start_time": "2022-08-23T07:33:36.160Z"
   },
   {
    "duration": 28,
    "start_time": "2022-08-23T07:33:40.192Z"
   },
   {
    "duration": 31,
    "start_time": "2022-08-23T07:34:30.703Z"
   },
   {
    "duration": 117,
    "start_time": "2022-08-23T07:38:21.906Z"
   },
   {
    "duration": 24,
    "start_time": "2022-08-23T07:39:21.350Z"
   },
   {
    "duration": 4,
    "start_time": "2022-08-23T08:55:55.537Z"
   },
   {
    "duration": 11,
    "start_time": "2022-08-23T09:22:27.778Z"
   },
   {
    "duration": 12,
    "start_time": "2022-08-23T09:22:31.769Z"
   },
   {
    "duration": 1700,
    "start_time": "2022-08-23T09:23:12.235Z"
   },
   {
    "duration": 4,
    "start_time": "2022-08-23T09:45:26.125Z"
   },
   {
    "duration": 9,
    "start_time": "2022-08-23T09:45:30.557Z"
   },
   {
    "duration": 31,
    "start_time": "2022-08-23T09:45:37.798Z"
   },
   {
    "duration": 19,
    "start_time": "2022-08-23T09:46:02.384Z"
   },
   {
    "duration": 13,
    "start_time": "2022-08-23T09:48:42.208Z"
   },
   {
    "duration": 17,
    "start_time": "2022-08-23T09:48:47.912Z"
   },
   {
    "duration": 19,
    "start_time": "2022-08-23T09:48:59.986Z"
   },
   {
    "duration": 102,
    "start_time": "2022-08-23T09:50:47.190Z"
   },
   {
    "duration": 11,
    "start_time": "2022-08-23T09:50:54.648Z"
   },
   {
    "duration": 12,
    "start_time": "2022-08-23T09:51:38.121Z"
   },
   {
    "duration": 16,
    "start_time": "2022-08-23T09:57:06.504Z"
   },
   {
    "duration": 816,
    "start_time": "2022-08-23T10:05:47.361Z"
   },
   {
    "duration": 650,
    "start_time": "2022-08-23T10:06:22.336Z"
   },
   {
    "duration": 21,
    "start_time": "2022-08-23T10:07:09.444Z"
   },
   {
    "duration": 25,
    "start_time": "2022-08-23T10:07:22.249Z"
   },
   {
    "duration": 23,
    "start_time": "2022-08-23T10:07:46.707Z"
   },
   {
    "duration": 13,
    "start_time": "2022-08-23T10:07:52.234Z"
   },
   {
    "duration": 6645,
    "start_time": "2022-08-23T10:11:29.227Z"
   },
   {
    "duration": 704,
    "start_time": "2022-08-23T10:12:04.946Z"
   },
   {
    "duration": 758,
    "start_time": "2022-08-23T10:12:18.392Z"
   },
   {
    "duration": 13,
    "start_time": "2022-08-23T10:13:11.591Z"
   },
   {
    "duration": 13,
    "start_time": "2022-08-23T10:13:19.187Z"
   },
   {
    "duration": 12,
    "start_time": "2022-08-23T10:14:30.234Z"
   },
   {
    "duration": 14,
    "start_time": "2022-08-23T10:14:37.092Z"
   },
   {
    "duration": 848,
    "start_time": "2022-08-23T10:14:52.188Z"
   },
   {
    "duration": 1171,
    "start_time": "2022-08-23T10:15:00.981Z"
   },
   {
    "duration": 24,
    "start_time": "2022-08-23T10:17:24.661Z"
   },
   {
    "duration": 27,
    "start_time": "2022-08-23T10:17:48.462Z"
   },
   {
    "duration": 15,
    "start_time": "2022-08-23T10:21:05.321Z"
   },
   {
    "duration": 20,
    "start_time": "2022-08-23T10:23:35.952Z"
   },
   {
    "duration": 15,
    "start_time": "2022-08-23T10:24:38.141Z"
   },
   {
    "duration": 19,
    "start_time": "2022-08-23T10:27:56.130Z"
   },
   {
    "duration": 110,
    "start_time": "2022-08-23T10:28:21.061Z"
   },
   {
    "duration": 101,
    "start_time": "2022-08-23T10:28:31.746Z"
   },
   {
    "duration": 1485,
    "start_time": "2022-08-23T10:28:39.995Z"
   },
   {
    "duration": 8832,
    "start_time": "2022-08-23T10:36:03.721Z"
   },
   {
    "duration": 5363,
    "start_time": "2022-08-23T10:36:16.971Z"
   },
   {
    "duration": 10,
    "start_time": "2022-08-23T10:36:27.026Z"
   },
   {
    "duration": 14,
    "start_time": "2022-08-23T10:36:48.241Z"
   },
   {
    "duration": 9,
    "start_time": "2022-08-23T10:37:12.483Z"
   },
   {
    "duration": 28,
    "start_time": "2022-08-23T10:37:43.111Z"
   },
   {
    "duration": 949,
    "start_time": "2022-08-23T10:38:01.704Z"
   },
   {
    "duration": 11,
    "start_time": "2022-08-23T10:38:23.325Z"
   },
   {
    "duration": 17,
    "start_time": "2022-08-23T10:38:28.802Z"
   },
   {
    "duration": 11,
    "start_time": "2022-08-23T10:38:37.265Z"
   },
   {
    "duration": 11,
    "start_time": "2022-08-23T10:39:34.922Z"
   },
   {
    "duration": 10,
    "start_time": "2022-08-23T10:39:42.880Z"
   },
   {
    "duration": 10,
    "start_time": "2022-08-23T10:41:14.691Z"
   },
   {
    "duration": 11,
    "start_time": "2022-08-23T10:41:21.877Z"
   },
   {
    "duration": 10,
    "start_time": "2022-08-23T10:41:27.666Z"
   },
   {
    "duration": 10,
    "start_time": "2022-08-23T10:41:35.826Z"
   },
   {
    "duration": 10,
    "start_time": "2022-08-23T10:41:38.917Z"
   },
   {
    "duration": 10,
    "start_time": "2022-08-23T10:51:07.138Z"
   },
   {
    "duration": 15,
    "start_time": "2022-08-23T10:51:19.317Z"
   },
   {
    "duration": 15,
    "start_time": "2022-08-23T10:51:31.221Z"
   },
   {
    "duration": 22,
    "start_time": "2022-08-23T10:51:49.203Z"
   },
   {
    "duration": 14,
    "start_time": "2022-08-23T10:51:52.125Z"
   },
   {
    "duration": 11,
    "start_time": "2022-08-23T10:51:54.864Z"
   },
   {
    "duration": 15,
    "start_time": "2022-08-23T10:52:12.456Z"
   },
   {
    "duration": 17,
    "start_time": "2022-08-23T10:52:22.903Z"
   },
   {
    "duration": 24,
    "start_time": "2022-08-23T10:52:25.198Z"
   },
   {
    "duration": 15,
    "start_time": "2022-08-23T10:52:32.133Z"
   },
   {
    "duration": 10,
    "start_time": "2022-08-23T10:52:51.234Z"
   },
   {
    "duration": 16,
    "start_time": "2022-08-23T10:53:02.530Z"
   },
   {
    "duration": 10,
    "start_time": "2022-08-23T10:53:13.363Z"
   },
   {
    "duration": 2,
    "start_time": "2022-08-23T10:53:27.284Z"
   },
   {
    "duration": 30,
    "start_time": "2022-08-23T11:00:06.599Z"
   },
   {
    "duration": 3,
    "start_time": "2022-08-23T11:00:14.536Z"
   },
   {
    "duration": 2010,
    "start_time": "2022-08-23T11:00:14.545Z"
   },
   {
    "duration": 20,
    "start_time": "2022-08-23T11:00:16.557Z"
   },
   {
    "duration": 6,
    "start_time": "2022-08-23T11:00:16.579Z"
   },
   {
    "duration": 23,
    "start_time": "2022-08-23T11:00:16.586Z"
   },
   {
    "duration": 89,
    "start_time": "2022-08-23T11:00:16.612Z"
   },
   {
    "duration": 25,
    "start_time": "2022-08-23T11:00:16.710Z"
   },
   {
    "duration": 5,
    "start_time": "2022-08-23T11:00:16.737Z"
   },
   {
    "duration": 32,
    "start_time": "2022-08-23T11:00:16.743Z"
   },
   {
    "duration": 31,
    "start_time": "2022-08-23T11:00:16.776Z"
   },
   {
    "duration": 10,
    "start_time": "2022-08-23T11:00:16.815Z"
   },
   {
    "duration": 26,
    "start_time": "2022-08-23T11:00:16.826Z"
   },
   {
    "duration": 5,
    "start_time": "2022-08-23T11:00:16.854Z"
   },
   {
    "duration": 181,
    "start_time": "2022-08-23T11:00:16.860Z"
   },
   {
    "duration": 7,
    "start_time": "2022-08-23T11:00:17.043Z"
   },
   {
    "duration": 33,
    "start_time": "2022-08-23T11:00:17.051Z"
   },
   {
    "duration": 13,
    "start_time": "2022-08-23T11:00:17.085Z"
   },
   {
    "duration": 250,
    "start_time": "2022-08-23T11:00:17.100Z"
   },
   {
    "duration": 12,
    "start_time": "2022-08-23T11:00:17.352Z"
   },
   {
    "duration": 4,
    "start_time": "2022-08-23T11:00:17.365Z"
   },
   {
    "duration": 176,
    "start_time": "2022-08-23T11:00:17.370Z"
   },
   {
    "duration": 22,
    "start_time": "2022-08-23T11:00:17.548Z"
   },
   {
    "duration": 190,
    "start_time": "2022-08-23T11:00:17.572Z"
   },
   {
    "duration": 6,
    "start_time": "2022-08-23T11:00:17.763Z"
   },
   {
    "duration": 28,
    "start_time": "2022-08-23T11:00:17.770Z"
   },
   {
    "duration": 16,
    "start_time": "2022-08-23T11:00:17.800Z"
   },
   {
    "duration": 43,
    "start_time": "2022-08-23T11:00:17.819Z"
   },
   {
    "duration": 23,
    "start_time": "2022-08-23T11:00:17.863Z"
   },
   {
    "duration": 34,
    "start_time": "2022-08-23T11:00:17.887Z"
   },
   {
    "duration": 10,
    "start_time": "2022-08-23T11:00:17.924Z"
   },
   {
    "duration": 55,
    "start_time": "2022-08-23T11:00:17.936Z"
   },
   {
    "duration": 6,
    "start_time": "2022-08-23T11:00:17.992Z"
   },
   {
    "duration": 44,
    "start_time": "2022-08-23T11:00:18.000Z"
   },
   {
    "duration": 27,
    "start_time": "2022-08-23T11:00:18.052Z"
   },
   {
    "duration": 1451,
    "start_time": "2022-08-23T11:00:18.080Z"
   },
   {
    "duration": 11,
    "start_time": "2022-08-23T11:00:19.533Z"
   },
   {
    "duration": 24,
    "start_time": "2022-08-23T11:00:19.546Z"
   },
   {
    "duration": 14,
    "start_time": "2022-08-23T11:00:19.571Z"
   },
   {
    "duration": 8,
    "start_time": "2022-08-23T11:00:19.587Z"
   },
   {
    "duration": 42,
    "start_time": "2022-08-23T11:00:19.596Z"
   },
   {
    "duration": 0,
    "start_time": "2022-08-23T11:00:19.639Z"
   },
   {
    "duration": 0,
    "start_time": "2022-08-23T11:00:19.641Z"
   },
   {
    "duration": 0,
    "start_time": "2022-08-23T11:00:19.643Z"
   },
   {
    "duration": 24,
    "start_time": "2022-08-23T11:05:21.929Z"
   },
   {
    "duration": 11,
    "start_time": "2022-08-23T11:05:44.932Z"
   },
   {
    "duration": 15,
    "start_time": "2022-08-23T11:05:46.119Z"
   },
   {
    "duration": 9,
    "start_time": "2022-08-23T11:06:26.173Z"
   },
   {
    "duration": 7,
    "start_time": "2022-08-23T11:06:31.435Z"
   },
   {
    "duration": 2,
    "start_time": "2022-08-23T11:06:50.349Z"
   },
   {
    "duration": 1930,
    "start_time": "2022-08-23T11:06:50.354Z"
   },
   {
    "duration": 35,
    "start_time": "2022-08-23T11:06:52.286Z"
   },
   {
    "duration": 7,
    "start_time": "2022-08-23T11:06:52.322Z"
   },
   {
    "duration": 7,
    "start_time": "2022-08-23T11:06:52.330Z"
   },
   {
    "duration": 92,
    "start_time": "2022-08-23T11:06:52.338Z"
   },
   {
    "duration": 18,
    "start_time": "2022-08-23T11:06:52.432Z"
   },
   {
    "duration": 15,
    "start_time": "2022-08-23T11:06:52.451Z"
   },
   {
    "duration": 41,
    "start_time": "2022-08-23T11:06:52.467Z"
   },
   {
    "duration": 24,
    "start_time": "2022-08-23T11:06:52.510Z"
   },
   {
    "duration": 8,
    "start_time": "2022-08-23T11:06:52.536Z"
   },
   {
    "duration": 30,
    "start_time": "2022-08-23T11:06:52.546Z"
   },
   {
    "duration": 5,
    "start_time": "2022-08-23T11:06:52.577Z"
   },
   {
    "duration": 189,
    "start_time": "2022-08-23T11:06:52.583Z"
   },
   {
    "duration": 6,
    "start_time": "2022-08-23T11:06:52.773Z"
   },
   {
    "duration": 29,
    "start_time": "2022-08-23T11:06:52.780Z"
   },
   {
    "duration": 8,
    "start_time": "2022-08-23T11:06:52.811Z"
   },
   {
    "duration": 341,
    "start_time": "2022-08-23T11:06:52.820Z"
   },
   {
    "duration": 10,
    "start_time": "2022-08-23T11:06:53.163Z"
   },
   {
    "duration": 4,
    "start_time": "2022-08-23T11:06:53.175Z"
   },
   {
    "duration": 194,
    "start_time": "2022-08-23T11:06:53.180Z"
   },
   {
    "duration": 35,
    "start_time": "2022-08-23T11:06:53.376Z"
   },
   {
    "duration": 199,
    "start_time": "2022-08-23T11:06:53.421Z"
   },
   {
    "duration": 4,
    "start_time": "2022-08-23T11:06:53.622Z"
   },
   {
    "duration": 9,
    "start_time": "2022-08-23T11:06:53.628Z"
   },
   {
    "duration": 3,
    "start_time": "2022-08-23T11:06:53.639Z"
   },
   {
    "duration": 31,
    "start_time": "2022-08-23T11:06:53.644Z"
   },
   {
    "duration": 9,
    "start_time": "2022-08-23T11:06:53.677Z"
   },
   {
    "duration": 53,
    "start_time": "2022-08-23T11:06:53.689Z"
   },
   {
    "duration": 9,
    "start_time": "2022-08-23T11:06:53.744Z"
   },
   {
    "duration": 38,
    "start_time": "2022-08-23T11:06:53.755Z"
   },
   {
    "duration": 28,
    "start_time": "2022-08-23T11:06:53.795Z"
   },
   {
    "duration": 9,
    "start_time": "2022-08-23T11:06:53.825Z"
   },
   {
    "duration": 14,
    "start_time": "2022-08-23T11:06:53.837Z"
   },
   {
    "duration": 1575,
    "start_time": "2022-08-23T11:06:53.853Z"
   },
   {
    "duration": 13,
    "start_time": "2022-08-23T11:06:55.430Z"
   },
   {
    "duration": 10,
    "start_time": "2022-08-23T11:06:55.445Z"
   },
   {
    "duration": 7,
    "start_time": "2022-08-23T11:06:55.457Z"
   },
   {
    "duration": 5,
    "start_time": "2022-08-23T11:06:55.465Z"
   },
   {
    "duration": 14,
    "start_time": "2022-08-23T11:06:55.471Z"
   },
   {
    "duration": 8,
    "start_time": "2022-08-23T11:07:05.165Z"
   },
   {
    "duration": 667,
    "start_time": "2022-08-23T11:09:50.566Z"
   },
   {
    "duration": 1988,
    "start_time": "2022-08-23T11:09:51.235Z"
   },
   {
    "duration": 23,
    "start_time": "2022-08-23T11:09:53.224Z"
   },
   {
    "duration": 6,
    "start_time": "2022-08-23T11:09:53.249Z"
   },
   {
    "duration": 11,
    "start_time": "2022-08-23T11:09:53.257Z"
   },
   {
    "duration": 94,
    "start_time": "2022-08-23T11:09:53.269Z"
   },
   {
    "duration": 18,
    "start_time": "2022-08-23T11:09:53.364Z"
   },
   {
    "duration": 10,
    "start_time": "2022-08-23T11:09:53.383Z"
   },
   {
    "duration": 36,
    "start_time": "2022-08-23T11:09:53.394Z"
   },
   {
    "duration": 20,
    "start_time": "2022-08-23T11:09:53.432Z"
   },
   {
    "duration": 7,
    "start_time": "2022-08-23T11:09:53.453Z"
   },
   {
    "duration": 59,
    "start_time": "2022-08-23T11:09:53.461Z"
   },
   {
    "duration": 4,
    "start_time": "2022-08-23T11:09:53.521Z"
   },
   {
    "duration": 165,
    "start_time": "2022-08-23T11:09:53.527Z"
   },
   {
    "duration": 22,
    "start_time": "2022-08-23T11:09:53.693Z"
   },
   {
    "duration": 14,
    "start_time": "2022-08-23T11:09:53.717Z"
   },
   {
    "duration": 10,
    "start_time": "2022-08-23T11:09:53.732Z"
   },
   {
    "duration": 234,
    "start_time": "2022-08-23T11:09:53.744Z"
   },
   {
    "duration": 10,
    "start_time": "2022-08-23T11:09:53.980Z"
   },
   {
    "duration": 15,
    "start_time": "2022-08-23T11:09:53.992Z"
   },
   {
    "duration": 175,
    "start_time": "2022-08-23T11:09:54.008Z"
   },
   {
    "duration": 35,
    "start_time": "2022-08-23T11:09:54.185Z"
   },
   {
    "duration": 180,
    "start_time": "2022-08-23T11:09:54.221Z"
   },
   {
    "duration": 10,
    "start_time": "2022-08-23T11:09:54.403Z"
   },
   {
    "duration": 19,
    "start_time": "2022-08-23T11:09:54.417Z"
   },
   {
    "duration": 6,
    "start_time": "2022-08-23T11:09:54.438Z"
   },
   {
    "duration": 26,
    "start_time": "2022-08-23T11:09:54.445Z"
   },
   {
    "duration": 9,
    "start_time": "2022-08-23T11:09:54.474Z"
   },
   {
    "duration": 39,
    "start_time": "2022-08-23T11:09:54.484Z"
   },
   {
    "duration": 8,
    "start_time": "2022-08-23T11:09:54.525Z"
   },
   {
    "duration": 126,
    "start_time": "2022-08-23T11:09:54.534Z"
   },
   {
    "duration": 6,
    "start_time": "2022-08-23T11:09:54.661Z"
   },
   {
    "duration": 10,
    "start_time": "2022-08-23T11:09:54.668Z"
   },
   {
    "duration": 36,
    "start_time": "2022-08-23T11:09:54.679Z"
   },
   {
    "duration": 1438,
    "start_time": "2022-08-23T11:09:54.716Z"
   },
   {
    "duration": 15,
    "start_time": "2022-08-23T11:09:56.157Z"
   },
   {
    "duration": 34,
    "start_time": "2022-08-23T11:09:56.173Z"
   },
   {
    "duration": 15,
    "start_time": "2022-08-23T11:09:56.210Z"
   },
   {
    "duration": 15,
    "start_time": "2022-08-23T11:09:56.227Z"
   },
   {
    "duration": 80,
    "start_time": "2022-08-23T11:09:56.243Z"
   },
   {
    "duration": 0,
    "start_time": "2022-08-23T11:09:56.325Z"
   },
   {
    "duration": 0,
    "start_time": "2022-08-23T11:09:56.326Z"
   },
   {
    "duration": 0,
    "start_time": "2022-08-23T11:09:56.328Z"
   },
   {
    "duration": 15,
    "start_time": "2022-08-23T11:11:16.747Z"
   },
   {
    "duration": 19,
    "start_time": "2022-08-23T11:11:20.894Z"
   },
   {
    "duration": 10,
    "start_time": "2022-08-23T11:11:46.677Z"
   },
   {
    "duration": 7,
    "start_time": "2022-08-23T11:11:47.793Z"
   },
   {
    "duration": 7,
    "start_time": "2022-08-23T11:12:24.075Z"
   },
   {
    "duration": 6,
    "start_time": "2022-08-23T11:15:04.217Z"
   },
   {
    "duration": 11,
    "start_time": "2022-08-23T11:16:00.969Z"
   },
   {
    "duration": 11,
    "start_time": "2022-08-23T11:16:37.221Z"
   },
   {
    "duration": 20,
    "start_time": "2022-08-23T11:18:38.699Z"
   },
   {
    "duration": 16,
    "start_time": "2022-08-23T11:18:50.572Z"
   },
   {
    "duration": 16,
    "start_time": "2022-08-23T11:18:53.906Z"
   },
   {
    "duration": 13,
    "start_time": "2022-08-23T11:21:19.144Z"
   },
   {
    "duration": 34,
    "start_time": "2022-08-23T11:25:41.227Z"
   },
   {
    "duration": 14,
    "start_time": "2022-08-23T11:25:55.054Z"
   },
   {
    "duration": 75,
    "start_time": "2022-08-23T11:26:56.403Z"
   },
   {
    "duration": 14,
    "start_time": "2022-08-23T11:27:36.569Z"
   },
   {
    "duration": 13,
    "start_time": "2022-08-23T11:28:58.531Z"
   },
   {
    "duration": 8,
    "start_time": "2022-08-23T11:34:03.958Z"
   },
   {
    "duration": 6,
    "start_time": "2022-08-23T11:34:43.127Z"
   },
   {
    "duration": 12,
    "start_time": "2022-08-23T11:34:55.032Z"
   },
   {
    "duration": 5,
    "start_time": "2022-08-23T11:37:05.126Z"
   },
   {
    "duration": 8,
    "start_time": "2022-08-23T11:37:05.333Z"
   },
   {
    "duration": 4,
    "start_time": "2022-08-23T11:37:10.981Z"
   },
   {
    "duration": 11,
    "start_time": "2022-08-23T11:37:11.618Z"
   },
   {
    "duration": 2,
    "start_time": "2022-08-23T11:37:16.436Z"
   },
   {
    "duration": 2033,
    "start_time": "2022-08-23T11:37:16.440Z"
   },
   {
    "duration": 20,
    "start_time": "2022-08-23T11:37:18.475Z"
   },
   {
    "duration": 10,
    "start_time": "2022-08-23T11:37:18.512Z"
   },
   {
    "duration": 13,
    "start_time": "2022-08-23T11:37:18.530Z"
   },
   {
    "duration": 93,
    "start_time": "2022-08-23T11:37:18.545Z"
   },
   {
    "duration": 19,
    "start_time": "2022-08-23T11:37:18.640Z"
   },
   {
    "duration": 7,
    "start_time": "2022-08-23T11:37:18.661Z"
   },
   {
    "duration": 58,
    "start_time": "2022-08-23T11:37:18.670Z"
   },
   {
    "duration": 25,
    "start_time": "2022-08-23T11:37:18.732Z"
   },
   {
    "duration": 9,
    "start_time": "2022-08-23T11:37:18.758Z"
   },
   {
    "duration": 51,
    "start_time": "2022-08-23T11:37:18.768Z"
   },
   {
    "duration": 13,
    "start_time": "2022-08-23T11:37:18.821Z"
   },
   {
    "duration": 209,
    "start_time": "2022-08-23T11:37:18.837Z"
   },
   {
    "duration": 7,
    "start_time": "2022-08-23T11:37:19.048Z"
   },
   {
    "duration": 25,
    "start_time": "2022-08-23T11:37:19.056Z"
   },
   {
    "duration": 10,
    "start_time": "2022-08-23T11:37:19.082Z"
   },
   {
    "duration": 243,
    "start_time": "2022-08-23T11:37:19.094Z"
   },
   {
    "duration": 11,
    "start_time": "2022-08-23T11:37:19.339Z"
   },
   {
    "duration": 13,
    "start_time": "2022-08-23T11:37:19.352Z"
   },
   {
    "duration": 186,
    "start_time": "2022-08-23T11:37:19.367Z"
   },
   {
    "duration": 26,
    "start_time": "2022-08-23T11:37:19.555Z"
   },
   {
    "duration": 238,
    "start_time": "2022-08-23T11:37:19.582Z"
   },
   {
    "duration": 10,
    "start_time": "2022-08-23T11:37:19.825Z"
   },
   {
    "duration": 33,
    "start_time": "2022-08-23T11:37:19.837Z"
   },
   {
    "duration": 15,
    "start_time": "2022-08-23T11:37:19.872Z"
   },
   {
    "duration": 61,
    "start_time": "2022-08-23T11:37:19.888Z"
   },
   {
    "duration": 10,
    "start_time": "2022-08-23T11:37:19.951Z"
   },
   {
    "duration": 28,
    "start_time": "2022-08-23T11:37:19.962Z"
   },
   {
    "duration": 9,
    "start_time": "2022-08-23T11:37:19.991Z"
   },
   {
    "duration": 50,
    "start_time": "2022-08-23T11:37:20.002Z"
   },
   {
    "duration": 8,
    "start_time": "2022-08-23T11:37:20.054Z"
   },
   {
    "duration": 14,
    "start_time": "2022-08-23T11:37:20.064Z"
   },
   {
    "duration": 14,
    "start_time": "2022-08-23T11:37:20.080Z"
   },
   {
    "duration": 1672,
    "start_time": "2022-08-23T11:37:20.096Z"
   },
   {
    "duration": 13,
    "start_time": "2022-08-23T11:37:21.769Z"
   },
   {
    "duration": 42,
    "start_time": "2022-08-23T11:37:21.783Z"
   },
   {
    "duration": 6,
    "start_time": "2022-08-23T11:37:21.827Z"
   },
   {
    "duration": 11,
    "start_time": "2022-08-23T11:37:21.835Z"
   },
   {
    "duration": 16,
    "start_time": "2022-08-23T11:37:21.848Z"
   },
   {
    "duration": 44,
    "start_time": "2022-08-23T11:37:21.867Z"
   },
   {
    "duration": 21,
    "start_time": "2022-08-23T11:37:21.913Z"
   },
   {
    "duration": 35,
    "start_time": "2022-08-23T11:37:21.936Z"
   },
   {
    "duration": 3,
    "start_time": "2022-08-23T11:37:21.973Z"
   },
   {
    "duration": 17,
    "start_time": "2022-08-23T11:37:21.977Z"
   },
   {
    "duration": 664,
    "start_time": "2022-08-23T11:38:44.921Z"
   },
   {
    "duration": 2432,
    "start_time": "2022-08-23T11:38:45.586Z"
   },
   {
    "duration": 28,
    "start_time": "2022-08-23T11:38:48.020Z"
   },
   {
    "duration": 8,
    "start_time": "2022-08-23T11:38:48.050Z"
   },
   {
    "duration": 15,
    "start_time": "2022-08-23T11:38:48.060Z"
   },
   {
    "duration": 129,
    "start_time": "2022-08-23T11:38:48.076Z"
   },
   {
    "duration": 25,
    "start_time": "2022-08-23T11:38:48.213Z"
   },
   {
    "duration": 12,
    "start_time": "2022-08-23T11:38:48.240Z"
   },
   {
    "duration": 33,
    "start_time": "2022-08-23T11:38:48.253Z"
   },
   {
    "duration": 34,
    "start_time": "2022-08-23T11:38:48.287Z"
   },
   {
    "duration": 10,
    "start_time": "2022-08-23T11:38:48.323Z"
   },
   {
    "duration": 30,
    "start_time": "2022-08-23T11:38:48.334Z"
   },
   {
    "duration": 5,
    "start_time": "2022-08-23T11:38:48.365Z"
   },
   {
    "duration": 227,
    "start_time": "2022-08-23T11:38:48.373Z"
   },
   {
    "duration": 8,
    "start_time": "2022-08-23T11:38:48.602Z"
   },
   {
    "duration": 28,
    "start_time": "2022-08-23T11:38:48.615Z"
   },
   {
    "duration": 8,
    "start_time": "2022-08-23T11:38:48.647Z"
   },
   {
    "duration": 232,
    "start_time": "2022-08-23T11:38:48.657Z"
   },
   {
    "duration": 38,
    "start_time": "2022-08-23T11:38:48.891Z"
   },
   {
    "duration": 17,
    "start_time": "2022-08-23T11:38:48.936Z"
   },
   {
    "duration": 178,
    "start_time": "2022-08-23T11:38:48.955Z"
   },
   {
    "duration": 21,
    "start_time": "2022-08-23T11:38:49.135Z"
   },
   {
    "duration": 200,
    "start_time": "2022-08-23T11:38:49.158Z"
   },
   {
    "duration": 4,
    "start_time": "2022-08-23T11:38:49.360Z"
   },
   {
    "duration": 13,
    "start_time": "2022-08-23T11:38:49.365Z"
   },
   {
    "duration": 3,
    "start_time": "2022-08-23T11:38:49.380Z"
   },
   {
    "duration": 47,
    "start_time": "2022-08-23T11:38:49.385Z"
   },
   {
    "duration": 9,
    "start_time": "2022-08-23T11:38:49.434Z"
   },
   {
    "duration": 124,
    "start_time": "2022-08-23T11:38:49.445Z"
   },
   {
    "duration": 11,
    "start_time": "2022-08-23T11:38:49.570Z"
   },
   {
    "duration": 61,
    "start_time": "2022-08-23T11:38:49.582Z"
   },
   {
    "duration": 6,
    "start_time": "2022-08-23T11:38:49.645Z"
   },
   {
    "duration": 10,
    "start_time": "2022-08-23T11:38:49.653Z"
   },
   {
    "duration": 16,
    "start_time": "2022-08-23T11:38:49.664Z"
   },
   {
    "duration": 1524,
    "start_time": "2022-08-23T11:38:49.683Z"
   },
   {
    "duration": 21,
    "start_time": "2022-08-23T11:38:51.209Z"
   },
   {
    "duration": 19,
    "start_time": "2022-08-23T11:38:51.231Z"
   },
   {
    "duration": 4,
    "start_time": "2022-08-23T11:38:51.252Z"
   },
   {
    "duration": 8,
    "start_time": "2022-08-23T11:38:51.257Z"
   },
   {
    "duration": 15,
    "start_time": "2022-08-23T11:38:51.266Z"
   },
   {
    "duration": 48,
    "start_time": "2022-08-23T11:38:51.285Z"
   },
   {
    "duration": 8,
    "start_time": "2022-08-23T11:38:51.335Z"
   },
   {
    "duration": 20,
    "start_time": "2022-08-23T11:38:51.344Z"
   },
   {
    "duration": 3,
    "start_time": "2022-08-23T11:38:51.366Z"
   },
   {
    "duration": 35,
    "start_time": "2022-08-23T11:38:51.371Z"
   },
   {
    "duration": 17,
    "start_time": "2022-08-23T11:46:50.267Z"
   },
   {
    "duration": 68,
    "start_time": "2022-08-23T11:47:43.422Z"
   },
   {
    "duration": 62,
    "start_time": "2022-08-23T11:47:46.793Z"
   },
   {
    "duration": 12,
    "start_time": "2022-08-23T11:47:47.919Z"
   },
   {
    "duration": 7,
    "start_time": "2022-08-23T11:47:49.369Z"
   },
   {
    "duration": 17,
    "start_time": "2022-08-23T11:47:57.138Z"
   },
   {
    "duration": 62,
    "start_time": "2022-08-23T11:55:27.332Z"
   },
   {
    "duration": 10,
    "start_time": "2022-08-23T11:55:28.482Z"
   },
   {
    "duration": 84,
    "start_time": "2022-08-23T11:55:33.200Z"
   },
   {
    "duration": 4,
    "start_time": "2022-08-23T11:55:36.337Z"
   },
   {
    "duration": 77,
    "start_time": "2022-08-23T12:02:03.399Z"
   },
   {
    "duration": 10,
    "start_time": "2022-08-23T12:06:52.953Z"
   },
   {
    "duration": 13,
    "start_time": "2022-08-23T12:07:00.919Z"
   },
   {
    "duration": 11,
    "start_time": "2022-08-23T12:11:18.652Z"
   },
   {
    "duration": 13,
    "start_time": "2022-08-23T12:11:55.786Z"
   },
   {
    "duration": 821,
    "start_time": "2022-08-23T12:12:34.317Z"
   },
   {
    "duration": 24,
    "start_time": "2022-08-23T12:12:44.695Z"
   },
   {
    "duration": 19,
    "start_time": "2022-08-23T12:13:12.817Z"
   },
   {
    "duration": 23,
    "start_time": "2022-08-23T12:13:49.703Z"
   },
   {
    "duration": 19,
    "start_time": "2022-08-23T12:18:29.032Z"
   },
   {
    "duration": 18,
    "start_time": "2022-08-23T12:18:43.962Z"
   },
   {
    "duration": 11,
    "start_time": "2022-08-23T12:18:50.121Z"
   },
   {
    "duration": 174,
    "start_time": "2022-08-23T12:20:04.603Z"
   },
   {
    "duration": 174,
    "start_time": "2022-08-23T12:20:21.677Z"
   },
   {
    "duration": 160,
    "start_time": "2022-08-23T12:20:52.119Z"
   },
   {
    "duration": 175,
    "start_time": "2022-08-23T12:21:08.047Z"
   },
   {
    "duration": 165,
    "start_time": "2022-08-23T12:21:28.010Z"
   },
   {
    "duration": 23,
    "start_time": "2022-08-23T12:22:12.017Z"
   },
   {
    "duration": 21,
    "start_time": "2022-08-23T12:22:15.616Z"
   },
   {
    "duration": 4,
    "start_time": "2022-08-23T12:36:39.080Z"
   },
   {
    "duration": 3,
    "start_time": "2022-08-23T12:37:15.756Z"
   },
   {
    "duration": 10,
    "start_time": "2022-08-23T12:37:16.975Z"
   },
   {
    "duration": 4,
    "start_time": "2022-08-23T12:41:29.680Z"
   },
   {
    "duration": 157,
    "start_time": "2022-08-23T12:41:29.686Z"
   },
   {
    "duration": 133,
    "start_time": "2022-08-23T12:41:29.845Z"
   },
   {
    "duration": 150,
    "start_time": "2022-08-23T12:41:29.980Z"
   },
   {
    "duration": 150,
    "start_time": "2022-08-23T12:41:30.132Z"
   },
   {
    "duration": 139,
    "start_time": "2022-08-23T12:41:30.284Z"
   },
   {
    "duration": 148,
    "start_time": "2022-08-23T12:41:30.425Z"
   },
   {
    "duration": 128,
    "start_time": "2022-08-23T12:41:30.574Z"
   },
   {
    "duration": 142,
    "start_time": "2022-08-23T12:41:30.706Z"
   },
   {
    "duration": 135,
    "start_time": "2022-08-23T12:41:30.850Z"
   },
   {
    "duration": 124,
    "start_time": "2022-08-23T12:41:30.986Z"
   },
   {
    "duration": 243,
    "start_time": "2022-08-23T12:41:31.112Z"
   },
   {
    "duration": 250,
    "start_time": "2022-08-23T12:41:31.357Z"
   },
   {
    "duration": 162,
    "start_time": "2022-08-23T12:41:49.201Z"
   },
   {
    "duration": 110,
    "start_time": "2022-08-23T12:41:52.101Z"
   },
   {
    "duration": 124,
    "start_time": "2022-08-23T12:42:04.629Z"
   },
   {
    "duration": 122,
    "start_time": "2022-08-23T12:42:11.328Z"
   },
   {
    "duration": 126,
    "start_time": "2022-08-23T12:56:57.348Z"
   },
   {
    "duration": 145,
    "start_time": "2022-08-23T13:19:26.591Z"
   },
   {
    "duration": 147,
    "start_time": "2022-08-23T13:19:39.913Z"
   },
   {
    "duration": 702,
    "start_time": "2022-08-23T13:22:46.992Z"
   },
   {
    "duration": 1977,
    "start_time": "2022-08-23T13:22:47.696Z"
   },
   {
    "duration": 25,
    "start_time": "2022-08-23T13:22:49.675Z"
   },
   {
    "duration": 9,
    "start_time": "2022-08-23T13:22:49.704Z"
   },
   {
    "duration": 13,
    "start_time": "2022-08-23T13:22:49.715Z"
   },
   {
    "duration": 106,
    "start_time": "2022-08-23T13:22:49.731Z"
   },
   {
    "duration": 21,
    "start_time": "2022-08-23T13:22:49.839Z"
   },
   {
    "duration": 14,
    "start_time": "2022-08-23T13:22:49.862Z"
   },
   {
    "duration": 48,
    "start_time": "2022-08-23T13:22:49.878Z"
   },
   {
    "duration": 23,
    "start_time": "2022-08-23T13:22:49.929Z"
   },
   {
    "duration": 9,
    "start_time": "2022-08-23T13:22:49.954Z"
   },
   {
    "duration": 46,
    "start_time": "2022-08-23T13:22:49.964Z"
   },
   {
    "duration": 5,
    "start_time": "2022-08-23T13:22:50.011Z"
   },
   {
    "duration": 180,
    "start_time": "2022-08-23T13:22:50.018Z"
   },
   {
    "duration": 7,
    "start_time": "2022-08-23T13:22:50.206Z"
   },
   {
    "duration": 33,
    "start_time": "2022-08-23T13:22:50.214Z"
   },
   {
    "duration": 8,
    "start_time": "2022-08-23T13:22:50.248Z"
   },
   {
    "duration": 229,
    "start_time": "2022-08-23T13:22:50.258Z"
   },
   {
    "duration": 21,
    "start_time": "2022-08-23T13:22:50.489Z"
   },
   {
    "duration": 39,
    "start_time": "2022-08-23T13:22:50.512Z"
   },
   {
    "duration": 192,
    "start_time": "2022-08-23T13:22:50.553Z"
   },
   {
    "duration": 24,
    "start_time": "2022-08-23T13:22:50.747Z"
   },
   {
    "duration": 188,
    "start_time": "2022-08-23T13:22:50.773Z"
   },
   {
    "duration": 5,
    "start_time": "2022-08-23T13:22:50.963Z"
   },
   {
    "duration": 37,
    "start_time": "2022-08-23T13:22:50.969Z"
   },
   {
    "duration": 16,
    "start_time": "2022-08-23T13:22:51.008Z"
   },
   {
    "duration": 59,
    "start_time": "2022-08-23T13:22:51.026Z"
   },
   {
    "duration": 12,
    "start_time": "2022-08-23T13:22:51.091Z"
   },
   {
    "duration": 132,
    "start_time": "2022-08-23T13:22:51.105Z"
   },
   {
    "duration": 10,
    "start_time": "2022-08-23T13:22:51.238Z"
   },
   {
    "duration": 59,
    "start_time": "2022-08-23T13:22:51.249Z"
   },
   {
    "duration": 7,
    "start_time": "2022-08-23T13:22:51.309Z"
   },
   {
    "duration": 26,
    "start_time": "2022-08-23T13:22:51.318Z"
   },
   {
    "duration": 39,
    "start_time": "2022-08-23T13:22:51.346Z"
   },
   {
    "duration": 1415,
    "start_time": "2022-08-23T13:22:51.386Z"
   },
   {
    "duration": 14,
    "start_time": "2022-08-23T13:22:52.806Z"
   },
   {
    "duration": 16,
    "start_time": "2022-08-23T13:22:52.822Z"
   },
   {
    "duration": 5,
    "start_time": "2022-08-23T13:22:52.839Z"
   },
   {
    "duration": 15,
    "start_time": "2022-08-23T13:22:52.846Z"
   },
   {
    "duration": 20,
    "start_time": "2022-08-23T13:22:52.863Z"
   },
   {
    "duration": 63,
    "start_time": "2022-08-23T13:22:52.885Z"
   },
   {
    "duration": 12,
    "start_time": "2022-08-23T13:22:52.950Z"
   },
   {
    "duration": 42,
    "start_time": "2022-08-23T13:22:52.964Z"
   },
   {
    "duration": 24,
    "start_time": "2022-08-23T13:22:53.008Z"
   },
   {
    "duration": 198,
    "start_time": "2022-08-23T13:22:53.033Z"
   },
   {
    "duration": 4,
    "start_time": "2022-08-23T13:22:53.233Z"
   },
   {
    "duration": 20,
    "start_time": "2022-08-23T13:22:53.239Z"
   },
   {
    "duration": 4,
    "start_time": "2022-08-23T13:22:53.261Z"
   },
   {
    "duration": 212,
    "start_time": "2022-08-23T13:22:53.267Z"
   },
   {
    "duration": 143,
    "start_time": "2022-08-23T13:22:53.481Z"
   },
   {
    "duration": 134,
    "start_time": "2022-08-23T13:22:53.626Z"
   },
   {
    "duration": 153,
    "start_time": "2022-08-23T13:22:53.762Z"
   },
   {
    "duration": 148,
    "start_time": "2022-08-23T13:22:53.916Z"
   },
   {
    "duration": 157,
    "start_time": "2022-08-23T13:22:54.066Z"
   },
   {
    "duration": 141,
    "start_time": "2022-08-23T13:22:54.225Z"
   },
   {
    "duration": 148,
    "start_time": "2022-08-23T13:22:54.367Z"
   },
   {
    "duration": 144,
    "start_time": "2022-08-23T13:22:54.516Z"
   },
   {
    "duration": 141,
    "start_time": "2022-08-23T13:22:54.662Z"
   },
   {
    "duration": 269,
    "start_time": "2022-08-23T13:22:54.805Z"
   },
   {
    "duration": 274,
    "start_time": "2022-08-23T13:22:55.077Z"
   },
   {
    "duration": 141,
    "start_time": "2022-08-23T13:23:04.637Z"
   },
   {
    "duration": 113,
    "start_time": "2022-08-23T13:44:53.152Z"
   },
   {
    "duration": 116,
    "start_time": "2022-08-23T13:45:02.056Z"
   },
   {
    "duration": 125,
    "start_time": "2022-08-23T13:45:05.736Z"
   },
   {
    "duration": 135,
    "start_time": "2022-08-23T13:45:11.113Z"
   },
   {
    "duration": 157,
    "start_time": "2022-08-23T13:45:14.221Z"
   },
   {
    "duration": 166,
    "start_time": "2022-08-23T13:45:26.462Z"
   },
   {
    "duration": 331,
    "start_time": "2022-08-23T13:51:03.299Z"
   },
   {
    "duration": 12,
    "start_time": "2022-08-23T13:52:04.161Z"
   },
   {
    "duration": 77,
    "start_time": "2022-08-23T13:52:10.468Z"
   },
   {
    "duration": 2517,
    "start_time": "2022-08-23T13:52:31.622Z"
   },
   {
    "duration": 603,
    "start_time": "2022-08-23T13:52:43.527Z"
   },
   {
    "duration": 256,
    "start_time": "2022-08-23T13:52:48.921Z"
   },
   {
    "duration": 116,
    "start_time": "2022-08-23T13:53:07.496Z"
   },
   {
    "duration": 280,
    "start_time": "2022-08-23T13:53:11.742Z"
   },
   {
    "duration": 438,
    "start_time": "2022-08-23T13:53:56.996Z"
   },
   {
    "duration": 306,
    "start_time": "2022-08-23T13:56:17.690Z"
   },
   {
    "duration": 18,
    "start_time": "2022-08-23T13:56:55.464Z"
   },
   {
    "duration": 632,
    "start_time": "2022-08-23T13:57:15.803Z"
   },
   {
    "duration": 730,
    "start_time": "2022-08-23T13:57:21.803Z"
   },
   {
    "duration": 600,
    "start_time": "2022-08-23T13:57:24.798Z"
   },
   {
    "duration": 3,
    "start_time": "2022-08-23T13:57:39.238Z"
   },
   {
    "duration": 2040,
    "start_time": "2022-08-23T13:57:39.333Z"
   },
   {
    "duration": 20,
    "start_time": "2022-08-23T13:57:41.375Z"
   },
   {
    "duration": 14,
    "start_time": "2022-08-23T13:57:41.396Z"
   },
   {
    "duration": 6,
    "start_time": "2022-08-23T13:57:41.412Z"
   },
   {
    "duration": 101,
    "start_time": "2022-08-23T13:57:41.420Z"
   },
   {
    "duration": 19,
    "start_time": "2022-08-23T13:57:41.523Z"
   },
   {
    "duration": 8,
    "start_time": "2022-08-23T13:57:41.544Z"
   },
   {
    "duration": 53,
    "start_time": "2022-08-23T13:57:41.554Z"
   },
   {
    "duration": 21,
    "start_time": "2022-08-23T13:57:41.609Z"
   },
   {
    "duration": 9,
    "start_time": "2022-08-23T13:57:41.632Z"
   },
   {
    "duration": 42,
    "start_time": "2022-08-23T13:57:41.643Z"
   },
   {
    "duration": 20,
    "start_time": "2022-08-23T13:57:41.687Z"
   },
   {
    "duration": 183,
    "start_time": "2022-08-23T13:57:41.709Z"
   },
   {
    "duration": 15,
    "start_time": "2022-08-23T13:57:41.897Z"
   },
   {
    "duration": 16,
    "start_time": "2022-08-23T13:57:41.913Z"
   },
   {
    "duration": 5,
    "start_time": "2022-08-23T13:57:41.931Z"
   },
   {
    "duration": 259,
    "start_time": "2022-08-23T13:57:41.937Z"
   },
   {
    "duration": 19,
    "start_time": "2022-08-23T13:57:42.198Z"
   },
   {
    "duration": 5,
    "start_time": "2022-08-23T13:57:42.218Z"
   },
   {
    "duration": 171,
    "start_time": "2022-08-23T13:57:42.224Z"
   },
   {
    "duration": 31,
    "start_time": "2022-08-23T13:57:42.397Z"
   },
   {
    "duration": 202,
    "start_time": "2022-08-23T13:57:42.430Z"
   },
   {
    "duration": 5,
    "start_time": "2022-08-23T13:57:42.633Z"
   },
   {
    "duration": 11,
    "start_time": "2022-08-23T13:57:42.639Z"
   },
   {
    "duration": 5,
    "start_time": "2022-08-23T13:57:42.651Z"
   },
   {
    "duration": 63,
    "start_time": "2022-08-23T13:57:42.658Z"
   },
   {
    "duration": 14,
    "start_time": "2022-08-23T13:57:42.723Z"
   },
   {
    "duration": 30,
    "start_time": "2022-08-23T13:57:42.738Z"
   },
   {
    "duration": 9,
    "start_time": "2022-08-23T13:57:42.770Z"
   },
   {
    "duration": 38,
    "start_time": "2022-08-23T13:57:42.805Z"
   },
   {
    "duration": 7,
    "start_time": "2022-08-23T13:57:42.845Z"
   },
   {
    "duration": 10,
    "start_time": "2022-08-23T13:57:42.853Z"
   },
   {
    "duration": 51,
    "start_time": "2022-08-23T13:57:42.864Z"
   },
   {
    "duration": 1418,
    "start_time": "2022-08-23T13:57:42.916Z"
   },
   {
    "duration": 14,
    "start_time": "2022-08-23T13:57:44.336Z"
   },
   {
    "duration": 11,
    "start_time": "2022-08-23T13:57:44.351Z"
   },
   {
    "duration": 4,
    "start_time": "2022-08-23T13:57:44.363Z"
   },
   {
    "duration": 37,
    "start_time": "2022-08-23T13:57:44.369Z"
   },
   {
    "duration": 17,
    "start_time": "2022-08-23T13:57:44.408Z"
   },
   {
    "duration": 29,
    "start_time": "2022-08-23T13:57:44.427Z"
   },
   {
    "duration": 9,
    "start_time": "2022-08-23T13:57:44.459Z"
   },
   {
    "duration": 651,
    "start_time": "2022-08-23T13:57:44.470Z"
   },
   {
    "duration": 20,
    "start_time": "2022-08-23T13:58:27.842Z"
   },
   {
    "duration": 13,
    "start_time": "2022-08-23T13:58:32.227Z"
   },
   {
    "duration": 15,
    "start_time": "2022-08-23T13:58:45.022Z"
   },
   {
    "duration": 13,
    "start_time": "2022-08-23T13:59:01.291Z"
   },
   {
    "duration": 16,
    "start_time": "2022-08-23T13:59:17.891Z"
   },
   {
    "duration": 15,
    "start_time": "2022-08-23T13:59:22.392Z"
   },
   {
    "duration": 621,
    "start_time": "2022-08-23T13:59:41.516Z"
   },
   {
    "duration": 740,
    "start_time": "2022-08-23T14:00:30.466Z"
   },
   {
    "duration": 346,
    "start_time": "2022-08-23T14:00:49.098Z"
   },
   {
    "duration": 13,
    "start_time": "2022-08-23T14:03:28.952Z"
   },
   {
    "duration": 8,
    "start_time": "2022-08-23T14:03:45.075Z"
   },
   {
    "duration": 16,
    "start_time": "2022-08-23T14:04:07.724Z"
   },
   {
    "duration": 57,
    "start_time": "2022-08-23T14:04:17.321Z"
   },
   {
    "duration": 13,
    "start_time": "2022-08-23T14:04:18.725Z"
   },
   {
    "duration": 178,
    "start_time": "2022-08-23T14:04:27.172Z"
   },
   {
    "duration": 60,
    "start_time": "2022-08-23T14:04:40.936Z"
   },
   {
    "duration": 13,
    "start_time": "2022-08-23T14:04:59.886Z"
   },
   {
    "duration": 109,
    "start_time": "2022-08-23T14:08:39.752Z"
   },
   {
    "duration": 645,
    "start_time": "2022-08-23T14:08:49.883Z"
   },
   {
    "duration": 30,
    "start_time": "2022-08-23T14:08:59.654Z"
   },
   {
    "duration": 76,
    "start_time": "2022-08-23T14:09:24.178Z"
   },
   {
    "duration": 24,
    "start_time": "2022-08-23T14:09:32.291Z"
   },
   {
    "duration": 317,
    "start_time": "2022-08-23T14:09:38.705Z"
   },
   {
    "duration": 31,
    "start_time": "2022-08-23T14:09:52.620Z"
   },
   {
    "duration": 563,
    "start_time": "2022-08-23T14:10:03.194Z"
   },
   {
    "duration": 319,
    "start_time": "2022-08-23T14:10:14.702Z"
   },
   {
    "duration": 366,
    "start_time": "2022-08-23T14:26:58.429Z"
   },
   {
    "duration": 17,
    "start_time": "2022-08-23T14:27:09.246Z"
   },
   {
    "duration": 15,
    "start_time": "2022-08-23T14:28:44.104Z"
   },
   {
    "duration": 394,
    "start_time": "2022-08-23T14:28:55.884Z"
   },
   {
    "duration": 64,
    "start_time": "2022-08-23T17:01:16.361Z"
   },
   {
    "duration": 713,
    "start_time": "2022-08-23T17:01:28.594Z"
   },
   {
    "duration": 2328,
    "start_time": "2022-08-23T17:01:29.309Z"
   },
   {
    "duration": 24,
    "start_time": "2022-08-23T17:01:31.640Z"
   },
   {
    "duration": 6,
    "start_time": "2022-08-23T17:01:31.666Z"
   },
   {
    "duration": 19,
    "start_time": "2022-08-23T17:01:31.674Z"
   },
   {
    "duration": 94,
    "start_time": "2022-08-23T17:01:31.695Z"
   },
   {
    "duration": 18,
    "start_time": "2022-08-23T17:01:31.791Z"
   },
   {
    "duration": 28,
    "start_time": "2022-08-23T17:01:31.811Z"
   },
   {
    "duration": 41,
    "start_time": "2022-08-23T17:01:31.840Z"
   },
   {
    "duration": 32,
    "start_time": "2022-08-23T17:01:31.883Z"
   },
   {
    "duration": 49,
    "start_time": "2022-08-23T17:01:31.916Z"
   },
   {
    "duration": 66,
    "start_time": "2022-08-23T17:01:31.967Z"
   },
   {
    "duration": 7,
    "start_time": "2022-08-23T17:01:32.035Z"
   },
   {
    "duration": 214,
    "start_time": "2022-08-23T17:01:32.045Z"
   },
   {
    "duration": 7,
    "start_time": "2022-08-23T17:01:32.260Z"
   },
   {
    "duration": 13,
    "start_time": "2022-08-23T17:01:32.269Z"
   },
   {
    "duration": 9,
    "start_time": "2022-08-23T17:01:32.284Z"
   },
   {
    "duration": 261,
    "start_time": "2022-08-23T17:01:32.294Z"
   },
   {
    "duration": 11,
    "start_time": "2022-08-23T17:01:32.557Z"
   },
   {
    "duration": 11,
    "start_time": "2022-08-23T17:01:32.570Z"
   },
   {
    "duration": 185,
    "start_time": "2022-08-23T17:01:32.582Z"
   },
   {
    "duration": 24,
    "start_time": "2022-08-23T17:01:32.769Z"
   },
   {
    "duration": 296,
    "start_time": "2022-08-23T17:01:32.795Z"
   },
   {
    "duration": 6,
    "start_time": "2022-08-23T17:01:33.092Z"
   },
   {
    "duration": 19,
    "start_time": "2022-08-23T17:01:33.100Z"
   },
   {
    "duration": 8,
    "start_time": "2022-08-23T17:01:33.121Z"
   },
   {
    "duration": 45,
    "start_time": "2022-08-23T17:01:33.130Z"
   },
   {
    "duration": 11,
    "start_time": "2022-08-23T17:01:33.177Z"
   },
   {
    "duration": 38,
    "start_time": "2022-08-23T17:01:33.189Z"
   },
   {
    "duration": 34,
    "start_time": "2022-08-23T17:01:33.229Z"
   },
   {
    "duration": 44,
    "start_time": "2022-08-23T17:01:33.266Z"
   },
   {
    "duration": 12,
    "start_time": "2022-08-23T17:01:33.312Z"
   },
   {
    "duration": 41,
    "start_time": "2022-08-23T17:01:33.325Z"
   },
   {
    "duration": 19,
    "start_time": "2022-08-23T17:01:33.368Z"
   },
   {
    "duration": 1456,
    "start_time": "2022-08-23T17:01:33.389Z"
   },
   {
    "duration": 16,
    "start_time": "2022-08-23T17:01:34.846Z"
   },
   {
    "duration": 13,
    "start_time": "2022-08-23T17:01:34.864Z"
   },
   {
    "duration": 4,
    "start_time": "2022-08-23T17:01:34.879Z"
   },
   {
    "duration": 8,
    "start_time": "2022-08-23T17:01:34.886Z"
   },
   {
    "duration": 22,
    "start_time": "2022-08-23T17:01:34.896Z"
   },
   {
    "duration": 52,
    "start_time": "2022-08-23T17:01:48.278Z"
   },
   {
    "duration": 8,
    "start_time": "2022-08-23T17:01:55.884Z"
   },
   {
    "duration": 22,
    "start_time": "2022-08-23T17:02:05.724Z"
   },
   {
    "duration": 149,
    "start_time": "2022-08-23T17:02:16.559Z"
   },
   {
    "duration": 44,
    "start_time": "2022-08-24T08:33:23.963Z"
   },
   {
    "duration": 771,
    "start_time": "2022-08-24T08:33:28.582Z"
   },
   {
    "duration": 2201,
    "start_time": "2022-08-24T08:33:29.355Z"
   },
   {
    "duration": 24,
    "start_time": "2022-08-24T08:33:31.557Z"
   },
   {
    "duration": 6,
    "start_time": "2022-08-24T08:33:31.583Z"
   },
   {
    "duration": 29,
    "start_time": "2022-08-24T08:33:31.591Z"
   },
   {
    "duration": 108,
    "start_time": "2022-08-24T08:33:31.622Z"
   },
   {
    "duration": 21,
    "start_time": "2022-08-24T08:33:31.732Z"
   },
   {
    "duration": 21,
    "start_time": "2022-08-24T08:33:31.755Z"
   },
   {
    "duration": 33,
    "start_time": "2022-08-24T08:33:31.777Z"
   },
   {
    "duration": 22,
    "start_time": "2022-08-24T08:33:31.811Z"
   },
   {
    "duration": 9,
    "start_time": "2022-08-24T08:33:31.834Z"
   },
   {
    "duration": 54,
    "start_time": "2022-08-24T08:33:31.845Z"
   },
   {
    "duration": 6,
    "start_time": "2022-08-24T08:33:31.900Z"
   },
   {
    "duration": 195,
    "start_time": "2022-08-24T08:33:31.908Z"
   },
   {
    "duration": 7,
    "start_time": "2022-08-24T08:33:32.105Z"
   },
   {
    "duration": 13,
    "start_time": "2022-08-24T08:33:32.114Z"
   },
   {
    "duration": 7,
    "start_time": "2022-08-24T08:33:32.129Z"
   },
   {
    "duration": 264,
    "start_time": "2022-08-24T08:33:32.138Z"
   },
   {
    "duration": 10,
    "start_time": "2022-08-24T08:33:32.403Z"
   },
   {
    "duration": 7,
    "start_time": "2022-08-24T08:33:32.414Z"
   },
   {
    "duration": 162,
    "start_time": "2022-08-24T08:33:32.423Z"
   },
   {
    "duration": 21,
    "start_time": "2022-08-24T08:33:32.586Z"
   },
   {
    "duration": 193,
    "start_time": "2022-08-24T08:33:32.608Z"
   },
   {
    "duration": 4,
    "start_time": "2022-08-24T08:33:32.803Z"
   },
   {
    "duration": 10,
    "start_time": "2022-08-24T08:33:32.809Z"
   },
   {
    "duration": 3,
    "start_time": "2022-08-24T08:33:32.821Z"
   },
   {
    "duration": 38,
    "start_time": "2022-08-24T08:33:32.826Z"
   },
   {
    "duration": 29,
    "start_time": "2022-08-24T08:33:32.866Z"
   },
   {
    "duration": 122,
    "start_time": "2022-08-24T08:33:32.897Z"
   },
   {
    "duration": 8,
    "start_time": "2022-08-24T08:33:33.021Z"
   },
   {
    "duration": 36,
    "start_time": "2022-08-24T08:33:33.031Z"
   },
   {
    "duration": 22,
    "start_time": "2022-08-24T08:33:33.068Z"
   },
   {
    "duration": 12,
    "start_time": "2022-08-24T08:33:33.092Z"
   },
   {
    "duration": 12,
    "start_time": "2022-08-24T08:33:33.106Z"
   },
   {
    "duration": 1470,
    "start_time": "2022-08-24T08:33:33.120Z"
   },
   {
    "duration": 12,
    "start_time": "2022-08-24T08:33:34.592Z"
   },
   {
    "duration": 10,
    "start_time": "2022-08-24T08:33:34.605Z"
   },
   {
    "duration": 7,
    "start_time": "2022-08-24T08:33:34.617Z"
   },
   {
    "duration": 9,
    "start_time": "2022-08-24T08:33:34.626Z"
   },
   {
    "duration": 17,
    "start_time": "2022-08-24T08:33:34.636Z"
   },
   {
    "duration": 5,
    "start_time": "2022-08-24T08:33:34.656Z"
   },
   {
    "duration": 27,
    "start_time": "2022-08-24T08:33:34.662Z"
   },
   {
    "duration": 19,
    "start_time": "2022-08-24T08:33:34.690Z"
   },
   {
    "duration": 20,
    "start_time": "2022-08-24T08:33:34.710Z"
   },
   {
    "duration": 190,
    "start_time": "2022-08-24T08:33:34.732Z"
   },
   {
    "duration": 4,
    "start_time": "2022-08-24T08:33:34.924Z"
   },
   {
    "duration": 9,
    "start_time": "2022-08-24T08:33:34.930Z"
   },
   {
    "duration": 155,
    "start_time": "2022-08-24T08:33:34.941Z"
   },
   {
    "duration": 141,
    "start_time": "2022-08-24T08:33:35.097Z"
   },
   {
    "duration": 147,
    "start_time": "2022-08-24T08:33:35.240Z"
   },
   {
    "duration": 146,
    "start_time": "2022-08-24T08:33:35.388Z"
   },
   {
    "duration": 133,
    "start_time": "2022-08-24T08:33:35.535Z"
   },
   {
    "duration": 163,
    "start_time": "2022-08-24T08:33:35.670Z"
   },
   {
    "duration": 130,
    "start_time": "2022-08-24T08:33:35.834Z"
   },
   {
    "duration": 134,
    "start_time": "2022-08-24T08:33:35.966Z"
   },
   {
    "duration": 132,
    "start_time": "2022-08-24T08:33:36.101Z"
   },
   {
    "duration": 135,
    "start_time": "2022-08-24T08:33:36.234Z"
   },
   {
    "duration": 179,
    "start_time": "2022-08-24T08:33:36.371Z"
   },
   {
    "duration": 337,
    "start_time": "2022-08-24T08:33:36.552Z"
   },
   {
    "duration": 136,
    "start_time": "2022-08-24T08:33:36.890Z"
   },
   {
    "duration": 35,
    "start_time": "2022-08-24T08:33:45.906Z"
   },
   {
    "duration": 7,
    "start_time": "2022-08-24T08:33:48.442Z"
   },
   {
    "duration": 3,
    "start_time": "2022-08-24T08:33:52.469Z"
   },
   {
    "duration": 440,
    "start_time": "2022-08-24T08:37:12.213Z"
   },
   {
    "duration": 11,
    "start_time": "2022-08-24T08:39:51.129Z"
   },
   {
    "duration": 11,
    "start_time": "2022-08-24T08:40:00.646Z"
   },
   {
    "duration": 10,
    "start_time": "2022-08-24T08:40:11.115Z"
   },
   {
    "duration": 13,
    "start_time": "2022-08-24T08:47:11.006Z"
   },
   {
    "duration": 13,
    "start_time": "2022-08-24T08:47:18.985Z"
   },
   {
    "duration": 16,
    "start_time": "2022-08-24T08:47:27.976Z"
   },
   {
    "duration": 53,
    "start_time": "2022-08-24T08:49:03.715Z"
   },
   {
    "duration": 47,
    "start_time": "2022-08-24T08:50:01.816Z"
   },
   {
    "duration": 52,
    "start_time": "2022-08-24T08:50:30.556Z"
   },
   {
    "duration": 8,
    "start_time": "2022-08-24T08:50:36.542Z"
   },
   {
    "duration": 7,
    "start_time": "2022-08-24T08:50:46.016Z"
   },
   {
    "duration": 5,
    "start_time": "2022-08-24T08:52:16.619Z"
   },
   {
    "duration": 9,
    "start_time": "2022-08-24T08:52:27.965Z"
   },
   {
    "duration": 13,
    "start_time": "2022-08-24T08:52:36.020Z"
   },
   {
    "duration": 24,
    "start_time": "2022-08-24T08:52:56.045Z"
   },
   {
    "duration": 13,
    "start_time": "2022-08-24T08:55:00.963Z"
   },
   {
    "duration": 14,
    "start_time": "2022-08-24T08:55:14.140Z"
   },
   {
    "duration": 13,
    "start_time": "2022-08-24T08:55:41.314Z"
   },
   {
    "duration": 147,
    "start_time": "2022-08-24T08:57:06.247Z"
   },
   {
    "duration": 12,
    "start_time": "2022-08-24T08:58:07.730Z"
   },
   {
    "duration": 131,
    "start_time": "2022-08-24T08:58:17.527Z"
   },
   {
    "duration": 15,
    "start_time": "2022-08-24T09:00:16.106Z"
   },
   {
    "duration": 1240,
    "start_time": "2022-08-24T09:00:26.082Z"
   },
   {
    "duration": 18,
    "start_time": "2022-08-24T09:00:34.049Z"
   },
   {
    "duration": 9,
    "start_time": "2022-08-24T09:00:42.768Z"
   },
   {
    "duration": 1288,
    "start_time": "2022-08-24T09:00:46.304Z"
   },
   {
    "duration": 12,
    "start_time": "2022-08-24T09:01:35.627Z"
   },
   {
    "duration": 16,
    "start_time": "2022-08-24T09:02:54.682Z"
   },
   {
    "duration": 14,
    "start_time": "2022-08-24T09:05:13.985Z"
   },
   {
    "duration": 11,
    "start_time": "2022-08-24T09:05:26.561Z"
   },
   {
    "duration": 840,
    "start_time": "2022-08-24T09:05:54.327Z"
   },
   {
    "duration": 12,
    "start_time": "2022-08-24T09:06:05.283Z"
   },
   {
    "duration": 12,
    "start_time": "2022-08-24T09:09:07.017Z"
   },
   {
    "duration": 135,
    "start_time": "2022-08-24T09:09:10.796Z"
   },
   {
    "duration": 128,
    "start_time": "2022-08-24T09:09:27.202Z"
   },
   {
    "duration": 305,
    "start_time": "2022-08-24T09:09:40.072Z"
   },
   {
    "duration": 303,
    "start_time": "2022-08-24T09:09:45.840Z"
   },
   {
    "duration": 280,
    "start_time": "2022-08-24T09:22:48.525Z"
   },
   {
    "duration": 250,
    "start_time": "2022-08-24T09:22:52.518Z"
   },
   {
    "duration": 209,
    "start_time": "2022-08-24T09:23:01.781Z"
   },
   {
    "duration": 296,
    "start_time": "2022-08-24T09:24:57.740Z"
   },
   {
    "duration": 254,
    "start_time": "2022-08-24T09:28:25.893Z"
   },
   {
    "duration": 289,
    "start_time": "2022-08-24T09:28:50.078Z"
   },
   {
    "duration": 236,
    "start_time": "2022-08-24T09:29:02.478Z"
   },
   {
    "duration": 236,
    "start_time": "2022-08-24T09:29:07.537Z"
   },
   {
    "duration": 216,
    "start_time": "2022-08-24T09:29:10.868Z"
   },
   {
    "duration": 221,
    "start_time": "2022-08-24T09:29:15.074Z"
   },
   {
    "duration": 213,
    "start_time": "2022-08-24T09:29:19.617Z"
   },
   {
    "duration": 220,
    "start_time": "2022-08-24T09:29:23.846Z"
   },
   {
    "duration": 226,
    "start_time": "2022-08-24T09:29:28.124Z"
   },
   {
    "duration": 350,
    "start_time": "2022-08-24T09:29:50.532Z"
   },
   {
    "duration": 262,
    "start_time": "2022-08-24T09:29:55.834Z"
   },
   {
    "duration": 331,
    "start_time": "2022-08-24T09:30:00.081Z"
   },
   {
    "duration": 329,
    "start_time": "2022-08-24T09:30:04.604Z"
   },
   {
    "duration": 299,
    "start_time": "2022-08-24T09:30:08.543Z"
   },
   {
    "duration": 304,
    "start_time": "2022-08-24T09:30:12.142Z"
   },
   {
    "duration": 341,
    "start_time": "2022-08-24T09:30:14.863Z"
   },
   {
    "duration": 338,
    "start_time": "2022-08-24T09:30:18.677Z"
   },
   {
    "duration": 464,
    "start_time": "2022-08-24T09:30:38.781Z"
   },
   {
    "duration": 347,
    "start_time": "2022-08-24T09:32:27.525Z"
   },
   {
    "duration": 370,
    "start_time": "2022-08-24T09:32:59.219Z"
   },
   {
    "duration": 385,
    "start_time": "2022-08-24T09:33:09.803Z"
   },
   {
    "duration": 384,
    "start_time": "2022-08-24T09:33:20.596Z"
   },
   {
    "duration": 12,
    "start_time": "2022-08-24T09:35:34.204Z"
   },
   {
    "duration": 260,
    "start_time": "2022-08-24T09:35:48.367Z"
   },
   {
    "duration": 255,
    "start_time": "2022-08-24T09:36:05.321Z"
   },
   {
    "duration": 3,
    "start_time": "2022-08-24T10:00:53.029Z"
   },
   {
    "duration": 14,
    "start_time": "2022-08-24T10:05:21.918Z"
   },
   {
    "duration": 10,
    "start_time": "2022-08-24T10:05:29.547Z"
   },
   {
    "duration": 14,
    "start_time": "2022-08-24T10:05:35.566Z"
   },
   {
    "duration": 17,
    "start_time": "2022-08-24T10:05:57.215Z"
   },
   {
    "duration": 17,
    "start_time": "2022-08-24T10:06:00.202Z"
   },
   {
    "duration": 15,
    "start_time": "2022-08-24T10:06:07.254Z"
   },
   {
    "duration": 15,
    "start_time": "2022-08-24T10:07:17.292Z"
   },
   {
    "duration": 20,
    "start_time": "2022-08-24T10:08:54.669Z"
   },
   {
    "duration": 17,
    "start_time": "2022-08-24T10:10:25.510Z"
   },
   {
    "duration": 18,
    "start_time": "2022-08-24T10:10:33.975Z"
   },
   {
    "duration": 21,
    "start_time": "2022-08-24T10:10:50.104Z"
   },
   {
    "duration": 18,
    "start_time": "2022-08-24T10:11:53.191Z"
   },
   {
    "duration": 16,
    "start_time": "2022-08-24T10:12:01.472Z"
   },
   {
    "duration": 13,
    "start_time": "2022-08-24T10:12:15.124Z"
   },
   {
    "duration": 18,
    "start_time": "2022-08-24T10:12:52.579Z"
   },
   {
    "duration": 18,
    "start_time": "2022-08-24T10:13:13.608Z"
   },
   {
    "duration": 14,
    "start_time": "2022-08-24T10:13:20.449Z"
   },
   {
    "duration": 15,
    "start_time": "2022-08-24T10:14:19.844Z"
   },
   {
    "duration": 15,
    "start_time": "2022-08-24T10:15:23.119Z"
   },
   {
    "duration": 17,
    "start_time": "2022-08-24T10:15:27.152Z"
   },
   {
    "duration": 15,
    "start_time": "2022-08-24T10:15:30.011Z"
   },
   {
    "duration": 14,
    "start_time": "2022-08-24T10:15:41.895Z"
   },
   {
    "duration": 3,
    "start_time": "2022-08-24T10:17:56.048Z"
   },
   {
    "duration": 15,
    "start_time": "2022-08-24T10:20:06.433Z"
   },
   {
    "duration": 15,
    "start_time": "2022-08-24T10:20:39.351Z"
   },
   {
    "duration": 14,
    "start_time": "2022-08-24T10:20:53.319Z"
   },
   {
    "duration": 15,
    "start_time": "2022-08-24T10:21:07.769Z"
   },
   {
    "duration": 14,
    "start_time": "2022-08-24T10:21:12.748Z"
   },
   {
    "duration": 11,
    "start_time": "2022-08-24T10:22:09.426Z"
   },
   {
    "duration": 11,
    "start_time": "2022-08-24T10:22:14.650Z"
   },
   {
    "duration": 12,
    "start_time": "2022-08-24T10:22:25.736Z"
   },
   {
    "duration": 8,
    "start_time": "2022-08-24T10:22:30.571Z"
   },
   {
    "duration": 12,
    "start_time": "2022-08-24T10:22:38.044Z"
   },
   {
    "duration": 15,
    "start_time": "2022-08-24T10:22:52.196Z"
   },
   {
    "duration": 295,
    "start_time": "2022-08-24T10:23:06.096Z"
   },
   {
    "duration": 11,
    "start_time": "2022-08-24T10:23:19.016Z"
   },
   {
    "duration": 9,
    "start_time": "2022-08-24T10:23:25.025Z"
   },
   {
    "duration": 9,
    "start_time": "2022-08-24T10:23:55.002Z"
   },
   {
    "duration": 9,
    "start_time": "2022-08-24T10:24:06.375Z"
   },
   {
    "duration": 11,
    "start_time": "2022-08-24T10:24:11.568Z"
   },
   {
    "duration": 10,
    "start_time": "2022-08-24T10:24:13.842Z"
   },
   {
    "duration": 414,
    "start_time": "2022-08-24T10:25:05.416Z"
   },
   {
    "duration": 10,
    "start_time": "2022-08-24T10:25:09.232Z"
   },
   {
    "duration": 3,
    "start_time": "2022-08-24T10:27:54.032Z"
   },
   {
    "duration": 368,
    "start_time": "2022-08-24T10:29:07.441Z"
   },
   {
    "duration": 27,
    "start_time": "2022-08-24T10:29:17.563Z"
   },
   {
    "duration": 25,
    "start_time": "2022-08-24T10:30:23.420Z"
   },
   {
    "duration": 8,
    "start_time": "2022-08-24T10:31:01.930Z"
   },
   {
    "duration": 22,
    "start_time": "2022-08-24T10:31:09.524Z"
   },
   {
    "duration": 4,
    "start_time": "2022-08-24T10:31:34.666Z"
   },
   {
    "duration": 8,
    "start_time": "2022-08-24T10:31:37.006Z"
   },
   {
    "duration": 18,
    "start_time": "2022-08-24T10:32:01.170Z"
   },
   {
    "duration": 438,
    "start_time": "2022-08-24T10:32:19.431Z"
   },
   {
    "duration": 562,
    "start_time": "2022-08-24T10:32:34.839Z"
   },
   {
    "duration": 11,
    "start_time": "2022-08-24T10:33:26.119Z"
   },
   {
    "duration": 8,
    "start_time": "2022-08-24T10:33:30.928Z"
   },
   {
    "duration": 928,
    "start_time": "2022-08-24T10:33:44.731Z"
   },
   {
    "duration": 7,
    "start_time": "2022-08-24T10:33:59.634Z"
   },
   {
    "duration": 426,
    "start_time": "2022-08-24T10:34:01.142Z"
   },
   {
    "duration": 11,
    "start_time": "2022-08-24T10:34:07.744Z"
   },
   {
    "duration": 27,
    "start_time": "2022-08-24T10:34:16.770Z"
   },
   {
    "duration": 8,
    "start_time": "2022-08-24T10:34:33.589Z"
   },
   {
    "duration": 7,
    "start_time": "2022-08-24T10:34:44.218Z"
   },
   {
    "duration": 14,
    "start_time": "2022-08-24T10:36:39.569Z"
   },
   {
    "duration": 12,
    "start_time": "2022-08-24T10:37:22.406Z"
   },
   {
    "duration": 43,
    "start_time": "2022-08-24T10:37:42.501Z"
   },
   {
    "duration": 31,
    "start_time": "2022-08-24T10:38:07.154Z"
   },
   {
    "duration": 2,
    "start_time": "2022-08-24T10:41:57.031Z"
   },
   {
    "duration": 2028,
    "start_time": "2022-08-24T10:41:57.036Z"
   },
   {
    "duration": 24,
    "start_time": "2022-08-24T10:41:59.066Z"
   },
   {
    "duration": 6,
    "start_time": "2022-08-24T10:41:59.091Z"
   },
   {
    "duration": 11,
    "start_time": "2022-08-24T10:41:59.098Z"
   },
   {
    "duration": 99,
    "start_time": "2022-08-24T10:41:59.111Z"
   },
   {
    "duration": 18,
    "start_time": "2022-08-24T10:41:59.211Z"
   },
   {
    "duration": 4,
    "start_time": "2022-08-24T10:41:59.231Z"
   },
   {
    "duration": 28,
    "start_time": "2022-08-24T10:41:59.237Z"
   },
   {
    "duration": 37,
    "start_time": "2022-08-24T10:41:59.266Z"
   },
   {
    "duration": 8,
    "start_time": "2022-08-24T10:41:59.305Z"
   },
   {
    "duration": 29,
    "start_time": "2022-08-24T10:41:59.314Z"
   },
   {
    "duration": 5,
    "start_time": "2022-08-24T10:41:59.344Z"
   },
   {
    "duration": 193,
    "start_time": "2022-08-24T10:41:59.350Z"
   },
   {
    "duration": 7,
    "start_time": "2022-08-24T10:41:59.544Z"
   },
   {
    "duration": 14,
    "start_time": "2022-08-24T10:41:59.552Z"
   },
   {
    "duration": 19,
    "start_time": "2022-08-24T10:41:59.567Z"
   },
   {
    "duration": 230,
    "start_time": "2022-08-24T10:41:59.587Z"
   },
   {
    "duration": 10,
    "start_time": "2022-08-24T10:41:59.818Z"
   },
   {
    "duration": 5,
    "start_time": "2022-08-24T10:41:59.829Z"
   },
   {
    "duration": 171,
    "start_time": "2022-08-24T10:41:59.835Z"
   },
   {
    "duration": 22,
    "start_time": "2022-08-24T10:42:00.007Z"
   },
   {
    "duration": 203,
    "start_time": "2022-08-24T10:42:00.030Z"
   },
   {
    "duration": 5,
    "start_time": "2022-08-24T10:42:00.235Z"
   },
   {
    "duration": 21,
    "start_time": "2022-08-24T10:42:00.241Z"
   },
   {
    "duration": 11,
    "start_time": "2022-08-24T10:42:00.264Z"
   },
   {
    "duration": 39,
    "start_time": "2022-08-24T10:42:00.277Z"
   },
   {
    "duration": 16,
    "start_time": "2022-08-24T10:42:00.318Z"
   },
   {
    "duration": 41,
    "start_time": "2022-08-24T10:42:00.338Z"
   },
   {
    "duration": 10,
    "start_time": "2022-08-24T10:42:00.381Z"
   },
   {
    "duration": 41,
    "start_time": "2022-08-24T10:42:00.392Z"
   },
   {
    "duration": 6,
    "start_time": "2022-08-24T10:42:00.435Z"
   },
   {
    "duration": 13,
    "start_time": "2022-08-24T10:42:00.442Z"
   },
   {
    "duration": 23,
    "start_time": "2022-08-24T10:42:00.456Z"
   },
   {
    "duration": 1444,
    "start_time": "2022-08-24T10:42:00.484Z"
   },
   {
    "duration": 12,
    "start_time": "2022-08-24T10:42:01.930Z"
   },
   {
    "duration": 30,
    "start_time": "2022-08-24T10:42:01.944Z"
   },
   {
    "duration": 4,
    "start_time": "2022-08-24T10:42:01.975Z"
   },
   {
    "duration": 22,
    "start_time": "2022-08-24T10:42:01.981Z"
   },
   {
    "duration": 24,
    "start_time": "2022-08-24T10:42:02.004Z"
   },
   {
    "duration": 6,
    "start_time": "2022-08-24T10:42:02.029Z"
   },
   {
    "duration": 10,
    "start_time": "2022-08-24T10:42:02.036Z"
   },
   {
    "duration": 35,
    "start_time": "2022-08-24T10:42:02.048Z"
   },
   {
    "duration": 21,
    "start_time": "2022-08-24T10:42:02.084Z"
   },
   {
    "duration": 190,
    "start_time": "2022-08-24T10:42:02.107Z"
   },
   {
    "duration": 3,
    "start_time": "2022-08-24T10:42:02.299Z"
   },
   {
    "duration": 27,
    "start_time": "2022-08-24T10:42:02.303Z"
   },
   {
    "duration": 149,
    "start_time": "2022-08-24T10:42:02.332Z"
   },
   {
    "duration": 139,
    "start_time": "2022-08-24T10:42:02.485Z"
   },
   {
    "duration": 161,
    "start_time": "2022-08-24T10:42:02.626Z"
   },
   {
    "duration": 352,
    "start_time": "2022-08-24T10:42:02.789Z"
   },
   {
    "duration": 133,
    "start_time": "2022-08-24T10:42:03.142Z"
   },
   {
    "duration": 137,
    "start_time": "2022-08-24T10:42:03.277Z"
   },
   {
    "duration": 125,
    "start_time": "2022-08-24T10:42:03.415Z"
   },
   {
    "duration": 145,
    "start_time": "2022-08-24T10:42:03.541Z"
   },
   {
    "duration": 120,
    "start_time": "2022-08-24T10:42:03.687Z"
   },
   {
    "duration": 120,
    "start_time": "2022-08-24T10:42:03.809Z"
   },
   {
    "duration": 149,
    "start_time": "2022-08-24T10:42:03.930Z"
   },
   {
    "duration": 177,
    "start_time": "2022-08-24T10:42:04.080Z"
   },
   {
    "duration": 145,
    "start_time": "2022-08-24T10:42:04.259Z"
   },
   {
    "duration": 13,
    "start_time": "2022-08-24T10:42:04.405Z"
   },
   {
    "duration": 66,
    "start_time": "2022-08-24T10:42:04.420Z"
   },
   {
    "duration": 375,
    "start_time": "2022-08-24T10:42:04.488Z"
   },
   {
    "duration": 365,
    "start_time": "2022-08-24T10:42:04.865Z"
   },
   {
    "duration": 253,
    "start_time": "2022-08-24T10:42:05.232Z"
   },
   {
    "duration": 9,
    "start_time": "2022-08-24T10:42:05.486Z"
   },
   {
    "duration": 36,
    "start_time": "2022-08-24T10:42:05.496Z"
   },
   {
    "duration": 3,
    "start_time": "2022-08-24T10:42:05.534Z"
   },
   {
    "duration": 15,
    "start_time": "2022-08-24T10:46:00.135Z"
   },
   {
    "duration": 16,
    "start_time": "2022-08-24T10:46:51.296Z"
   },
   {
    "duration": 17,
    "start_time": "2022-08-24T10:46:59.221Z"
   },
   {
    "duration": 20,
    "start_time": "2022-08-24T10:53:16.407Z"
   },
   {
    "duration": 20,
    "start_time": "2022-08-24T10:54:10.718Z"
   },
   {
    "duration": 19,
    "start_time": "2022-08-24T10:54:37.116Z"
   },
   {
    "duration": 16,
    "start_time": "2022-08-24T10:55:12.409Z"
   },
   {
    "duration": 17,
    "start_time": "2022-08-24T10:55:27.055Z"
   },
   {
    "duration": 18,
    "start_time": "2022-08-24T10:55:47.607Z"
   },
   {
    "duration": 21,
    "start_time": "2022-08-24T11:06:14.163Z"
   },
   {
    "duration": 18,
    "start_time": "2022-08-24T11:06:36.355Z"
   },
   {
    "duration": 19,
    "start_time": "2022-08-24T11:06:48.723Z"
   },
   {
    "duration": 100,
    "start_time": "2022-08-24T11:06:58.652Z"
   },
   {
    "duration": 20,
    "start_time": "2022-08-24T11:07:02.109Z"
   },
   {
    "duration": 4,
    "start_time": "2022-08-24T11:10:52.576Z"
   },
   {
    "duration": 9,
    "start_time": "2022-08-24T11:18:04.669Z"
   },
   {
    "duration": 8,
    "start_time": "2022-08-24T11:18:15.843Z"
   },
   {
    "duration": 3,
    "start_time": "2022-08-24T11:18:51.031Z"
   },
   {
    "duration": 10,
    "start_time": "2022-08-24T11:18:55.252Z"
   },
   {
    "duration": 625,
    "start_time": "2022-08-24T11:19:09.248Z"
   },
   {
    "duration": 10,
    "start_time": "2022-08-24T11:19:18.187Z"
   },
   {
    "duration": 10,
    "start_time": "2022-08-24T11:19:26.129Z"
   },
   {
    "duration": 8,
    "start_time": "2022-08-24T11:20:38.908Z"
   },
   {
    "duration": 7,
    "start_time": "2022-08-24T11:20:44.840Z"
   },
   {
    "duration": 10,
    "start_time": "2022-08-24T11:21:02.863Z"
   },
   {
    "duration": 65,
    "start_time": "2022-08-24T11:22:18.985Z"
   },
   {
    "duration": 18,
    "start_time": "2022-08-24T11:24:34.346Z"
   },
   {
    "duration": 75,
    "start_time": "2022-08-24T11:24:43.764Z"
   },
   {
    "duration": 14,
    "start_time": "2022-08-24T11:25:01.940Z"
   },
   {
    "duration": 10,
    "start_time": "2022-08-24T11:28:02.456Z"
   },
   {
    "duration": 10,
    "start_time": "2022-08-24T11:28:04.821Z"
   },
   {
    "duration": 12,
    "start_time": "2022-08-24T11:28:09.237Z"
   },
   {
    "duration": 28,
    "start_time": "2022-08-24T11:28:32.081Z"
   },
   {
    "duration": 9,
    "start_time": "2022-08-24T11:28:56.413Z"
   },
   {
    "duration": 58,
    "start_time": "2022-08-24T11:29:08.348Z"
   },
   {
    "duration": 64,
    "start_time": "2022-08-24T11:29:11.612Z"
   },
   {
    "duration": 9,
    "start_time": "2022-08-24T11:29:13.901Z"
   },
   {
    "duration": 11,
    "start_time": "2022-08-24T11:29:39.719Z"
   },
   {
    "duration": 9,
    "start_time": "2022-08-24T11:29:43.287Z"
   },
   {
    "duration": 5,
    "start_time": "2022-08-24T11:29:48.941Z"
   },
   {
    "duration": 9,
    "start_time": "2022-08-24T11:29:51.465Z"
   },
   {
    "duration": 10,
    "start_time": "2022-08-24T11:30:04.876Z"
   },
   {
    "duration": 15,
    "start_time": "2022-08-24T11:30:30.392Z"
   },
   {
    "duration": 10,
    "start_time": "2022-08-24T11:30:45.408Z"
   },
   {
    "duration": 255,
    "start_time": "2022-08-24T11:31:35.292Z"
   },
   {
    "duration": 24,
    "start_time": "2022-08-24T11:31:43.321Z"
   },
   {
    "duration": 330,
    "start_time": "2022-08-24T11:31:48.610Z"
   },
   {
    "duration": 12,
    "start_time": "2022-08-24T11:31:52.230Z"
   },
   {
    "duration": 9,
    "start_time": "2022-08-24T11:32:33.832Z"
   },
   {
    "duration": 11,
    "start_time": "2022-08-24T11:32:53.889Z"
   },
   {
    "duration": 51,
    "start_time": "2022-08-24T11:33:02.671Z"
   },
   {
    "duration": 54,
    "start_time": "2022-08-24T11:33:12.107Z"
   },
   {
    "duration": 9,
    "start_time": "2022-08-24T11:33:19.331Z"
   },
   {
    "duration": 9,
    "start_time": "2022-08-24T11:33:24.027Z"
   },
   {
    "duration": 10,
    "start_time": "2022-08-24T11:33:27.317Z"
   },
   {
    "duration": 10,
    "start_time": "2022-08-24T11:33:54.681Z"
   },
   {
    "duration": 601,
    "start_time": "2022-08-24T11:36:07.756Z"
   },
   {
    "duration": 10,
    "start_time": "2022-08-24T11:36:13.110Z"
   },
   {
    "duration": 10,
    "start_time": "2022-08-24T11:36:20.262Z"
   },
   {
    "duration": 6,
    "start_time": "2022-08-24T11:36:30.264Z"
   },
   {
    "duration": 10,
    "start_time": "2022-08-24T11:40:18.326Z"
   },
   {
    "duration": 189,
    "start_time": "2022-08-24T11:42:35.986Z"
   },
   {
    "duration": 174,
    "start_time": "2022-08-24T11:42:49.344Z"
   },
   {
    "duration": 402,
    "start_time": "2022-08-24T11:42:53.153Z"
   },
   {
    "duration": 2185,
    "start_time": "2022-08-24T11:43:25.688Z"
   },
   {
    "duration": 17,
    "start_time": "2022-08-24T11:43:42.441Z"
   },
   {
    "duration": 17,
    "start_time": "2022-08-24T11:43:47.424Z"
   },
   {
    "duration": 3,
    "start_time": "2022-08-24T11:43:50.638Z"
   },
   {
    "duration": 1886,
    "start_time": "2022-08-24T11:43:50.643Z"
   },
   {
    "duration": 19,
    "start_time": "2022-08-24T11:43:52.531Z"
   },
   {
    "duration": 6,
    "start_time": "2022-08-24T11:43:52.552Z"
   },
   {
    "duration": 31,
    "start_time": "2022-08-24T11:43:52.560Z"
   },
   {
    "duration": 99,
    "start_time": "2022-08-24T11:43:52.593Z"
   },
   {
    "duration": 19,
    "start_time": "2022-08-24T11:43:52.695Z"
   },
   {
    "duration": 14,
    "start_time": "2022-08-24T11:43:52.716Z"
   },
   {
    "duration": 58,
    "start_time": "2022-08-24T11:43:52.731Z"
   },
   {
    "duration": 23,
    "start_time": "2022-08-24T11:43:52.791Z"
   },
   {
    "duration": 13,
    "start_time": "2022-08-24T11:43:52.815Z"
   },
   {
    "duration": 55,
    "start_time": "2022-08-24T11:43:52.830Z"
   },
   {
    "duration": 5,
    "start_time": "2022-08-24T11:43:52.887Z"
   },
   {
    "duration": 191,
    "start_time": "2022-08-24T11:43:52.895Z"
   },
   {
    "duration": 6,
    "start_time": "2022-08-24T11:43:53.087Z"
   },
   {
    "duration": 24,
    "start_time": "2022-08-24T11:43:53.094Z"
   },
   {
    "duration": 15,
    "start_time": "2022-08-24T11:43:53.120Z"
   },
   {
    "duration": 252,
    "start_time": "2022-08-24T11:43:53.136Z"
   },
   {
    "duration": 10,
    "start_time": "2022-08-24T11:43:53.390Z"
   },
   {
    "duration": 10,
    "start_time": "2022-08-24T11:43:53.401Z"
   },
   {
    "duration": 170,
    "start_time": "2022-08-24T11:43:53.412Z"
   },
   {
    "duration": 20,
    "start_time": "2022-08-24T11:43:53.583Z"
   },
   {
    "duration": 184,
    "start_time": "2022-08-24T11:43:53.604Z"
   },
   {
    "duration": 5,
    "start_time": "2022-08-24T11:43:53.789Z"
   },
   {
    "duration": 9,
    "start_time": "2022-08-24T11:43:53.795Z"
   },
   {
    "duration": 3,
    "start_time": "2022-08-24T11:43:53.806Z"
   },
   {
    "duration": 24,
    "start_time": "2022-08-24T11:43:53.811Z"
   },
   {
    "duration": 7,
    "start_time": "2022-08-24T11:43:53.837Z"
   },
   {
    "duration": 52,
    "start_time": "2022-08-24T11:43:53.846Z"
   },
   {
    "duration": 9,
    "start_time": "2022-08-24T11:43:53.899Z"
   },
   {
    "duration": 32,
    "start_time": "2022-08-24T11:43:53.910Z"
   },
   {
    "duration": 6,
    "start_time": "2022-08-24T11:43:53.943Z"
   },
   {
    "duration": 8,
    "start_time": "2022-08-24T11:43:53.951Z"
   },
   {
    "duration": 12,
    "start_time": "2022-08-24T11:43:53.985Z"
   },
   {
    "duration": 1506,
    "start_time": "2022-08-24T11:43:53.999Z"
   },
   {
    "duration": 11,
    "start_time": "2022-08-24T11:43:55.507Z"
   },
   {
    "duration": 10,
    "start_time": "2022-08-24T11:43:55.519Z"
   },
   {
    "duration": 4,
    "start_time": "2022-08-24T11:43:55.530Z"
   },
   {
    "duration": 8,
    "start_time": "2022-08-24T11:43:55.535Z"
   },
   {
    "duration": 43,
    "start_time": "2022-08-24T11:43:55.544Z"
   },
   {
    "duration": 6,
    "start_time": "2022-08-24T11:43:55.590Z"
   },
   {
    "duration": 8,
    "start_time": "2022-08-24T11:43:55.597Z"
   },
   {
    "duration": 20,
    "start_time": "2022-08-24T11:43:55.606Z"
   },
   {
    "duration": 23,
    "start_time": "2022-08-24T11:43:55.627Z"
   },
   {
    "duration": 1,
    "start_time": "2022-08-24T11:43:55.651Z"
   },
   {
    "duration": 0,
    "start_time": "2022-08-24T11:43:55.653Z"
   },
   {
    "duration": 0,
    "start_time": "2022-08-24T11:43:55.654Z"
   },
   {
    "duration": 0,
    "start_time": "2022-08-24T11:43:55.685Z"
   },
   {
    "duration": 0,
    "start_time": "2022-08-24T11:43:55.686Z"
   },
   {
    "duration": 0,
    "start_time": "2022-08-24T11:43:55.687Z"
   },
   {
    "duration": 0,
    "start_time": "2022-08-24T11:43:55.688Z"
   },
   {
    "duration": 0,
    "start_time": "2022-08-24T11:43:55.689Z"
   },
   {
    "duration": 0,
    "start_time": "2022-08-24T11:43:55.690Z"
   },
   {
    "duration": 0,
    "start_time": "2022-08-24T11:43:55.691Z"
   },
   {
    "duration": 0,
    "start_time": "2022-08-24T11:43:55.692Z"
   },
   {
    "duration": 0,
    "start_time": "2022-08-24T11:43:55.693Z"
   },
   {
    "duration": 0,
    "start_time": "2022-08-24T11:43:55.694Z"
   },
   {
    "duration": 0,
    "start_time": "2022-08-24T11:43:55.695Z"
   },
   {
    "duration": 0,
    "start_time": "2022-08-24T11:43:55.696Z"
   },
   {
    "duration": 0,
    "start_time": "2022-08-24T11:43:55.697Z"
   },
   {
    "duration": 0,
    "start_time": "2022-08-24T11:43:55.698Z"
   },
   {
    "duration": 0,
    "start_time": "2022-08-24T11:43:55.699Z"
   },
   {
    "duration": 0,
    "start_time": "2022-08-24T11:43:55.699Z"
   },
   {
    "duration": 0,
    "start_time": "2022-08-24T11:43:55.700Z"
   },
   {
    "duration": 0,
    "start_time": "2022-08-24T11:43:55.701Z"
   },
   {
    "duration": 0,
    "start_time": "2022-08-24T11:43:55.702Z"
   },
   {
    "duration": 0,
    "start_time": "2022-08-24T11:43:55.703Z"
   },
   {
    "duration": 3,
    "start_time": "2022-08-24T11:44:15.164Z"
   },
   {
    "duration": 2106,
    "start_time": "2022-08-24T11:44:15.168Z"
   },
   {
    "duration": 25,
    "start_time": "2022-08-24T11:44:17.276Z"
   },
   {
    "duration": 6,
    "start_time": "2022-08-24T11:44:17.304Z"
   },
   {
    "duration": 8,
    "start_time": "2022-08-24T11:44:17.312Z"
   },
   {
    "duration": 104,
    "start_time": "2022-08-24T11:44:17.322Z"
   },
   {
    "duration": 19,
    "start_time": "2022-08-24T11:44:17.428Z"
   },
   {
    "duration": 10,
    "start_time": "2022-08-24T11:44:17.449Z"
   },
   {
    "duration": 44,
    "start_time": "2022-08-24T11:44:17.461Z"
   },
   {
    "duration": 23,
    "start_time": "2022-08-24T11:44:17.507Z"
   },
   {
    "duration": 9,
    "start_time": "2022-08-24T11:44:17.531Z"
   },
   {
    "duration": 48,
    "start_time": "2022-08-24T11:44:17.541Z"
   },
   {
    "duration": 4,
    "start_time": "2022-08-24T11:44:17.591Z"
   },
   {
    "duration": 176,
    "start_time": "2022-08-24T11:44:17.596Z"
   },
   {
    "duration": 15,
    "start_time": "2022-08-24T11:44:17.774Z"
   },
   {
    "duration": 16,
    "start_time": "2022-08-24T11:44:17.791Z"
   },
   {
    "duration": 5,
    "start_time": "2022-08-24T11:44:17.809Z"
   },
   {
    "duration": 247,
    "start_time": "2022-08-24T11:44:17.816Z"
   },
   {
    "duration": 10,
    "start_time": "2022-08-24T11:44:18.064Z"
   },
   {
    "duration": 4,
    "start_time": "2022-08-24T11:44:18.085Z"
   },
   {
    "duration": 162,
    "start_time": "2022-08-24T11:44:18.091Z"
   },
   {
    "duration": 36,
    "start_time": "2022-08-24T11:44:18.255Z"
   },
   {
    "duration": 176,
    "start_time": "2022-08-24T11:44:18.292Z"
   },
   {
    "duration": 5,
    "start_time": "2022-08-24T11:44:18.471Z"
   },
   {
    "duration": 8,
    "start_time": "2022-08-24T11:44:18.485Z"
   },
   {
    "duration": 5,
    "start_time": "2022-08-24T11:44:18.494Z"
   },
   {
    "duration": 27,
    "start_time": "2022-08-24T11:44:18.500Z"
   },
   {
    "duration": 9,
    "start_time": "2022-08-24T11:44:18.528Z"
   },
   {
    "duration": 56,
    "start_time": "2022-08-24T11:44:18.538Z"
   },
   {
    "duration": 10,
    "start_time": "2022-08-24T11:44:18.595Z"
   },
   {
    "duration": 31,
    "start_time": "2022-08-24T11:44:18.606Z"
   },
   {
    "duration": 7,
    "start_time": "2022-08-24T11:44:18.639Z"
   },
   {
    "duration": 9,
    "start_time": "2022-08-24T11:44:18.647Z"
   },
   {
    "duration": 34,
    "start_time": "2022-08-24T11:44:18.657Z"
   },
   {
    "duration": 1395,
    "start_time": "2022-08-24T11:44:18.692Z"
   },
   {
    "duration": 13,
    "start_time": "2022-08-24T11:44:20.089Z"
   },
   {
    "duration": 11,
    "start_time": "2022-08-24T11:44:20.104Z"
   },
   {
    "duration": 3,
    "start_time": "2022-08-24T11:44:20.117Z"
   },
   {
    "duration": 7,
    "start_time": "2022-08-24T11:44:20.122Z"
   },
   {
    "duration": 20,
    "start_time": "2022-08-24T11:44:20.131Z"
   },
   {
    "duration": 36,
    "start_time": "2022-08-24T11:44:20.153Z"
   },
   {
    "duration": 14,
    "start_time": "2022-08-24T11:44:20.190Z"
   },
   {
    "duration": 19,
    "start_time": "2022-08-24T11:44:20.205Z"
   },
   {
    "duration": 23,
    "start_time": "2022-08-24T11:44:20.226Z"
   },
   {
    "duration": 0,
    "start_time": "2022-08-24T11:44:20.250Z"
   },
   {
    "duration": 0,
    "start_time": "2022-08-24T11:44:20.251Z"
   },
   {
    "duration": 0,
    "start_time": "2022-08-24T11:44:20.252Z"
   },
   {
    "duration": 0,
    "start_time": "2022-08-24T11:44:20.253Z"
   },
   {
    "duration": 0,
    "start_time": "2022-08-24T11:44:20.284Z"
   },
   {
    "duration": 0,
    "start_time": "2022-08-24T11:44:20.286Z"
   },
   {
    "duration": 0,
    "start_time": "2022-08-24T11:44:20.287Z"
   },
   {
    "duration": 0,
    "start_time": "2022-08-24T11:44:20.287Z"
   },
   {
    "duration": 0,
    "start_time": "2022-08-24T11:44:20.288Z"
   },
   {
    "duration": 0,
    "start_time": "2022-08-24T11:44:20.289Z"
   },
   {
    "duration": 0,
    "start_time": "2022-08-24T11:44:20.290Z"
   },
   {
    "duration": 0,
    "start_time": "2022-08-24T11:44:20.291Z"
   },
   {
    "duration": 0,
    "start_time": "2022-08-24T11:44:20.292Z"
   },
   {
    "duration": 0,
    "start_time": "2022-08-24T11:44:20.293Z"
   },
   {
    "duration": 0,
    "start_time": "2022-08-24T11:44:20.294Z"
   },
   {
    "duration": 0,
    "start_time": "2022-08-24T11:44:20.295Z"
   },
   {
    "duration": 0,
    "start_time": "2022-08-24T11:44:20.296Z"
   },
   {
    "duration": 0,
    "start_time": "2022-08-24T11:44:20.297Z"
   },
   {
    "duration": 0,
    "start_time": "2022-08-24T11:44:20.298Z"
   },
   {
    "duration": 0,
    "start_time": "2022-08-24T11:44:20.299Z"
   },
   {
    "duration": 0,
    "start_time": "2022-08-24T11:44:20.300Z"
   },
   {
    "duration": 0,
    "start_time": "2022-08-24T11:44:20.301Z"
   },
   {
    "duration": 0,
    "start_time": "2022-08-24T11:44:20.302Z"
   },
   {
    "duration": 21,
    "start_time": "2022-08-24T11:44:41.173Z"
   },
   {
    "duration": 567,
    "start_time": "2022-08-24T11:44:55.939Z"
   },
   {
    "duration": 1969,
    "start_time": "2022-08-24T11:44:56.507Z"
   },
   {
    "duration": 25,
    "start_time": "2022-08-24T11:44:58.477Z"
   },
   {
    "duration": 7,
    "start_time": "2022-08-24T11:44:58.504Z"
   },
   {
    "duration": 8,
    "start_time": "2022-08-24T11:44:58.513Z"
   },
   {
    "duration": 105,
    "start_time": "2022-08-24T11:44:58.523Z"
   },
   {
    "duration": 21,
    "start_time": "2022-08-24T11:44:58.631Z"
   },
   {
    "duration": 9,
    "start_time": "2022-08-24T11:44:58.653Z"
   },
   {
    "duration": 44,
    "start_time": "2022-08-24T11:44:58.664Z"
   },
   {
    "duration": 21,
    "start_time": "2022-08-24T11:44:58.709Z"
   },
   {
    "duration": 9,
    "start_time": "2022-08-24T11:44:58.731Z"
   },
   {
    "duration": 48,
    "start_time": "2022-08-24T11:44:58.742Z"
   },
   {
    "duration": 4,
    "start_time": "2022-08-24T11:44:58.792Z"
   },
   {
    "duration": 197,
    "start_time": "2022-08-24T11:44:58.799Z"
   },
   {
    "duration": 8,
    "start_time": "2022-08-24T11:44:58.998Z"
   },
   {
    "duration": 13,
    "start_time": "2022-08-24T11:44:59.007Z"
   },
   {
    "duration": 5,
    "start_time": "2022-08-24T11:44:59.021Z"
   },
   {
    "duration": 265,
    "start_time": "2022-08-24T11:44:59.027Z"
   },
   {
    "duration": 10,
    "start_time": "2022-08-24T11:44:59.293Z"
   },
   {
    "duration": 4,
    "start_time": "2022-08-24T11:44:59.304Z"
   },
   {
    "duration": 187,
    "start_time": "2022-08-24T11:44:59.310Z"
   },
   {
    "duration": 20,
    "start_time": "2022-08-24T11:44:59.498Z"
   },
   {
    "duration": 188,
    "start_time": "2022-08-24T11:44:59.519Z"
   },
   {
    "duration": 4,
    "start_time": "2022-08-24T11:44:59.709Z"
   },
   {
    "duration": 11,
    "start_time": "2022-08-24T11:44:59.714Z"
   },
   {
    "duration": 4,
    "start_time": "2022-08-24T11:44:59.726Z"
   },
   {
    "duration": 30,
    "start_time": "2022-08-24T11:44:59.731Z"
   },
   {
    "duration": 27,
    "start_time": "2022-08-24T11:44:59.763Z"
   },
   {
    "duration": 106,
    "start_time": "2022-08-24T11:44:59.791Z"
   },
   {
    "duration": 9,
    "start_time": "2022-08-24T11:44:59.898Z"
   },
   {
    "duration": 34,
    "start_time": "2022-08-24T11:44:59.909Z"
   },
   {
    "duration": 6,
    "start_time": "2022-08-24T11:44:59.945Z"
   },
   {
    "duration": 33,
    "start_time": "2022-08-24T11:44:59.952Z"
   },
   {
    "duration": 15,
    "start_time": "2022-08-24T11:44:59.986Z"
   },
   {
    "duration": 1402,
    "start_time": "2022-08-24T11:45:00.002Z"
   },
   {
    "duration": 13,
    "start_time": "2022-08-24T11:45:01.406Z"
   },
   {
    "duration": 24,
    "start_time": "2022-08-24T11:45:01.421Z"
   },
   {
    "duration": 16,
    "start_time": "2022-08-24T11:45:01.447Z"
   },
   {
    "duration": 40,
    "start_time": "2022-08-24T11:45:01.465Z"
   },
   {
    "duration": 38,
    "start_time": "2022-08-24T11:45:01.506Z"
   },
   {
    "duration": 6,
    "start_time": "2022-08-24T11:45:01.547Z"
   },
   {
    "duration": 18,
    "start_time": "2022-08-24T11:45:01.554Z"
   },
   {
    "duration": 27,
    "start_time": "2022-08-24T11:45:01.573Z"
   },
   {
    "duration": 25,
    "start_time": "2022-08-24T11:45:01.602Z"
   },
   {
    "duration": 187,
    "start_time": "2022-08-24T11:45:01.629Z"
   },
   {
    "duration": 150,
    "start_time": "2022-08-24T11:45:01.817Z"
   },
   {
    "duration": 137,
    "start_time": "2022-08-24T11:45:01.968Z"
   },
   {
    "duration": 156,
    "start_time": "2022-08-24T11:45:02.106Z"
   },
   {
    "duration": 150,
    "start_time": "2022-08-24T11:45:02.264Z"
   },
   {
    "duration": 133,
    "start_time": "2022-08-24T11:45:02.415Z"
   },
   {
    "duration": 139,
    "start_time": "2022-08-24T11:45:02.549Z"
   },
   {
    "duration": 130,
    "start_time": "2022-08-24T11:45:02.689Z"
   },
   {
    "duration": 165,
    "start_time": "2022-08-24T11:45:02.820Z"
   },
   {
    "duration": 131,
    "start_time": "2022-08-24T11:45:02.986Z"
   },
   {
    "duration": 136,
    "start_time": "2022-08-24T11:45:03.118Z"
   },
   {
    "duration": 156,
    "start_time": "2022-08-24T11:45:03.255Z"
   },
   {
    "duration": 343,
    "start_time": "2022-08-24T11:45:03.413Z"
   },
   {
    "duration": 136,
    "start_time": "2022-08-24T11:45:03.757Z"
   },
   {
    "duration": 11,
    "start_time": "2022-08-24T11:45:03.894Z"
   },
   {
    "duration": 44,
    "start_time": "2022-08-24T11:45:03.906Z"
   },
   {
    "duration": 382,
    "start_time": "2022-08-24T11:45:03.951Z"
   },
   {
    "duration": 439,
    "start_time": "2022-08-24T11:45:04.335Z"
   },
   {
    "duration": 253,
    "start_time": "2022-08-24T11:45:04.776Z"
   },
   {
    "duration": 7,
    "start_time": "2022-08-24T11:45:05.031Z"
   },
   {
    "duration": 27,
    "start_time": "2022-08-24T11:45:05.039Z"
   },
   {
    "duration": 3,
    "start_time": "2022-08-24T11:45:05.067Z"
   },
   {
    "duration": 191,
    "start_time": "2022-08-24T11:45:05.086Z"
   },
   {
    "duration": 173,
    "start_time": "2022-08-24T11:47:13.525Z"
   },
   {
    "duration": 162,
    "start_time": "2022-08-24T11:47:59.119Z"
   },
   {
    "duration": 250,
    "start_time": "2022-08-24T11:48:59.433Z"
   },
   {
    "duration": 181,
    "start_time": "2022-08-24T11:50:24.949Z"
   },
   {
    "duration": 60,
    "start_time": "2022-08-24T11:50:29.789Z"
   },
   {
    "duration": 188,
    "start_time": "2022-08-24T11:50:33.484Z"
   },
   {
    "duration": 180,
    "start_time": "2022-08-24T11:52:32.888Z"
   },
   {
    "duration": 168,
    "start_time": "2022-08-24T11:53:50.948Z"
   },
   {
    "duration": 186,
    "start_time": "2022-08-24T11:53:58.335Z"
   },
   {
    "duration": 182,
    "start_time": "2022-08-24T11:54:09.098Z"
   },
   {
    "duration": 209,
    "start_time": "2022-08-24T11:54:25.625Z"
   },
   {
    "duration": 172,
    "start_time": "2022-08-24T11:54:51.159Z"
   },
   {
    "duration": 171,
    "start_time": "2022-08-24T11:54:57.551Z"
   },
   {
    "duration": 22,
    "start_time": "2022-08-24T11:55:18.873Z"
   },
   {
    "duration": 22,
    "start_time": "2022-08-24T11:55:21.807Z"
   },
   {
    "duration": 30,
    "start_time": "2022-08-24T11:55:25.812Z"
   },
   {
    "duration": 313,
    "start_time": "2022-08-24T11:55:36.984Z"
   },
   {
    "duration": 187,
    "start_time": "2022-08-24T11:55:41.192Z"
   },
   {
    "duration": 2,
    "start_time": "2022-08-24T12:35:55.064Z"
   },
   {
    "duration": 2,
    "start_time": "2022-08-24T12:36:03.644Z"
   },
   {
    "duration": 154,
    "start_time": "2022-08-24T12:48:53.092Z"
   },
   {
    "duration": 170,
    "start_time": "2022-08-24T12:50:49.676Z"
   },
   {
    "duration": 1145,
    "start_time": "2022-08-24T12:55:06.915Z"
   },
   {
    "duration": 133,
    "start_time": "2022-08-24T12:55:47.948Z"
   },
   {
    "duration": 154,
    "start_time": "2022-08-24T12:57:45.582Z"
   },
   {
    "duration": 145,
    "start_time": "2022-08-24T12:58:07.269Z"
   },
   {
    "duration": 364,
    "start_time": "2022-08-24T13:00:29.204Z"
   },
   {
    "duration": 265,
    "start_time": "2022-08-24T13:01:18.631Z"
   },
   {
    "duration": 279,
    "start_time": "2022-08-24T13:10:40.998Z"
   },
   {
    "duration": 259,
    "start_time": "2022-08-24T13:11:50.254Z"
   },
   {
    "duration": 254,
    "start_time": "2022-08-24T13:15:06.343Z"
   },
   {
    "duration": 48,
    "start_time": "2022-08-24T13:22:15.097Z"
   },
   {
    "duration": 46,
    "start_time": "2022-08-24T13:22:55.509Z"
   },
   {
    "duration": 15,
    "start_time": "2022-08-24T13:23:20.254Z"
   },
   {
    "duration": 13,
    "start_time": "2022-08-24T13:23:27.778Z"
   },
   {
    "duration": 10,
    "start_time": "2022-08-24T13:23:36.759Z"
   },
   {
    "duration": 12,
    "start_time": "2022-08-24T13:23:54.618Z"
   },
   {
    "duration": 12,
    "start_time": "2022-08-24T13:23:59.160Z"
   },
   {
    "duration": 40,
    "start_time": "2022-08-24T13:24:16.627Z"
   },
   {
    "duration": 9,
    "start_time": "2022-08-24T13:24:31.568Z"
   },
   {
    "duration": 35,
    "start_time": "2022-08-24T13:24:36.078Z"
   },
   {
    "duration": 38,
    "start_time": "2022-08-24T13:25:05.998Z"
   },
   {
    "duration": 11,
    "start_time": "2022-08-24T13:25:52.375Z"
   },
   {
    "duration": 25,
    "start_time": "2022-08-24T13:26:06.992Z"
   },
   {
    "duration": 413,
    "start_time": "2022-08-24T13:29:22.598Z"
   },
   {
    "duration": 600,
    "start_time": "2022-08-24T19:35:20.561Z"
   },
   {
    "duration": 1918,
    "start_time": "2022-08-24T19:35:21.163Z"
   },
   {
    "duration": 22,
    "start_time": "2022-08-24T19:35:23.082Z"
   },
   {
    "duration": 6,
    "start_time": "2022-08-24T19:35:23.106Z"
   },
   {
    "duration": 14,
    "start_time": "2022-08-24T19:35:23.114Z"
   },
   {
    "duration": 81,
    "start_time": "2022-08-24T19:35:23.129Z"
   },
   {
    "duration": 19,
    "start_time": "2022-08-24T19:35:23.211Z"
   },
   {
    "duration": 10,
    "start_time": "2022-08-24T19:35:23.231Z"
   },
   {
    "duration": 43,
    "start_time": "2022-08-24T19:35:23.243Z"
   },
   {
    "duration": 22,
    "start_time": "2022-08-24T19:35:23.289Z"
   },
   {
    "duration": 7,
    "start_time": "2022-08-24T19:35:23.313Z"
   },
   {
    "duration": 44,
    "start_time": "2022-08-24T19:35:23.322Z"
   },
   {
    "duration": 4,
    "start_time": "2022-08-24T19:35:23.367Z"
   },
   {
    "duration": 175,
    "start_time": "2022-08-24T19:35:23.373Z"
   },
   {
    "duration": 12,
    "start_time": "2022-08-24T19:35:23.550Z"
   },
   {
    "duration": 12,
    "start_time": "2022-08-24T19:35:23.563Z"
   },
   {
    "duration": 4,
    "start_time": "2022-08-24T19:35:23.577Z"
   },
   {
    "duration": 242,
    "start_time": "2022-08-24T19:35:23.583Z"
   },
   {
    "duration": 10,
    "start_time": "2022-08-24T19:35:23.827Z"
   },
   {
    "duration": 4,
    "start_time": "2022-08-24T19:35:23.838Z"
   },
   {
    "duration": 164,
    "start_time": "2022-08-24T19:35:23.857Z"
   },
   {
    "duration": 20,
    "start_time": "2022-08-24T19:35:24.022Z"
   },
   {
    "duration": 188,
    "start_time": "2022-08-24T19:35:24.043Z"
   },
   {
    "duration": 5,
    "start_time": "2022-08-24T19:35:24.232Z"
   },
   {
    "duration": 19,
    "start_time": "2022-08-24T19:35:24.238Z"
   },
   {
    "duration": 4,
    "start_time": "2022-08-24T19:35:24.259Z"
   },
   {
    "duration": 28,
    "start_time": "2022-08-24T19:35:24.264Z"
   },
   {
    "duration": 10,
    "start_time": "2022-08-24T19:35:24.380Z"
   },
   {
    "duration": 29,
    "start_time": "2022-08-24T19:35:24.392Z"
   },
   {
    "duration": 9,
    "start_time": "2022-08-24T19:35:24.423Z"
   },
   {
    "duration": 55,
    "start_time": "2022-08-24T19:35:24.433Z"
   },
   {
    "duration": 6,
    "start_time": "2022-08-24T19:35:24.490Z"
   },
   {
    "duration": 10,
    "start_time": "2022-08-24T19:35:24.498Z"
   },
   {
    "duration": 12,
    "start_time": "2022-08-24T19:35:24.510Z"
   },
   {
    "duration": 1498,
    "start_time": "2022-08-24T19:35:24.524Z"
   },
   {
    "duration": 14,
    "start_time": "2022-08-24T19:35:26.024Z"
   },
   {
    "duration": 21,
    "start_time": "2022-08-24T19:35:26.040Z"
   },
   {
    "duration": 4,
    "start_time": "2022-08-24T19:35:26.063Z"
   },
   {
    "duration": 11,
    "start_time": "2022-08-24T19:35:26.069Z"
   },
   {
    "duration": 16,
    "start_time": "2022-08-24T19:35:26.082Z"
   },
   {
    "duration": 6,
    "start_time": "2022-08-24T19:35:26.100Z"
   },
   {
    "duration": 9,
    "start_time": "2022-08-24T19:35:26.108Z"
   },
   {
    "duration": 52,
    "start_time": "2022-08-24T19:35:26.118Z"
   },
   {
    "duration": 20,
    "start_time": "2022-08-24T19:35:26.172Z"
   },
   {
    "duration": 188,
    "start_time": "2022-08-24T19:35:26.194Z"
   },
   {
    "duration": 134,
    "start_time": "2022-08-24T19:35:26.385Z"
   },
   {
    "duration": 129,
    "start_time": "2022-08-24T19:35:26.520Z"
   },
   {
    "duration": 155,
    "start_time": "2022-08-24T19:35:26.651Z"
   },
   {
    "duration": 140,
    "start_time": "2022-08-24T19:35:26.807Z"
   },
   {
    "duration": 129,
    "start_time": "2022-08-24T19:35:26.949Z"
   },
   {
    "duration": 129,
    "start_time": "2022-08-24T19:35:27.080Z"
   },
   {
    "duration": 135,
    "start_time": "2022-08-24T19:35:27.210Z"
   },
   {
    "duration": 131,
    "start_time": "2022-08-24T19:35:27.352Z"
   },
   {
    "duration": 134,
    "start_time": "2022-08-24T19:35:27.484Z"
   },
   {
    "duration": 126,
    "start_time": "2022-08-24T19:35:27.619Z"
   },
   {
    "duration": 236,
    "start_time": "2022-08-24T19:35:27.747Z"
   },
   {
    "duration": 233,
    "start_time": "2022-08-24T19:35:27.985Z"
   },
   {
    "duration": 145,
    "start_time": "2022-08-24T19:35:28.219Z"
   },
   {
    "duration": 10,
    "start_time": "2022-08-24T19:35:28.366Z"
   },
   {
    "duration": 44,
    "start_time": "2022-08-24T19:35:28.377Z"
   },
   {
    "duration": 346,
    "start_time": "2022-08-24T19:35:28.423Z"
   },
   {
    "duration": 374,
    "start_time": "2022-08-24T19:35:28.770Z"
   },
   {
    "duration": 242,
    "start_time": "2022-08-24T19:35:29.145Z"
   },
   {
    "duration": 7,
    "start_time": "2022-08-24T19:35:29.388Z"
   },
   {
    "duration": 21,
    "start_time": "2022-08-24T19:35:29.397Z"
   },
   {
    "duration": 3,
    "start_time": "2022-08-24T19:35:29.420Z"
   },
   {
    "duration": 200,
    "start_time": "2022-08-24T19:35:29.424Z"
   },
   {
    "duration": 250,
    "start_time": "2022-08-24T19:35:29.626Z"
   },
   {
    "duration": 26,
    "start_time": "2022-08-24T19:35:29.877Z"
   },
   {
    "duration": 621,
    "start_time": "2022-08-24T20:41:21.654Z"
   },
   {
    "duration": 1925,
    "start_time": "2022-08-24T20:41:22.278Z"
   },
   {
    "duration": 22,
    "start_time": "2022-08-24T20:41:24.205Z"
   },
   {
    "duration": 6,
    "start_time": "2022-08-24T20:41:24.229Z"
   },
   {
    "duration": 22,
    "start_time": "2022-08-24T20:41:24.237Z"
   },
   {
    "duration": 81,
    "start_time": "2022-08-24T20:41:24.260Z"
   },
   {
    "duration": 29,
    "start_time": "2022-08-24T20:41:24.343Z"
   },
   {
    "duration": 7,
    "start_time": "2022-08-24T20:41:24.373Z"
   },
   {
    "duration": 33,
    "start_time": "2022-08-24T20:41:24.381Z"
   },
   {
    "duration": 21,
    "start_time": "2022-08-24T20:41:24.416Z"
   },
   {
    "duration": 24,
    "start_time": "2022-08-24T20:41:24.439Z"
   },
   {
    "duration": 30,
    "start_time": "2022-08-24T20:41:24.465Z"
   },
   {
    "duration": 5,
    "start_time": "2022-08-24T20:41:24.497Z"
   },
   {
    "duration": 199,
    "start_time": "2022-08-24T20:41:24.504Z"
   },
   {
    "duration": 8,
    "start_time": "2022-08-24T20:41:24.704Z"
   },
   {
    "duration": 19,
    "start_time": "2022-08-24T20:41:24.713Z"
   },
   {
    "duration": 7,
    "start_time": "2022-08-24T20:41:24.734Z"
   },
   {
    "duration": 275,
    "start_time": "2022-08-24T20:41:24.757Z"
   },
   {
    "duration": 24,
    "start_time": "2022-08-24T20:41:25.033Z"
   },
   {
    "duration": 10,
    "start_time": "2022-08-24T20:41:25.059Z"
   },
   {
    "duration": 220,
    "start_time": "2022-08-24T20:41:25.071Z"
   },
   {
    "duration": 30,
    "start_time": "2022-08-24T20:41:25.293Z"
   },
   {
    "duration": 189,
    "start_time": "2022-08-24T20:41:25.325Z"
   },
   {
    "duration": 5,
    "start_time": "2022-08-24T20:41:25.515Z"
   },
   {
    "duration": 10,
    "start_time": "2022-08-24T20:41:25.521Z"
   },
   {
    "duration": 4,
    "start_time": "2022-08-24T20:41:25.532Z"
   },
   {
    "duration": 40,
    "start_time": "2022-08-24T20:41:25.537Z"
   },
   {
    "duration": 10,
    "start_time": "2022-08-24T20:41:25.678Z"
   },
   {
    "duration": 34,
    "start_time": "2022-08-24T20:41:25.689Z"
   },
   {
    "duration": 11,
    "start_time": "2022-08-24T20:41:25.725Z"
   },
   {
    "duration": 34,
    "start_time": "2022-08-24T20:41:25.758Z"
   },
   {
    "duration": 6,
    "start_time": "2022-08-24T20:41:25.794Z"
   },
   {
    "duration": 17,
    "start_time": "2022-08-24T20:41:25.802Z"
   },
   {
    "duration": 11,
    "start_time": "2022-08-24T20:41:25.821Z"
   },
   {
    "duration": 1406,
    "start_time": "2022-08-24T20:41:25.833Z"
   },
   {
    "duration": 21,
    "start_time": "2022-08-24T20:41:27.241Z"
   },
   {
    "duration": 11,
    "start_time": "2022-08-24T20:41:27.264Z"
   },
   {
    "duration": 4,
    "start_time": "2022-08-24T20:41:27.276Z"
   },
   {
    "duration": 9,
    "start_time": "2022-08-24T20:41:27.281Z"
   },
   {
    "duration": 15,
    "start_time": "2022-08-24T20:41:27.291Z"
   },
   {
    "duration": 5,
    "start_time": "2022-08-24T20:41:27.308Z"
   },
   {
    "duration": 7,
    "start_time": "2022-08-24T20:41:27.315Z"
   },
   {
    "duration": 44,
    "start_time": "2022-08-24T20:41:27.324Z"
   },
   {
    "duration": 21,
    "start_time": "2022-08-24T20:41:27.369Z"
   },
   {
    "duration": 183,
    "start_time": "2022-08-24T20:41:27.392Z"
   },
   {
    "duration": 142,
    "start_time": "2022-08-24T20:41:27.577Z"
   },
   {
    "duration": 145,
    "start_time": "2022-08-24T20:41:27.721Z"
   },
   {
    "duration": 160,
    "start_time": "2022-08-24T20:41:27.867Z"
   },
   {
    "duration": 155,
    "start_time": "2022-08-24T20:41:28.028Z"
   },
   {
    "duration": 136,
    "start_time": "2022-08-24T20:41:28.184Z"
   },
   {
    "duration": 130,
    "start_time": "2022-08-24T20:41:28.322Z"
   },
   {
    "duration": 125,
    "start_time": "2022-08-24T20:41:28.457Z"
   },
   {
    "duration": 148,
    "start_time": "2022-08-24T20:41:28.584Z"
   },
   {
    "duration": 131,
    "start_time": "2022-08-24T20:41:28.733Z"
   },
   {
    "duration": 126,
    "start_time": "2022-08-24T20:41:28.865Z"
   },
   {
    "duration": 248,
    "start_time": "2022-08-24T20:41:28.993Z"
   },
   {
    "duration": 268,
    "start_time": "2022-08-24T20:41:29.243Z"
   },
   {
    "duration": 144,
    "start_time": "2022-08-24T20:41:29.513Z"
   },
   {
    "duration": 10,
    "start_time": "2022-08-24T20:41:29.659Z"
   },
   {
    "duration": 44,
    "start_time": "2022-08-24T20:41:29.671Z"
   },
   {
    "duration": 365,
    "start_time": "2022-08-24T20:41:29.716Z"
   },
   {
    "duration": 376,
    "start_time": "2022-08-24T20:41:30.083Z"
   },
   {
    "duration": 258,
    "start_time": "2022-08-24T20:41:30.461Z"
   },
   {
    "duration": 7,
    "start_time": "2022-08-24T20:41:30.721Z"
   },
   {
    "duration": 35,
    "start_time": "2022-08-24T20:41:30.730Z"
   },
   {
    "duration": 4,
    "start_time": "2022-08-24T20:41:30.766Z"
   },
   {
    "duration": 194,
    "start_time": "2022-08-24T20:41:30.771Z"
   },
   {
    "duration": 265,
    "start_time": "2022-08-24T20:41:30.967Z"
   },
   {
    "duration": 38,
    "start_time": "2022-08-24T20:41:31.234Z"
   },
   {
    "duration": 6,
    "start_time": "2022-08-24T20:43:41.767Z"
   },
   {
    "duration": 6,
    "start_time": "2022-08-24T20:50:15.658Z"
   },
   {
    "duration": 72,
    "start_time": "2022-08-25T07:05:04.453Z"
   },
   {
    "duration": 775,
    "start_time": "2022-08-25T07:05:06.455Z"
   },
   {
    "duration": 340,
    "start_time": "2022-08-25T07:05:07.853Z"
   },
   {
    "duration": 97,
    "start_time": "2022-08-25T07:05:25.833Z"
   },
   {
    "duration": 33,
    "start_time": "2022-08-25T07:05:28.136Z"
   },
   {
    "duration": 2005,
    "start_time": "2022-08-25T07:05:30.603Z"
   },
   {
    "duration": 153,
    "start_time": "2022-08-25T07:05:53.934Z"
   },
   {
    "duration": 38,
    "start_time": "2022-08-25T07:06:00.530Z"
   },
   {
    "duration": 17,
    "start_time": "2022-08-25T07:07:18.691Z"
   },
   {
    "duration": 19,
    "start_time": "2022-08-25T07:07:33.118Z"
   },
   {
    "duration": 13,
    "start_time": "2022-08-25T07:07:43.206Z"
   },
   {
    "duration": 1955,
    "start_time": "2022-08-25T07:08:06.629Z"
   },
   {
    "duration": 205,
    "start_time": "2022-08-25T07:19:02.653Z"
   },
   {
    "duration": 8,
    "start_time": "2022-08-25T07:19:18.937Z"
   },
   {
    "duration": 8,
    "start_time": "2022-08-25T07:19:32.441Z"
   },
   {
    "duration": 8,
    "start_time": "2022-08-25T07:19:39.885Z"
   },
   {
    "duration": 8,
    "start_time": "2022-08-25T07:35:14.818Z"
   },
   {
    "duration": 175,
    "start_time": "2022-08-25T07:36:25.073Z"
   },
   {
    "duration": 148,
    "start_time": "2022-08-25T07:36:37.328Z"
   },
   {
    "duration": 1969,
    "start_time": "2022-08-25T07:45:02.128Z"
   },
   {
    "duration": 6,
    "start_time": "2022-08-25T07:45:14.502Z"
   },
   {
    "duration": 105,
    "start_time": "2022-08-25T07:45:14.511Z"
   },
   {
    "duration": 17,
    "start_time": "2022-08-25T07:45:14.617Z"
   },
   {
    "duration": 2053,
    "start_time": "2022-08-25T07:45:14.636Z"
   },
   {
    "duration": 19,
    "start_time": "2022-08-25T07:45:16.692Z"
   },
   {
    "duration": 8,
    "start_time": "2022-08-25T07:45:16.713Z"
   },
   {
    "duration": 16,
    "start_time": "2022-08-25T07:45:16.723Z"
   },
   {
    "duration": 125,
    "start_time": "2022-08-25T07:45:16.741Z"
   },
   {
    "duration": 22,
    "start_time": "2022-08-25T07:45:16.867Z"
   },
   {
    "duration": 26,
    "start_time": "2022-08-25T07:45:16.891Z"
   },
   {
    "duration": 49,
    "start_time": "2022-08-25T07:45:16.919Z"
   },
   {
    "duration": 19,
    "start_time": "2022-08-25T07:45:16.970Z"
   },
   {
    "duration": 13,
    "start_time": "2022-08-25T07:45:16.992Z"
   },
   {
    "duration": 39,
    "start_time": "2022-08-25T07:45:17.007Z"
   },
   {
    "duration": 14,
    "start_time": "2022-08-25T07:45:17.047Z"
   },
   {
    "duration": 212,
    "start_time": "2022-08-25T07:45:17.062Z"
   },
   {
    "duration": 11,
    "start_time": "2022-08-25T07:45:17.275Z"
   },
   {
    "duration": 23,
    "start_time": "2022-08-25T07:45:17.288Z"
   },
   {
    "duration": 24,
    "start_time": "2022-08-25T07:45:17.314Z"
   },
   {
    "duration": 277,
    "start_time": "2022-08-25T07:45:17.340Z"
   },
   {
    "duration": 11,
    "start_time": "2022-08-25T07:45:17.619Z"
   },
   {
    "duration": 24,
    "start_time": "2022-08-25T07:45:17.632Z"
   },
   {
    "duration": 178,
    "start_time": "2022-08-25T07:45:17.657Z"
   },
   {
    "duration": 21,
    "start_time": "2022-08-25T07:45:17.837Z"
   },
   {
    "duration": 249,
    "start_time": "2022-08-25T07:45:17.860Z"
   },
   {
    "duration": 6,
    "start_time": "2022-08-25T07:45:18.111Z"
   },
   {
    "duration": 43,
    "start_time": "2022-08-25T07:45:18.119Z"
   },
   {
    "duration": 19,
    "start_time": "2022-08-25T07:45:18.163Z"
   },
   {
    "duration": 59,
    "start_time": "2022-08-25T07:45:18.185Z"
   },
   {
    "duration": 9,
    "start_time": "2022-08-25T07:45:18.246Z"
   },
   {
    "duration": 75,
    "start_time": "2022-08-25T07:45:18.257Z"
   },
   {
    "duration": 10,
    "start_time": "2022-08-25T07:45:18.334Z"
   },
   {
    "duration": 53,
    "start_time": "2022-08-25T07:45:18.346Z"
   },
   {
    "duration": 10,
    "start_time": "2022-08-25T07:45:18.402Z"
   },
   {
    "duration": 35,
    "start_time": "2022-08-25T07:45:18.414Z"
   },
   {
    "duration": 30,
    "start_time": "2022-08-25T07:45:18.451Z"
   },
   {
    "duration": 1489,
    "start_time": "2022-08-25T07:45:18.485Z"
   },
   {
    "duration": 13,
    "start_time": "2022-08-25T07:45:19.975Z"
   },
   {
    "duration": 16,
    "start_time": "2022-08-25T07:45:19.990Z"
   },
   {
    "duration": 4,
    "start_time": "2022-08-25T07:45:20.007Z"
   },
   {
    "duration": 16,
    "start_time": "2022-08-25T07:45:20.013Z"
   },
   {
    "duration": 24,
    "start_time": "2022-08-25T07:45:20.031Z"
   },
   {
    "duration": 6,
    "start_time": "2022-08-25T07:45:20.056Z"
   },
   {
    "duration": 9,
    "start_time": "2022-08-25T07:45:20.085Z"
   },
   {
    "duration": 26,
    "start_time": "2022-08-25T07:45:20.096Z"
   },
   {
    "duration": 21,
    "start_time": "2022-08-25T07:45:20.124Z"
   },
   {
    "duration": 214,
    "start_time": "2022-08-25T07:45:20.147Z"
   },
   {
    "duration": 150,
    "start_time": "2022-08-25T07:45:20.362Z"
   },
   {
    "duration": 271,
    "start_time": "2022-08-25T07:45:20.514Z"
   },
   {
    "duration": 169,
    "start_time": "2022-08-25T07:45:20.786Z"
   },
   {
    "duration": 157,
    "start_time": "2022-08-25T07:45:20.957Z"
   },
   {
    "duration": 142,
    "start_time": "2022-08-25T07:45:21.117Z"
   },
   {
    "duration": 139,
    "start_time": "2022-08-25T07:45:21.260Z"
   },
   {
    "duration": 133,
    "start_time": "2022-08-25T07:45:21.401Z"
   },
   {
    "duration": 139,
    "start_time": "2022-08-25T07:45:21.536Z"
   },
   {
    "duration": 131,
    "start_time": "2022-08-25T07:45:21.684Z"
   },
   {
    "duration": 127,
    "start_time": "2022-08-25T07:45:21.816Z"
   },
   {
    "duration": 172,
    "start_time": "2022-08-25T07:45:21.945Z"
   },
   {
    "duration": 396,
    "start_time": "2022-08-25T07:46:38.112Z"
   },
   {
    "duration": 148,
    "start_time": "2022-08-25T07:47:15.602Z"
   },
   {
    "duration": 149,
    "start_time": "2022-08-25T07:52:54.302Z"
   },
   {
    "duration": 243,
    "start_time": "2022-08-25T07:53:21.042Z"
   },
   {
    "duration": 138,
    "start_time": "2022-08-25T08:24:56.609Z"
   },
   {
    "duration": 265,
    "start_time": "2022-08-25T08:27:42.736Z"
   },
   {
    "duration": 130,
    "start_time": "2022-08-25T08:27:56.773Z"
   },
   {
    "duration": 143,
    "start_time": "2022-08-25T08:28:08.162Z"
   },
   {
    "duration": 265,
    "start_time": "2022-08-25T08:34:03.884Z"
   },
   {
    "duration": 154,
    "start_time": "2022-08-25T08:34:16.166Z"
   },
   {
    "duration": 169,
    "start_time": "2022-08-25T08:34:37.581Z"
   },
   {
    "duration": 255,
    "start_time": "2022-08-25T08:34:49.013Z"
   },
   {
    "duration": 162,
    "start_time": "2022-08-25T08:34:55.810Z"
   },
   {
    "duration": 180,
    "start_time": "2022-08-25T08:35:06.081Z"
   },
   {
    "duration": 191,
    "start_time": "2022-08-25T08:35:12.753Z"
   },
   {
    "duration": 283,
    "start_time": "2022-08-25T08:35:27.045Z"
   },
   {
    "duration": 167,
    "start_time": "2022-08-25T08:35:32.093Z"
   },
   {
    "duration": 151,
    "start_time": "2022-08-25T08:35:50.608Z"
   },
   {
    "duration": 8,
    "start_time": "2022-08-25T08:36:35.325Z"
   },
   {
    "duration": 175,
    "start_time": "2022-08-25T08:42:02.573Z"
   },
   {
    "duration": 156,
    "start_time": "2022-08-25T08:42:27.747Z"
   },
   {
    "duration": 140,
    "start_time": "2022-08-25T08:44:12.656Z"
   },
   {
    "duration": 231,
    "start_time": "2022-08-25T08:44:27.515Z"
   },
   {
    "duration": 158,
    "start_time": "2022-08-25T08:44:42.815Z"
   },
   {
    "duration": 149,
    "start_time": "2022-08-25T08:45:01.662Z"
   },
   {
    "duration": 136,
    "start_time": "2022-08-25T08:45:25.888Z"
   },
   {
    "duration": 137,
    "start_time": "2022-08-25T08:45:42.116Z"
   },
   {
    "duration": 211,
    "start_time": "2022-08-25T08:45:54.417Z"
   },
   {
    "duration": 270,
    "start_time": "2022-08-25T08:46:31.205Z"
   },
   {
    "duration": 45,
    "start_time": "2022-08-25T08:50:35.878Z"
   },
   {
    "duration": 138,
    "start_time": "2022-08-25T08:50:41.740Z"
   },
   {
    "duration": 141,
    "start_time": "2022-08-25T08:50:49.059Z"
   },
   {
    "duration": 145,
    "start_time": "2022-08-25T08:51:00.411Z"
   },
   {
    "duration": 250,
    "start_time": "2022-08-25T08:51:10.648Z"
   },
   {
    "duration": 2,
    "start_time": "2022-08-25T08:52:03.300Z"
   },
   {
    "duration": 7,
    "start_time": "2022-08-25T08:52:40.485Z"
   },
   {
    "duration": 17,
    "start_time": "2022-08-25T08:52:46.430Z"
   },
   {
    "duration": 3,
    "start_time": "2022-08-25T08:52:57.059Z"
   },
   {
    "duration": 63,
    "start_time": "2022-08-25T08:53:22.721Z"
   },
   {
    "duration": 49,
    "start_time": "2022-08-25T08:58:02.295Z"
   },
   {
    "duration": 16,
    "start_time": "2022-08-25T08:58:05.516Z"
   },
   {
    "duration": 15,
    "start_time": "2022-08-25T08:58:35.202Z"
   },
   {
    "duration": 16,
    "start_time": "2022-08-25T08:58:41.347Z"
   },
   {
    "duration": 15,
    "start_time": "2022-08-25T08:59:04.904Z"
   },
   {
    "duration": 13,
    "start_time": "2022-08-25T09:00:14.846Z"
   },
   {
    "duration": 13,
    "start_time": "2022-08-25T09:00:24.720Z"
   },
   {
    "duration": 8,
    "start_time": "2022-08-25T09:04:47.101Z"
   },
   {
    "duration": 9,
    "start_time": "2022-08-25T09:04:56.797Z"
   },
   {
    "duration": 4,
    "start_time": "2022-08-25T09:05:47.964Z"
   },
   {
    "duration": 125,
    "start_time": "2022-08-25T09:06:57.452Z"
   },
   {
    "duration": 7,
    "start_time": "2022-08-25T09:07:01.257Z"
   },
   {
    "duration": 18,
    "start_time": "2022-08-25T09:07:10.540Z"
   },
   {
    "duration": 18,
    "start_time": "2022-08-25T09:07:17.061Z"
   },
   {
    "duration": 17,
    "start_time": "2022-08-25T09:07:23.002Z"
   },
   {
    "duration": 796,
    "start_time": "2022-08-25T09:07:24.912Z"
   },
   {
    "duration": 2,
    "start_time": "2022-08-25T09:07:31.094Z"
   },
   {
    "duration": 115,
    "start_time": "2022-08-25T09:07:31.099Z"
   },
   {
    "duration": 14,
    "start_time": "2022-08-25T09:07:31.216Z"
   },
   {
    "duration": 1816,
    "start_time": "2022-08-25T09:07:31.232Z"
   },
   {
    "duration": 20,
    "start_time": "2022-08-25T09:07:33.051Z"
   },
   {
    "duration": 18,
    "start_time": "2022-08-25T09:07:33.073Z"
   },
   {
    "duration": 11,
    "start_time": "2022-08-25T09:07:33.092Z"
   },
   {
    "duration": 102,
    "start_time": "2022-08-25T09:07:33.104Z"
   },
   {
    "duration": 19,
    "start_time": "2022-08-25T09:07:33.207Z"
   },
   {
    "duration": 12,
    "start_time": "2022-08-25T09:07:33.228Z"
   },
   {
    "duration": 47,
    "start_time": "2022-08-25T09:07:33.242Z"
   },
   {
    "duration": 24,
    "start_time": "2022-08-25T09:07:33.291Z"
   },
   {
    "duration": 10,
    "start_time": "2022-08-25T09:07:33.319Z"
   },
   {
    "duration": 55,
    "start_time": "2022-08-25T09:07:33.331Z"
   },
   {
    "duration": 5,
    "start_time": "2022-08-25T09:07:33.388Z"
   },
   {
    "duration": 197,
    "start_time": "2022-08-25T09:07:33.394Z"
   },
   {
    "duration": 7,
    "start_time": "2022-08-25T09:07:33.593Z"
   },
   {
    "duration": 18,
    "start_time": "2022-08-25T09:07:33.601Z"
   },
   {
    "duration": 5,
    "start_time": "2022-08-25T09:07:33.620Z"
   },
   {
    "duration": 390,
    "start_time": "2022-08-25T09:07:33.627Z"
   },
   {
    "duration": 12,
    "start_time": "2022-08-25T09:07:34.018Z"
   },
   {
    "duration": 5,
    "start_time": "2022-08-25T09:07:34.031Z"
   },
   {
    "duration": 184,
    "start_time": "2022-08-25T09:07:34.037Z"
   },
   {
    "duration": 20,
    "start_time": "2022-08-25T09:07:34.222Z"
   },
   {
    "duration": 205,
    "start_time": "2022-08-25T09:07:34.243Z"
   },
   {
    "duration": 6,
    "start_time": "2022-08-25T09:07:34.450Z"
   },
   {
    "duration": 15,
    "start_time": "2022-08-25T09:07:34.458Z"
   },
   {
    "duration": 12,
    "start_time": "2022-08-25T09:07:34.475Z"
   },
   {
    "duration": 43,
    "start_time": "2022-08-25T09:07:34.488Z"
   },
   {
    "duration": 15,
    "start_time": "2022-08-25T09:07:34.534Z"
   },
   {
    "duration": 42,
    "start_time": "2022-08-25T09:07:34.551Z"
   },
   {
    "duration": 12,
    "start_time": "2022-08-25T09:07:34.595Z"
   },
   {
    "duration": 44,
    "start_time": "2022-08-25T09:07:34.609Z"
   },
   {
    "duration": 7,
    "start_time": "2022-08-25T09:07:34.654Z"
   },
   {
    "duration": 10,
    "start_time": "2022-08-25T09:07:34.685Z"
   },
   {
    "duration": 21,
    "start_time": "2022-08-25T09:07:34.697Z"
   },
   {
    "duration": 1512,
    "start_time": "2022-08-25T09:07:34.722Z"
   },
   {
    "duration": 12,
    "start_time": "2022-08-25T09:07:36.236Z"
   },
   {
    "duration": 16,
    "start_time": "2022-08-25T09:07:36.250Z"
   },
   {
    "duration": 19,
    "start_time": "2022-08-25T09:07:36.268Z"
   },
   {
    "duration": 15,
    "start_time": "2022-08-25T09:07:36.289Z"
   },
   {
    "duration": 22,
    "start_time": "2022-08-25T09:07:36.306Z"
   },
   {
    "duration": 6,
    "start_time": "2022-08-25T09:07:36.330Z"
   },
   {
    "duration": 10,
    "start_time": "2022-08-25T09:07:36.338Z"
   },
   {
    "duration": 55,
    "start_time": "2022-08-25T09:07:36.350Z"
   },
   {
    "duration": 25,
    "start_time": "2022-08-25T09:07:36.407Z"
   },
   {
    "duration": 205,
    "start_time": "2022-08-25T09:07:36.434Z"
   },
   {
    "duration": 158,
    "start_time": "2022-08-25T09:07:36.641Z"
   },
   {
    "duration": 158,
    "start_time": "2022-08-25T09:07:36.800Z"
   },
   {
    "duration": 164,
    "start_time": "2022-08-25T09:07:36.960Z"
   },
   {
    "duration": 159,
    "start_time": "2022-08-25T09:07:37.126Z"
   },
   {
    "duration": 172,
    "start_time": "2022-08-25T09:07:37.287Z"
   },
   {
    "duration": 160,
    "start_time": "2022-08-25T09:07:37.461Z"
   },
   {
    "duration": 244,
    "start_time": "2022-08-25T09:07:37.623Z"
   },
   {
    "duration": 147,
    "start_time": "2022-08-25T09:07:37.869Z"
   },
   {
    "duration": 190,
    "start_time": "2022-08-25T09:07:38.017Z"
   },
   {
    "duration": 166,
    "start_time": "2022-08-25T09:07:38.209Z"
   },
   {
    "duration": 152,
    "start_time": "2022-08-25T09:07:38.377Z"
   },
   {
    "duration": 163,
    "start_time": "2022-08-25T09:07:38.531Z"
   },
   {
    "duration": 304,
    "start_time": "2022-08-25T09:07:38.696Z"
   },
   {
    "duration": 152,
    "start_time": "2022-08-25T09:07:39.001Z"
   },
   {
    "duration": 3,
    "start_time": "2022-08-25T09:07:39.155Z"
   },
   {
    "duration": 7,
    "start_time": "2022-08-25T09:07:39.160Z"
   },
   {
    "duration": 57,
    "start_time": "2022-08-25T09:07:39.169Z"
   },
   {
    "duration": 354,
    "start_time": "2022-08-25T09:07:39.227Z"
   },
   {
    "duration": 522,
    "start_time": "2022-08-25T09:07:39.582Z"
   },
   {
    "duration": 296,
    "start_time": "2022-08-25T09:07:40.106Z"
   },
   {
    "duration": 19,
    "start_time": "2022-08-25T09:07:40.404Z"
   },
   {
    "duration": 0,
    "start_time": "2022-08-25T09:07:40.424Z"
   },
   {
    "duration": 16,
    "start_time": "2022-08-25T09:07:57.471Z"
   },
   {
    "duration": 14,
    "start_time": "2022-08-25T09:08:23.892Z"
   },
   {
    "duration": 8,
    "start_time": "2022-08-25T09:08:27.945Z"
   },
   {
    "duration": 4,
    "start_time": "2022-08-25T09:08:38.103Z"
   },
   {
    "duration": 7,
    "start_time": "2022-08-25T09:12:02.091Z"
   },
   {
    "duration": 27,
    "start_time": "2022-08-25T09:13:05.232Z"
   },
   {
    "duration": 17,
    "start_time": "2022-08-25T09:13:24.575Z"
   },
   {
    "duration": 9,
    "start_time": "2022-08-25T09:13:27.248Z"
   },
   {
    "duration": 19,
    "start_time": "2022-08-25T09:13:52.571Z"
   },
   {
    "duration": 10,
    "start_time": "2022-08-25T09:13:53.961Z"
   },
   {
    "duration": 13,
    "start_time": "2022-08-25T09:14:20.531Z"
   },
   {
    "duration": 15,
    "start_time": "2022-08-25T09:14:26.471Z"
   },
   {
    "duration": 278,
    "start_time": "2022-08-25T09:14:49.175Z"
   },
   {
    "duration": 20,
    "start_time": "2022-08-25T09:15:03.834Z"
   },
   {
    "duration": 304,
    "start_time": "2022-08-25T09:15:18.631Z"
   },
   {
    "duration": 14,
    "start_time": "2022-08-25T09:15:26.055Z"
   },
   {
    "duration": 8,
    "start_time": "2022-08-25T09:15:33.036Z"
   },
   {
    "duration": 13,
    "start_time": "2022-08-25T09:15:40.596Z"
   },
   {
    "duration": 18,
    "start_time": "2022-08-25T09:16:25.619Z"
   },
   {
    "duration": 9,
    "start_time": "2022-08-25T09:16:44.784Z"
   },
   {
    "duration": 18,
    "start_time": "2022-08-25T09:17:17.927Z"
   },
   {
    "duration": 14,
    "start_time": "2022-08-25T09:17:23.092Z"
   },
   {
    "duration": 997,
    "start_time": "2022-08-25T09:17:28.476Z"
   },
   {
    "duration": 10,
    "start_time": "2022-08-25T09:17:38.906Z"
   },
   {
    "duration": 14,
    "start_time": "2022-08-25T09:17:41.701Z"
   },
   {
    "duration": 5,
    "start_time": "2022-08-25T09:18:00.171Z"
   },
   {
    "duration": 5,
    "start_time": "2022-08-25T09:18:11.014Z"
   },
   {
    "duration": 867,
    "start_time": "2022-08-25T09:18:18.844Z"
   },
   {
    "duration": 4,
    "start_time": "2022-08-25T09:18:25.041Z"
   },
   {
    "duration": 19,
    "start_time": "2022-08-25T09:19:15.497Z"
   },
   {
    "duration": 4,
    "start_time": "2022-08-25T09:19:33.651Z"
   },
   {
    "duration": 10,
    "start_time": "2022-08-25T09:19:39.899Z"
   },
   {
    "duration": 5,
    "start_time": "2022-08-25T09:21:18.250Z"
   },
   {
    "duration": 12,
    "start_time": "2022-08-25T09:21:34.433Z"
   },
   {
    "duration": 5,
    "start_time": "2022-08-25T09:22:53.350Z"
   },
   {
    "duration": 7,
    "start_time": "2022-08-25T09:23:35.106Z"
   },
   {
    "duration": 5,
    "start_time": "2022-08-25T09:23:57.279Z"
   },
   {
    "duration": 7,
    "start_time": "2022-08-25T09:23:59.579Z"
   },
   {
    "duration": 16,
    "start_time": "2022-08-25T09:24:04.419Z"
   },
   {
    "duration": 12,
    "start_time": "2022-08-25T09:24:06.983Z"
   },
   {
    "duration": 206,
    "start_time": "2022-08-25T09:24:13.830Z"
   },
   {
    "duration": 7,
    "start_time": "2022-08-25T09:24:16.899Z"
   },
   {
    "duration": 7,
    "start_time": "2022-08-25T09:24:35.883Z"
   },
   {
    "duration": 640,
    "start_time": "2022-08-25T20:02:35.520Z"
   },
   {
    "duration": 101,
    "start_time": "2022-08-25T20:02:36.162Z"
   },
   {
    "duration": 14,
    "start_time": "2022-08-25T20:02:36.265Z"
   },
   {
    "duration": 1680,
    "start_time": "2022-08-25T20:02:36.281Z"
   },
   {
    "duration": 23,
    "start_time": "2022-08-25T20:02:37.963Z"
   },
   {
    "duration": 6,
    "start_time": "2022-08-25T20:02:37.988Z"
   },
   {
    "duration": 6,
    "start_time": "2022-08-25T20:02:38.011Z"
   },
   {
    "duration": 103,
    "start_time": "2022-08-25T20:02:38.019Z"
   },
   {
    "duration": 20,
    "start_time": "2022-08-25T20:02:38.124Z"
   },
   {
    "duration": 7,
    "start_time": "2022-08-25T20:02:38.148Z"
   },
   {
    "duration": 55,
    "start_time": "2022-08-25T20:02:38.156Z"
   },
   {
    "duration": 23,
    "start_time": "2022-08-25T20:02:38.212Z"
   },
   {
    "duration": 8,
    "start_time": "2022-08-25T20:02:38.237Z"
   },
   {
    "duration": 28,
    "start_time": "2022-08-25T20:02:38.246Z"
   },
   {
    "duration": 4,
    "start_time": "2022-08-25T20:02:38.276Z"
   },
   {
    "duration": 187,
    "start_time": "2022-08-25T20:02:38.282Z"
   },
   {
    "duration": 8,
    "start_time": "2022-08-25T20:02:38.471Z"
   },
   {
    "duration": 31,
    "start_time": "2022-08-25T20:02:38.480Z"
   },
   {
    "duration": 7,
    "start_time": "2022-08-25T20:02:38.513Z"
   },
   {
    "duration": 224,
    "start_time": "2022-08-25T20:02:38.521Z"
   },
   {
    "duration": 9,
    "start_time": "2022-08-25T20:02:38.747Z"
   },
   {
    "duration": 4,
    "start_time": "2022-08-25T20:02:38.758Z"
   },
   {
    "duration": 160,
    "start_time": "2022-08-25T20:02:38.763Z"
   },
   {
    "duration": 21,
    "start_time": "2022-08-25T20:02:38.925Z"
   },
   {
    "duration": 184,
    "start_time": "2022-08-25T20:02:38.948Z"
   },
   {
    "duration": 4,
    "start_time": "2022-08-25T20:02:39.134Z"
   },
   {
    "duration": 9,
    "start_time": "2022-08-25T20:02:39.140Z"
   },
   {
    "duration": 89,
    "start_time": "2022-08-25T20:02:39.153Z"
   },
   {
    "duration": 26,
    "start_time": "2022-08-25T20:02:39.244Z"
   },
   {
    "duration": 8,
    "start_time": "2022-08-25T20:02:39.272Z"
   },
   {
    "duration": 42,
    "start_time": "2022-08-25T20:02:39.282Z"
   },
   {
    "duration": 7,
    "start_time": "2022-08-25T20:02:39.326Z"
   },
   {
    "duration": 29,
    "start_time": "2022-08-25T20:02:39.335Z"
   },
   {
    "duration": 6,
    "start_time": "2022-08-25T20:02:39.366Z"
   },
   {
    "duration": 11,
    "start_time": "2022-08-25T20:02:39.373Z"
   },
   {
    "duration": 36,
    "start_time": "2022-08-25T20:02:39.385Z"
   },
   {
    "duration": 1386,
    "start_time": "2022-08-25T20:02:39.423Z"
   },
   {
    "duration": 11,
    "start_time": "2022-08-25T20:02:40.811Z"
   },
   {
    "duration": 11,
    "start_time": "2022-08-25T20:02:40.823Z"
   },
   {
    "duration": 3,
    "start_time": "2022-08-25T20:02:40.835Z"
   },
   {
    "duration": 9,
    "start_time": "2022-08-25T20:02:40.839Z"
   },
   {
    "duration": 16,
    "start_time": "2022-08-25T20:02:40.849Z"
   },
   {
    "duration": 4,
    "start_time": "2022-08-25T20:02:40.867Z"
   },
   {
    "duration": 7,
    "start_time": "2022-08-25T20:02:40.873Z"
   },
   {
    "duration": 48,
    "start_time": "2022-08-25T20:02:40.881Z"
   },
   {
    "duration": 18,
    "start_time": "2022-08-25T20:02:40.931Z"
   },
   {
    "duration": 208,
    "start_time": "2022-08-25T20:02:40.951Z"
   },
   {
    "duration": 136,
    "start_time": "2022-08-25T20:02:41.161Z"
   },
   {
    "duration": 150,
    "start_time": "2022-08-25T20:02:41.299Z"
   },
   {
    "duration": 143,
    "start_time": "2022-08-25T20:02:41.451Z"
   },
   {
    "duration": 146,
    "start_time": "2022-08-25T20:02:41.596Z"
   },
   {
    "duration": 144,
    "start_time": "2022-08-25T20:02:41.743Z"
   },
   {
    "duration": 147,
    "start_time": "2022-08-25T20:02:41.889Z"
   },
   {
    "duration": 135,
    "start_time": "2022-08-25T20:02:42.037Z"
   },
   {
    "duration": 132,
    "start_time": "2022-08-25T20:02:42.173Z"
   },
   {
    "duration": 157,
    "start_time": "2022-08-25T20:02:42.306Z"
   },
   {
    "duration": 156,
    "start_time": "2022-08-25T20:02:42.464Z"
   },
   {
    "duration": 221,
    "start_time": "2022-08-25T20:02:42.622Z"
   },
   {
    "duration": 143,
    "start_time": "2022-08-25T20:02:42.845Z"
   },
   {
    "duration": 276,
    "start_time": "2022-08-25T20:02:42.990Z"
   },
   {
    "duration": 131,
    "start_time": "2022-08-25T20:02:43.267Z"
   },
   {
    "duration": 2,
    "start_time": "2022-08-25T20:02:43.399Z"
   },
   {
    "duration": 2,
    "start_time": "2022-08-25T20:02:43.410Z"
   },
   {
    "duration": 48,
    "start_time": "2022-08-25T20:02:43.414Z"
   },
   {
    "duration": 334,
    "start_time": "2022-08-25T20:02:43.464Z"
   },
   {
    "duration": 363,
    "start_time": "2022-08-25T20:02:43.799Z"
   },
   {
    "duration": 239,
    "start_time": "2022-08-25T20:02:44.164Z"
   },
   {
    "duration": 16,
    "start_time": "2022-08-25T20:02:44.405Z"
   },
   {
    "duration": 6,
    "start_time": "2022-08-25T20:02:44.422Z"
   },
   {
    "duration": 6,
    "start_time": "2022-08-25T20:02:44.429Z"
   },
   {
    "duration": 200,
    "start_time": "2022-08-25T20:02:44.436Z"
   },
   {
    "duration": 297,
    "start_time": "2022-08-25T20:02:44.638Z"
   },
   {
    "duration": 25,
    "start_time": "2022-08-25T20:02:44.937Z"
   },
   {
    "duration": 595,
    "start_time": "2022-08-25T20:03:24.152Z"
   },
   {
    "duration": 101,
    "start_time": "2022-08-25T20:03:24.749Z"
   },
   {
    "duration": 14,
    "start_time": "2022-08-25T20:03:24.852Z"
   },
   {
    "duration": 1688,
    "start_time": "2022-08-25T20:03:24.867Z"
   },
   {
    "duration": 22,
    "start_time": "2022-08-25T20:03:26.557Z"
   },
   {
    "duration": 6,
    "start_time": "2022-08-25T20:03:26.581Z"
   },
   {
    "duration": 23,
    "start_time": "2022-08-25T20:03:26.588Z"
   },
   {
    "duration": 90,
    "start_time": "2022-08-25T20:03:26.613Z"
   },
   {
    "duration": 19,
    "start_time": "2022-08-25T20:03:26.711Z"
   },
   {
    "duration": 13,
    "start_time": "2022-08-25T20:03:26.732Z"
   },
   {
    "duration": 34,
    "start_time": "2022-08-25T20:03:26.746Z"
   },
   {
    "duration": 34,
    "start_time": "2022-08-25T20:03:26.782Z"
   },
   {
    "duration": 8,
    "start_time": "2022-08-25T20:03:26.818Z"
   },
   {
    "duration": 28,
    "start_time": "2022-08-25T20:03:26.827Z"
   },
   {
    "duration": 5,
    "start_time": "2022-08-25T20:03:26.856Z"
   },
   {
    "duration": 174,
    "start_time": "2022-08-25T20:03:26.862Z"
   },
   {
    "duration": 6,
    "start_time": "2022-08-25T20:03:27.038Z"
   },
   {
    "duration": 15,
    "start_time": "2022-08-25T20:03:27.045Z"
   },
   {
    "duration": 5,
    "start_time": "2022-08-25T20:03:27.061Z"
   },
   {
    "duration": 229,
    "start_time": "2022-08-25T20:03:27.068Z"
   },
   {
    "duration": 15,
    "start_time": "2022-08-25T20:03:27.299Z"
   },
   {
    "duration": 5,
    "start_time": "2022-08-25T20:03:27.315Z"
   },
   {
    "duration": 154,
    "start_time": "2022-08-25T20:03:27.321Z"
   },
   {
    "duration": 20,
    "start_time": "2022-08-25T20:03:27.477Z"
   },
   {
    "duration": 173,
    "start_time": "2022-08-25T20:03:27.499Z"
   },
   {
    "duration": 4,
    "start_time": "2022-08-25T20:03:27.674Z"
   },
   {
    "duration": 17,
    "start_time": "2022-08-25T20:03:27.679Z"
   },
   {
    "duration": 77,
    "start_time": "2022-08-25T20:03:27.700Z"
   },
   {
    "duration": 34,
    "start_time": "2022-08-25T20:03:27.778Z"
   },
   {
    "duration": 10,
    "start_time": "2022-08-25T20:03:27.813Z"
   },
   {
    "duration": 25,
    "start_time": "2022-08-25T20:03:27.824Z"
   },
   {
    "duration": 8,
    "start_time": "2022-08-25T20:03:27.851Z"
   },
   {
    "duration": 55,
    "start_time": "2022-08-25T20:03:27.860Z"
   },
   {
    "duration": 6,
    "start_time": "2022-08-25T20:03:27.917Z"
   },
   {
    "duration": 10,
    "start_time": "2022-08-25T20:03:27.924Z"
   },
   {
    "duration": 13,
    "start_time": "2022-08-25T20:03:27.935Z"
   },
   {
    "duration": 1354,
    "start_time": "2022-08-25T20:03:27.950Z"
   },
   {
    "duration": 12,
    "start_time": "2022-08-25T20:03:29.306Z"
   },
   {
    "duration": 9,
    "start_time": "2022-08-25T20:03:29.320Z"
   },
   {
    "duration": 13,
    "start_time": "2022-08-25T20:03:29.331Z"
   },
   {
    "duration": 16,
    "start_time": "2022-08-25T20:03:29.346Z"
   },
   {
    "duration": 29,
    "start_time": "2022-08-25T20:03:29.364Z"
   },
   {
    "duration": 11,
    "start_time": "2022-08-25T20:03:29.395Z"
   },
   {
    "duration": 11,
    "start_time": "2022-08-25T20:03:29.407Z"
   },
   {
    "duration": 19,
    "start_time": "2022-08-25T20:03:29.420Z"
   },
   {
    "duration": 20,
    "start_time": "2022-08-25T20:03:29.441Z"
   },
   {
    "duration": 201,
    "start_time": "2022-08-25T20:03:29.463Z"
   },
   {
    "duration": 138,
    "start_time": "2022-08-25T20:03:29.665Z"
   },
   {
    "duration": 149,
    "start_time": "2022-08-25T20:03:29.804Z"
   },
   {
    "duration": 134,
    "start_time": "2022-08-25T20:03:29.954Z"
   },
   {
    "duration": 146,
    "start_time": "2022-08-25T20:03:30.089Z"
   },
   {
    "duration": 149,
    "start_time": "2022-08-25T20:03:30.236Z"
   },
   {
    "duration": 141,
    "start_time": "2022-08-25T20:03:30.386Z"
   },
   {
    "duration": 137,
    "start_time": "2022-08-25T20:03:30.529Z"
   },
   {
    "duration": 136,
    "start_time": "2022-08-25T20:03:30.667Z"
   },
   {
    "duration": 144,
    "start_time": "2022-08-25T20:03:30.805Z"
   },
   {
    "duration": 137,
    "start_time": "2022-08-25T20:03:30.951Z"
   },
   {
    "duration": 202,
    "start_time": "2022-08-25T20:03:31.090Z"
   },
   {
    "duration": 150,
    "start_time": "2022-08-25T20:03:31.294Z"
   },
   {
    "duration": 305,
    "start_time": "2022-08-25T20:03:31.446Z"
   },
   {
    "duration": 144,
    "start_time": "2022-08-25T20:03:31.753Z"
   },
   {
    "duration": 11,
    "start_time": "2022-08-25T20:03:31.899Z"
   },
   {
    "duration": 15,
    "start_time": "2022-08-25T20:03:31.912Z"
   },
   {
    "duration": 47,
    "start_time": "2022-08-25T20:03:31.929Z"
   },
   {
    "duration": 319,
    "start_time": "2022-08-25T20:03:31.977Z"
   },
   {
    "duration": 412,
    "start_time": "2022-08-25T20:03:32.297Z"
   },
   {
    "duration": 246,
    "start_time": "2022-08-25T20:03:32.711Z"
   },
   {
    "duration": 12,
    "start_time": "2022-08-25T20:03:32.959Z"
   },
   {
    "duration": 28,
    "start_time": "2022-08-25T20:03:32.974Z"
   },
   {
    "duration": 7,
    "start_time": "2022-08-25T20:03:33.003Z"
   },
   {
    "duration": 179,
    "start_time": "2022-08-25T20:03:33.011Z"
   },
   {
    "duration": 290,
    "start_time": "2022-08-25T20:03:33.192Z"
   },
   {
    "duration": 34,
    "start_time": "2022-08-25T20:03:33.484Z"
   },
   {
    "duration": 586,
    "start_time": "2022-08-25T20:03:39.865Z"
   },
   {
    "duration": 98,
    "start_time": "2022-08-25T20:03:40.453Z"
   },
   {
    "duration": 13,
    "start_time": "2022-08-25T20:03:40.553Z"
   },
   {
    "duration": 1733,
    "start_time": "2022-08-25T20:03:40.568Z"
   },
   {
    "duration": 24,
    "start_time": "2022-08-25T20:03:42.304Z"
   },
   {
    "duration": 6,
    "start_time": "2022-08-25T20:03:42.330Z"
   },
   {
    "duration": 9,
    "start_time": "2022-08-25T20:03:42.337Z"
   },
   {
    "duration": 125,
    "start_time": "2022-08-25T20:03:42.348Z"
   },
   {
    "duration": 25,
    "start_time": "2022-08-25T20:03:42.475Z"
   },
   {
    "duration": 18,
    "start_time": "2022-08-25T20:03:42.511Z"
   },
   {
    "duration": 65,
    "start_time": "2022-08-25T20:03:42.531Z"
   },
   {
    "duration": 35,
    "start_time": "2022-08-25T20:03:42.598Z"
   },
   {
    "duration": 10,
    "start_time": "2022-08-25T20:03:42.635Z"
   },
   {
    "duration": 49,
    "start_time": "2022-08-25T20:03:42.646Z"
   },
   {
    "duration": 34,
    "start_time": "2022-08-25T20:03:42.697Z"
   },
   {
    "duration": 180,
    "start_time": "2022-08-25T20:03:42.732Z"
   },
   {
    "duration": 6,
    "start_time": "2022-08-25T20:03:42.913Z"
   },
   {
    "duration": 25,
    "start_time": "2022-08-25T20:03:42.921Z"
   },
   {
    "duration": 17,
    "start_time": "2022-08-25T20:03:42.947Z"
   },
   {
    "duration": 210,
    "start_time": "2022-08-25T20:03:42.965Z"
   },
   {
    "duration": 11,
    "start_time": "2022-08-25T20:03:43.176Z"
   },
   {
    "duration": 4,
    "start_time": "2022-08-25T20:03:43.188Z"
   },
   {
    "duration": 153,
    "start_time": "2022-08-25T20:03:43.194Z"
   },
   {
    "duration": 20,
    "start_time": "2022-08-25T20:03:43.348Z"
   },
   {
    "duration": 177,
    "start_time": "2022-08-25T20:03:43.369Z"
   },
   {
    "duration": 5,
    "start_time": "2022-08-25T20:03:43.547Z"
   },
   {
    "duration": 9,
    "start_time": "2022-08-25T20:03:43.553Z"
   },
   {
    "duration": 84,
    "start_time": "2022-08-25T20:03:43.566Z"
   },
   {
    "duration": 24,
    "start_time": "2022-08-25T20:03:43.651Z"
   },
   {
    "duration": 8,
    "start_time": "2022-08-25T20:03:43.677Z"
   },
   {
    "duration": 44,
    "start_time": "2022-08-25T20:03:43.687Z"
   },
   {
    "duration": 8,
    "start_time": "2022-08-25T20:03:43.733Z"
   },
   {
    "duration": 30,
    "start_time": "2022-08-25T20:03:43.743Z"
   },
   {
    "duration": 6,
    "start_time": "2022-08-25T20:03:43.774Z"
   },
   {
    "duration": 39,
    "start_time": "2022-08-25T20:03:43.781Z"
   },
   {
    "duration": 11,
    "start_time": "2022-08-25T20:03:43.822Z"
   },
   {
    "duration": 1327,
    "start_time": "2022-08-25T20:03:43.834Z"
   },
   {
    "duration": 11,
    "start_time": "2022-08-25T20:03:45.162Z"
   },
   {
    "duration": 9,
    "start_time": "2022-08-25T20:03:45.174Z"
   },
   {
    "duration": 3,
    "start_time": "2022-08-25T20:03:45.185Z"
   },
   {
    "duration": 26,
    "start_time": "2022-08-25T20:03:45.189Z"
   },
   {
    "duration": 18,
    "start_time": "2022-08-25T20:03:45.216Z"
   },
   {
    "duration": 5,
    "start_time": "2022-08-25T20:03:45.235Z"
   },
   {
    "duration": 9,
    "start_time": "2022-08-25T20:03:45.242Z"
   },
   {
    "duration": 17,
    "start_time": "2022-08-25T20:03:45.253Z"
   },
   {
    "duration": 40,
    "start_time": "2022-08-25T20:03:45.271Z"
   },
   {
    "duration": 192,
    "start_time": "2022-08-25T20:03:45.312Z"
   },
   {
    "duration": 135,
    "start_time": "2022-08-25T20:03:45.505Z"
   },
   {
    "duration": 145,
    "start_time": "2022-08-25T20:03:45.641Z"
   },
   {
    "duration": 152,
    "start_time": "2022-08-25T20:03:45.788Z"
   },
   {
    "duration": 142,
    "start_time": "2022-08-25T20:03:45.941Z"
   },
   {
    "duration": 148,
    "start_time": "2022-08-25T20:03:46.085Z"
   },
   {
    "duration": 136,
    "start_time": "2022-08-25T20:03:46.235Z"
   },
   {
    "duration": 138,
    "start_time": "2022-08-25T20:03:46.373Z"
   },
   {
    "duration": 141,
    "start_time": "2022-08-25T20:03:46.512Z"
   },
   {
    "duration": 154,
    "start_time": "2022-08-25T20:03:46.655Z"
   },
   {
    "duration": 132,
    "start_time": "2022-08-25T20:03:46.811Z"
   },
   {
    "duration": 186,
    "start_time": "2022-08-25T20:03:46.944Z"
   },
   {
    "duration": 148,
    "start_time": "2022-08-25T20:03:47.132Z"
   },
   {
    "duration": 283,
    "start_time": "2022-08-25T20:03:47.281Z"
   },
   {
    "duration": 128,
    "start_time": "2022-08-25T20:03:47.566Z"
   },
   {
    "duration": 2,
    "start_time": "2022-08-25T20:03:47.695Z"
   },
   {
    "duration": 12,
    "start_time": "2022-08-25T20:03:47.699Z"
   },
   {
    "duration": 45,
    "start_time": "2022-08-25T20:03:47.712Z"
   },
   {
    "duration": 325,
    "start_time": "2022-08-25T20:03:47.759Z"
   },
   {
    "duration": 347,
    "start_time": "2022-08-25T20:03:48.085Z"
   },
   {
    "duration": 226,
    "start_time": "2022-08-25T20:03:48.434Z"
   },
   {
    "duration": 12,
    "start_time": "2022-08-25T20:03:48.662Z"
   },
   {
    "duration": 16,
    "start_time": "2022-08-25T20:03:48.676Z"
   },
   {
    "duration": 18,
    "start_time": "2022-08-25T20:03:48.693Z"
   },
   {
    "duration": 221,
    "start_time": "2022-08-25T20:03:48.712Z"
   },
   {
    "duration": 298,
    "start_time": "2022-08-25T20:03:48.935Z"
   },
   {
    "duration": 25,
    "start_time": "2022-08-25T20:03:49.235Z"
   },
   {
    "duration": 49,
    "start_time": "2022-09-03T10:38:34.343Z"
   },
   {
    "duration": 850,
    "start_time": "2022-09-03T11:12:01.872Z"
   },
   {
    "duration": 335,
    "start_time": "2022-09-03T11:12:02.725Z"
   },
   {
    "duration": 20,
    "start_time": "2022-09-03T11:12:03.062Z"
   },
   {
    "duration": 1958,
    "start_time": "2022-09-03T11:12:03.083Z"
   },
   {
    "duration": 29,
    "start_time": "2022-09-03T11:12:05.043Z"
   },
   {
    "duration": 8,
    "start_time": "2022-09-03T11:12:05.074Z"
   },
   {
    "duration": 12,
    "start_time": "2022-09-03T11:12:05.083Z"
   },
   {
    "duration": 137,
    "start_time": "2022-09-03T11:12:05.097Z"
   },
   {
    "duration": 45,
    "start_time": "2022-09-03T11:12:05.237Z"
   },
   {
    "duration": 7,
    "start_time": "2022-09-03T11:12:05.284Z"
   },
   {
    "duration": 66,
    "start_time": "2022-09-03T11:12:05.293Z"
   },
   {
    "duration": 31,
    "start_time": "2022-09-03T11:12:05.361Z"
   },
   {
    "duration": 11,
    "start_time": "2022-09-03T11:12:05.394Z"
   },
   {
    "duration": 59,
    "start_time": "2022-09-03T11:12:05.409Z"
   },
   {
    "duration": 7,
    "start_time": "2022-09-03T11:12:05.471Z"
   },
   {
    "duration": 275,
    "start_time": "2022-09-03T11:12:05.480Z"
   },
   {
    "duration": 16,
    "start_time": "2022-09-03T11:12:05.760Z"
   },
   {
    "duration": 35,
    "start_time": "2022-09-03T11:12:05.779Z"
   },
   {
    "duration": 7,
    "start_time": "2022-09-03T11:12:05.817Z"
   },
   {
    "duration": 57,
    "start_time": "2022-09-03T11:12:05.825Z"
   },
   {
    "duration": 0,
    "start_time": "2022-09-03T11:12:05.885Z"
   },
   {
    "duration": 0,
    "start_time": "2022-09-03T11:12:05.886Z"
   },
   {
    "duration": 0,
    "start_time": "2022-09-03T11:12:05.887Z"
   },
   {
    "duration": 0,
    "start_time": "2022-09-03T11:12:05.888Z"
   },
   {
    "duration": 0,
    "start_time": "2022-09-03T11:12:05.889Z"
   },
   {
    "duration": 0,
    "start_time": "2022-09-03T11:12:05.890Z"
   },
   {
    "duration": 0,
    "start_time": "2022-09-03T11:12:05.892Z"
   },
   {
    "duration": 0,
    "start_time": "2022-09-03T11:12:05.894Z"
   },
   {
    "duration": 0,
    "start_time": "2022-09-03T11:12:05.895Z"
   },
   {
    "duration": 0,
    "start_time": "2022-09-03T11:12:05.896Z"
   },
   {
    "duration": 0,
    "start_time": "2022-09-03T11:12:05.897Z"
   },
   {
    "duration": 1,
    "start_time": "2022-09-03T11:12:05.898Z"
   },
   {
    "duration": 0,
    "start_time": "2022-09-03T11:12:05.900Z"
   },
   {
    "duration": 0,
    "start_time": "2022-09-03T11:12:05.901Z"
   },
   {
    "duration": 0,
    "start_time": "2022-09-03T11:12:05.902Z"
   },
   {
    "duration": 0,
    "start_time": "2022-09-03T11:12:05.903Z"
   },
   {
    "duration": 0,
    "start_time": "2022-09-03T11:12:05.904Z"
   },
   {
    "duration": 0,
    "start_time": "2022-09-03T11:12:05.905Z"
   },
   {
    "duration": 0,
    "start_time": "2022-09-03T11:12:05.906Z"
   },
   {
    "duration": 0,
    "start_time": "2022-09-03T11:12:05.908Z"
   },
   {
    "duration": 0,
    "start_time": "2022-09-03T11:12:05.908Z"
   },
   {
    "duration": 0,
    "start_time": "2022-09-03T11:12:05.909Z"
   },
   {
    "duration": 0,
    "start_time": "2022-09-03T11:12:05.910Z"
   },
   {
    "duration": 0,
    "start_time": "2022-09-03T11:12:05.911Z"
   },
   {
    "duration": 0,
    "start_time": "2022-09-03T11:12:05.912Z"
   },
   {
    "duration": 0,
    "start_time": "2022-09-03T11:12:05.913Z"
   },
   {
    "duration": 0,
    "start_time": "2022-09-03T11:12:05.914Z"
   },
   {
    "duration": 0,
    "start_time": "2022-09-03T11:12:05.915Z"
   },
   {
    "duration": 0,
    "start_time": "2022-09-03T11:12:05.916Z"
   },
   {
    "duration": 0,
    "start_time": "2022-09-03T11:12:05.917Z"
   },
   {
    "duration": 1,
    "start_time": "2022-09-03T11:12:05.917Z"
   },
   {
    "duration": 0,
    "start_time": "2022-09-03T11:12:05.918Z"
   },
   {
    "duration": 0,
    "start_time": "2022-09-03T11:12:05.919Z"
   },
   {
    "duration": 0,
    "start_time": "2022-09-03T11:12:05.920Z"
   },
   {
    "duration": 0,
    "start_time": "2022-09-03T11:12:05.921Z"
   },
   {
    "duration": 0,
    "start_time": "2022-09-03T11:12:05.921Z"
   },
   {
    "duration": 0,
    "start_time": "2022-09-03T11:12:05.922Z"
   },
   {
    "duration": 0,
    "start_time": "2022-09-03T11:12:05.922Z"
   },
   {
    "duration": 0,
    "start_time": "2022-09-03T11:12:05.923Z"
   },
   {
    "duration": 0,
    "start_time": "2022-09-03T11:12:05.923Z"
   },
   {
    "duration": 1,
    "start_time": "2022-09-03T11:12:05.957Z"
   },
   {
    "duration": 0,
    "start_time": "2022-09-03T11:12:05.967Z"
   },
   {
    "duration": 0,
    "start_time": "2022-09-03T11:12:05.968Z"
   },
   {
    "duration": 0,
    "start_time": "2022-09-03T11:12:05.973Z"
   },
   {
    "duration": 0,
    "start_time": "2022-09-03T11:12:05.974Z"
   },
   {
    "duration": 0,
    "start_time": "2022-09-03T11:12:05.975Z"
   },
   {
    "duration": 0,
    "start_time": "2022-09-03T11:12:05.976Z"
   },
   {
    "duration": 0,
    "start_time": "2022-09-03T11:12:05.978Z"
   },
   {
    "duration": 0,
    "start_time": "2022-09-03T11:12:05.979Z"
   },
   {
    "duration": 0,
    "start_time": "2022-09-03T11:12:05.981Z"
   },
   {
    "duration": 0,
    "start_time": "2022-09-03T11:12:05.982Z"
   },
   {
    "duration": 685,
    "start_time": "2022-09-03T11:12:44.905Z"
   },
   {
    "duration": 119,
    "start_time": "2022-09-03T11:12:45.592Z"
   },
   {
    "duration": 16,
    "start_time": "2022-09-03T11:12:45.713Z"
   },
   {
    "duration": 2002,
    "start_time": "2022-09-03T11:12:45.731Z"
   },
   {
    "duration": 30,
    "start_time": "2022-09-03T11:12:47.734Z"
   },
   {
    "duration": 10,
    "start_time": "2022-09-03T11:12:47.767Z"
   },
   {
    "duration": 7,
    "start_time": "2022-09-03T11:12:47.779Z"
   },
   {
    "duration": 94,
    "start_time": "2022-09-03T11:12:47.788Z"
   },
   {
    "duration": 20,
    "start_time": "2022-09-03T11:12:47.884Z"
   },
   {
    "duration": 10,
    "start_time": "2022-09-03T11:12:47.906Z"
   },
   {
    "duration": 45,
    "start_time": "2022-09-03T11:12:47.918Z"
   },
   {
    "duration": 24,
    "start_time": "2022-09-03T11:12:47.969Z"
   },
   {
    "duration": 8,
    "start_time": "2022-09-03T11:12:47.995Z"
   },
   {
    "duration": 27,
    "start_time": "2022-09-03T11:12:48.005Z"
   },
   {
    "duration": 4,
    "start_time": "2022-09-03T11:12:48.034Z"
   },
   {
    "duration": 182,
    "start_time": "2022-09-03T11:12:48.057Z"
   },
   {
    "duration": 21,
    "start_time": "2022-09-03T11:12:48.241Z"
   },
   {
    "duration": 27,
    "start_time": "2022-09-03T11:12:48.264Z"
   },
   {
    "duration": 6,
    "start_time": "2022-09-03T11:12:48.293Z"
   },
   {
    "duration": 241,
    "start_time": "2022-09-03T11:12:48.300Z"
   },
   {
    "duration": 28,
    "start_time": "2022-09-03T11:12:48.542Z"
   },
   {
    "duration": 4,
    "start_time": "2022-09-03T11:12:48.572Z"
   },
   {
    "duration": 170,
    "start_time": "2022-09-03T11:12:48.578Z"
   },
   {
    "duration": 35,
    "start_time": "2022-09-03T11:12:48.749Z"
   },
   {
    "duration": 191,
    "start_time": "2022-09-03T11:12:48.786Z"
   },
   {
    "duration": 5,
    "start_time": "2022-09-03T11:12:48.978Z"
   },
   {
    "duration": 10,
    "start_time": "2022-09-03T11:12:48.985Z"
   },
   {
    "duration": 108,
    "start_time": "2022-09-03T11:12:48.998Z"
   },
   {
    "duration": 26,
    "start_time": "2022-09-03T11:12:49.108Z"
   },
   {
    "duration": 33,
    "start_time": "2022-09-03T11:12:49.136Z"
   },
   {
    "duration": 32,
    "start_time": "2022-09-03T11:12:49.170Z"
   },
   {
    "duration": 10,
    "start_time": "2022-09-03T11:12:49.204Z"
   },
   {
    "duration": 56,
    "start_time": "2022-09-03T11:12:49.215Z"
   },
   {
    "duration": 9,
    "start_time": "2022-09-03T11:12:49.275Z"
   },
   {
    "duration": 10,
    "start_time": "2022-09-03T11:12:49.286Z"
   },
   {
    "duration": 13,
    "start_time": "2022-09-03T11:12:49.297Z"
   },
   {
    "duration": 1538,
    "start_time": "2022-09-03T11:12:49.311Z"
   },
   {
    "duration": 18,
    "start_time": "2022-09-03T11:12:50.851Z"
   },
   {
    "duration": 17,
    "start_time": "2022-09-03T11:12:50.876Z"
   },
   {
    "duration": 4,
    "start_time": "2022-09-03T11:12:50.895Z"
   },
   {
    "duration": 8,
    "start_time": "2022-09-03T11:12:50.900Z"
   },
   {
    "duration": 16,
    "start_time": "2022-09-03T11:12:50.910Z"
   },
   {
    "duration": 6,
    "start_time": "2022-09-03T11:12:50.927Z"
   },
   {
    "duration": 29,
    "start_time": "2022-09-03T11:12:50.935Z"
   },
   {
    "duration": 21,
    "start_time": "2022-09-03T11:12:50.966Z"
   },
   {
    "duration": 22,
    "start_time": "2022-09-03T11:12:50.989Z"
   },
   {
    "duration": 207,
    "start_time": "2022-09-03T11:12:51.013Z"
   },
   {
    "duration": 185,
    "start_time": "2022-09-03T11:12:51.222Z"
   },
   {
    "duration": 164,
    "start_time": "2022-09-03T11:12:51.409Z"
   },
   {
    "duration": 154,
    "start_time": "2022-09-03T11:12:51.575Z"
   },
   {
    "duration": 179,
    "start_time": "2022-09-03T11:12:51.730Z"
   },
   {
    "duration": 174,
    "start_time": "2022-09-03T11:12:51.911Z"
   },
   {
    "duration": 151,
    "start_time": "2022-09-03T11:12:52.086Z"
   },
   {
    "duration": 168,
    "start_time": "2022-09-03T11:12:52.239Z"
   },
   {
    "duration": 143,
    "start_time": "2022-09-03T11:12:52.408Z"
   },
   {
    "duration": 166,
    "start_time": "2022-09-03T11:12:52.557Z"
   },
   {
    "duration": 154,
    "start_time": "2022-09-03T11:12:52.724Z"
   },
   {
    "duration": 211,
    "start_time": "2022-09-03T11:12:52.880Z"
   },
   {
    "duration": 183,
    "start_time": "2022-09-03T11:12:53.092Z"
   },
   {
    "duration": 314,
    "start_time": "2022-09-03T11:12:53.277Z"
   },
   {
    "duration": 149,
    "start_time": "2022-09-03T11:12:53.593Z"
   },
   {
    "duration": 21,
    "start_time": "2022-09-03T11:12:53.744Z"
   },
   {
    "duration": 46,
    "start_time": "2022-09-03T11:12:53.766Z"
   },
   {
    "duration": 368,
    "start_time": "2022-09-03T11:12:53.814Z"
   },
   {
    "duration": 409,
    "start_time": "2022-09-03T11:12:54.184Z"
   },
   {
    "duration": 259,
    "start_time": "2022-09-03T11:12:54.595Z"
   },
   {
    "duration": 15,
    "start_time": "2022-09-03T11:12:54.859Z"
   },
   {
    "duration": 37,
    "start_time": "2022-09-03T11:12:54.876Z"
   },
   {
    "duration": 234,
    "start_time": "2022-09-03T11:12:54.915Z"
   },
   {
    "duration": 402,
    "start_time": "2022-09-03T11:12:55.151Z"
   },
   {
    "duration": 31,
    "start_time": "2022-09-03T11:12:55.558Z"
   }
  ],
  "kernelspec": {
   "display_name": "Python 3 (ipykernel)",
   "language": "python",
   "name": "python3"
  },
  "language_info": {
   "codemirror_mode": {
    "name": "ipython",
    "version": 3
   },
   "file_extension": ".py",
   "mimetype": "text/x-python",
   "name": "python",
   "nbconvert_exporter": "python",
   "pygments_lexer": "ipython3",
   "version": "3.9.5"
  },
  "toc": {
   "base_numbering": 1,
   "nav_menu": {
    "height": "116px",
    "width": "514px"
   },
   "number_sections": true,
   "sideBar": true,
   "skip_h1_title": true,
   "title_cell": "Table of Contents",
   "title_sidebar": "Contents",
   "toc_cell": false,
   "toc_position": {},
   "toc_section_display": true,
   "toc_window_display": false
  }
 },
 "nbformat": 4,
 "nbformat_minor": 2
}
